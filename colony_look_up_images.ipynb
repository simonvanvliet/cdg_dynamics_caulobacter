{
 "cells": [
  {
   "cell_type": "markdown",
   "metadata": {},
   "source": [
    "# Notebook to create overview figures of colonies\n",
    "\n",
    "For each movie, for the last frame the colony_id of each cell is plotted at the centre of the cell's location.\n",
    "This can be used to identify individual colonies in the movies for further analysis. "
   ]
  },
  {
   "cell_type": "code",
   "execution_count": 2,
   "metadata": {},
   "outputs": [],
   "source": [
    "%matplotlib inline\n",
    "%config InlineBackend.figure_format = 'retina'\n",
    "\n",
    "import numpy as np\n",
    "import pandas as pd\n",
    "\n",
    "import matplotlib\n",
    "import matplotlib.pyplot as plt\n",
    "import matplotlib.cm as cm\n",
    "matplotlib.rc(\"figure\", figsize=(10,5))\n",
    "\n",
    "import seaborn as sns\n",
    "import pathlib"
   ]
  },
  {
   "cell_type": "code",
   "execution_count": 3,
   "metadata": {},
   "outputs": [],
   "source": [
    "proj_dir = pathlib.Path(pathlib.Path.home(), 'switchdrive', 'Biozentrum', 'Andreas')\n",
    "data_dir = proj_dir / 'data_files_individual_colonies' "
   ]
  },
  {
   "cell_type": "markdown",
   "metadata": {},
   "source": [
    "## Plot overview maps Cc"
   ]
  },
  {
   "cell_type": "code",
   "execution_count": 3,
   "metadata": {},
   "outputs": [],
   "source": [
    "df_path = data_dir / 'csv_files_Cc'\n",
    "save_dir = proj_dir / 'colony_overview_images_Cc'\n",
    "file_names = [f.name for f in sorted((df_path).glob('*.csv'))]\n",
    "\n",
    "for f in file_names:\n",
    "    dname = f.replace('.csv','')\n",
    "\n",
    "    df = pd.read_csv(df_path / f)\n",
    "    df_end = df[df['frames'] == df['frames'].max().item()].reset_index(drop=True)\n",
    "\n",
    "    fig, ax = plt.subplots(figsize=(12,12))\n",
    "    sns.scatterplot(ax=ax, data=df_end, x='x_pos',y='y_pos', s=0)\n",
    "\n",
    "    for i in range(df_end.shape[0]):\n",
    "        plt.text(x=df_end.x_pos[i],y=df_end.y_pos[i],s=df_end.id_colony[i], \n",
    "            fontdict=dict(color='black',size=6))\n",
    "    ax.set_title(dname);    \n",
    "    ax.set_xlim((0,1024))\n",
    "    ax.set_ylim((0,1024))\n",
    "    ax.invert_yaxis()\n",
    "    ax.set_xticks([])\n",
    "    ax.set_yticks([])\n",
    "    ax.set_aspect(1)\n",
    "    fig.patch.set_facecolor('white')\n",
    "    fig.savefig(save_dir / (dname+'.pdf'))\n",
    "    plt.close()"
   ]
  },
  {
   "cell_type": "markdown",
   "metadata": {},
   "source": [
    "## Plot overview maps Pa"
   ]
  },
  {
   "cell_type": "code",
   "execution_count": 4,
   "metadata": {},
   "outputs": [],
   "source": [
    "df_path = data_dir / 'csv_files_Pa'\n",
    "save_dir = proj_dir / 'colony_overview_images_Pa'\n",
    "file_names = [f.name for f in sorted((df_path).glob('*.csv'))]\n",
    "\n",
    "for f in file_names:\n",
    "    dname = f.replace('.csv','')\n",
    "\n",
    "    df = pd.read_csv(df_path / f)\n",
    "    df_end = df[df['frames'] == df['frames'].max().item()].reset_index(drop=True)\n",
    "\n",
    "    fig, ax = plt.subplots(figsize=(12,12))\n",
    "    sns.scatterplot(ax=ax, data=df_end, x='x_pos',y='y_pos', s=0)\n",
    "\n",
    "    for i in range(df_end.shape[0]):\n",
    "        plt.text(x=df_end.x_pos[i],y=df_end.y_pos[i],s=df_end.id_colony[i], \n",
    "            fontdict=dict(color='black',size=6))\n",
    "    ax.set_title(dname);    \n",
    "    ax.set_xlim((0,1024))\n",
    "    ax.set_ylim((0,1024))\n",
    "    ax.invert_yaxis()\n",
    "    ax.set_xticks([])\n",
    "    ax.set_yticks([])\n",
    "    ax.set_aspect(1)\n",
    "    fig.patch.set_facecolor('white')\n",
    "    fig.savefig(save_dir / (dname+'.pdf'))\n",
    "    plt.close()"
   ]
  }
 ],
 "metadata": {
  "kernelspec": {
   "display_name": "Python 3.9.13 ('cdg_env')",
   "language": "python",
   "name": "python3"
  },
  "language_info": {
   "codemirror_mode": {
    "name": "ipython",
    "version": 3
   },
   "file_extension": ".py",
   "mimetype": "text/x-python",
   "name": "python",
   "nbconvert_exporter": "python",
   "pygments_lexer": "ipython3",
   "version": "3.9.13"
  },
  "vscode": {
   "interpreter": {
    "hash": "6f56a937569668ab65cc2fce89bf73837731fe29bf5b04beb0a684b94d597c4c"
   }
  }
 },
 "nbformat": 4,
 "nbformat_minor": 4
}
