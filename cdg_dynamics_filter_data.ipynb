{
 "cells": [
  {
   "cell_type": "markdown",
   "metadata": {},
   "source": [
    "# Data Exploration"
   ]
  },
  {
   "cell_type": "markdown",
   "metadata": {},
   "source": [
    "---"
   ]
  },
  {
   "cell_type": "markdown",
   "id": "99dcf040",
   "metadata": {},
   "source": [
    "## Import packages"
   ]
  },
  {
   "cell_type": "code",
   "execution_count": 159,
   "metadata": {},
   "outputs": [],
   "source": [
    "%matplotlib inline\n",
    "%config InlineBackend.figure_format = 'retina'\n",
    "\n",
    "import numpy as np\n",
    "import pandas as pd\n",
    "\n",
    "import matplotlib\n",
    "import matplotlib.pyplot as plt\n",
    "matplotlib.rc(\"figure\", figsize=(10,5))\n",
    "\n",
    "import seaborn as sns\n",
    "\n",
    "import pathlib"
   ]
  },
  {
   "cell_type": "markdown",
   "metadata": {},
   "source": [
    "---"
   ]
  },
  {
   "cell_type": "markdown",
   "metadata": {},
   "source": [
    "## Setup Folders\n",
    "As always we start with specifying the data paths:"
   ]
  },
  {
   "cell_type": "code",
   "execution_count": 160,
   "metadata": {},
   "outputs": [],
   "source": [
    "proj_dir = pathlib.Path(pathlib.Path.home(), 'switchdrive', 'Biozentrum', 'Andreas')\n",
    "\n",
    "processed_dir = proj_dir / 'processed'\n",
    "data_dir = proj_dir / 'output'"
   ]
  },
  {
   "cell_type": "markdown",
   "metadata": {},
   "source": [
    "---"
   ]
  },
  {
   "cell_type": "markdown",
   "metadata": {},
   "source": [
    "## Load Data\n",
    "We load the data from the last notebook;"
   ]
  },
  {
   "cell_type": "code",
   "execution_count": 161,
   "metadata": {},
   "outputs": [
    {
     "data": {
      "text/html": [
       "<div>\n",
       "<style scoped>\n",
       "    .dataframe tbody tr th:only-of-type {\n",
       "        vertical-align: middle;\n",
       "    }\n",
       "\n",
       "    .dataframe tbody tr th {\n",
       "        vertical-align: top;\n",
       "    }\n",
       "\n",
       "    .dataframe thead th {\n",
       "        text-align: right;\n",
       "    }\n",
       "</style>\n",
       "<table border=\"1\" class=\"dataframe\">\n",
       "  <thead>\n",
       "    <tr style=\"text-align: right;\">\n",
       "      <th></th>\n",
       "      <th>id_seg</th>\n",
       "      <th>id_cell</th>\n",
       "      <th>id_par</th>\n",
       "      <th>id_colony</th>\n",
       "      <th>id_d1</th>\n",
       "      <th>id_d2</th>\n",
       "      <th>id_sib</th>\n",
       "      <th>frames</th>\n",
       "      <th>new_pole</th>\n",
       "      <th>old_pole</th>\n",
       "      <th>...</th>\n",
       "      <th>fluo1</th>\n",
       "      <th>fluo2</th>\n",
       "      <th>x_pos</th>\n",
       "      <th>y_pos</th>\n",
       "      <th>generation</th>\n",
       "      <th>age</th>\n",
       "      <th>strain</th>\n",
       "      <th>movie_name</th>\n",
       "      <th>replicate</th>\n",
       "      <th>uni_id</th>\n",
       "    </tr>\n",
       "  </thead>\n",
       "  <tbody>\n",
       "    <tr>\n",
       "      <th>0</th>\n",
       "      <td>0</td>\n",
       "      <td>0</td>\n",
       "      <td>-1</td>\n",
       "      <td>0</td>\n",
       "      <td>-1</td>\n",
       "      <td>-1</td>\n",
       "      <td>-1</td>\n",
       "      <td>0</td>\n",
       "      <td>[  4 706]</td>\n",
       "      <td>[  2 706]</td>\n",
       "      <td>...</td>\n",
       "      <td>470.422222</td>\n",
       "      <td>411.577778</td>\n",
       "      <td>705.777778</td>\n",
       "      <td>2.955556</td>\n",
       "      <td>0.0</td>\n",
       "      <td>0</td>\n",
       "      <td>AKS1088</td>\n",
       "      <td>AKS1088_TL01_01</td>\n",
       "      <td>0</td>\n",
       "      <td>AKS1088-0-0</td>\n",
       "    </tr>\n",
       "    <tr>\n",
       "      <th>1</th>\n",
       "      <td>0</td>\n",
       "      <td>0</td>\n",
       "      <td>-1</td>\n",
       "      <td>0</td>\n",
       "      <td>-1</td>\n",
       "      <td>-1</td>\n",
       "      <td>-1</td>\n",
       "      <td>1</td>\n",
       "      <td>[  4 700]</td>\n",
       "      <td>[  3 700]</td>\n",
       "      <td>...</td>\n",
       "      <td>473.651163</td>\n",
       "      <td>400.348837</td>\n",
       "      <td>700.255814</td>\n",
       "      <td>2.813953</td>\n",
       "      <td>0.0</td>\n",
       "      <td>1</td>\n",
       "      <td>AKS1088</td>\n",
       "      <td>AKS1088_TL01_01</td>\n",
       "      <td>0</td>\n",
       "      <td>AKS1088-0-0</td>\n",
       "    </tr>\n",
       "    <tr>\n",
       "      <th>2</th>\n",
       "      <td>0</td>\n",
       "      <td>0</td>\n",
       "      <td>-1</td>\n",
       "      <td>0</td>\n",
       "      <td>-1</td>\n",
       "      <td>-1</td>\n",
       "      <td>-1</td>\n",
       "      <td>2</td>\n",
       "      <td>[  3 705]</td>\n",
       "      <td>[  0 699]</td>\n",
       "      <td>...</td>\n",
       "      <td>458.216216</td>\n",
       "      <td>372.648649</td>\n",
       "      <td>702.243243</td>\n",
       "      <td>2.405405</td>\n",
       "      <td>0.0</td>\n",
       "      <td>2</td>\n",
       "      <td>AKS1088</td>\n",
       "      <td>AKS1088_TL01_01</td>\n",
       "      <td>0</td>\n",
       "      <td>AKS1088-0-0</td>\n",
       "    </tr>\n",
       "    <tr>\n",
       "      <th>3</th>\n",
       "      <td>0</td>\n",
       "      <td>0</td>\n",
       "      <td>-1</td>\n",
       "      <td>0</td>\n",
       "      <td>-1</td>\n",
       "      <td>-1</td>\n",
       "      <td>-1</td>\n",
       "      <td>3</td>\n",
       "      <td>[  2 704]</td>\n",
       "      <td>[  2 703]</td>\n",
       "      <td>...</td>\n",
       "      <td>453.787879</td>\n",
       "      <td>371.757576</td>\n",
       "      <td>703.606061</td>\n",
       "      <td>2.242424</td>\n",
       "      <td>0.0</td>\n",
       "      <td>3</td>\n",
       "      <td>AKS1088</td>\n",
       "      <td>AKS1088_TL01_01</td>\n",
       "      <td>0</td>\n",
       "      <td>AKS1088-0-0</td>\n",
       "    </tr>\n",
       "    <tr>\n",
       "      <th>4</th>\n",
       "      <td>0</td>\n",
       "      <td>0</td>\n",
       "      <td>-1</td>\n",
       "      <td>0</td>\n",
       "      <td>-1</td>\n",
       "      <td>-1</td>\n",
       "      <td>-1</td>\n",
       "      <td>4</td>\n",
       "      <td>[  3 704]</td>\n",
       "      <td>[  2 704]</td>\n",
       "      <td>...</td>\n",
       "      <td>473.738095</td>\n",
       "      <td>368.166667</td>\n",
       "      <td>704.047619</td>\n",
       "      <td>2.642857</td>\n",
       "      <td>0.0</td>\n",
       "      <td>4</td>\n",
       "      <td>AKS1088</td>\n",
       "      <td>AKS1088_TL01_01</td>\n",
       "      <td>0</td>\n",
       "      <td>AKS1088-0-0</td>\n",
       "    </tr>\n",
       "  </tbody>\n",
       "</table>\n",
       "<p>5 rows × 25 columns</p>\n",
       "</div>"
      ],
      "text/plain": [
       "   id_seg  id_cell  id_par  id_colony  id_d1  id_d2  id_sib  frames  \\\n",
       "0       0        0      -1          0     -1     -1      -1       0   \n",
       "1       0        0      -1          0     -1     -1      -1       1   \n",
       "2       0        0      -1          0     -1     -1      -1       2   \n",
       "3       0        0      -1          0     -1     -1      -1       3   \n",
       "4       0        0      -1          0     -1     -1      -1       4   \n",
       "\n",
       "    new_pole   old_pole  ...       fluo1       fluo2       x_pos     y_pos  \\\n",
       "0  [  4 706]  [  2 706]  ...  470.422222  411.577778  705.777778  2.955556   \n",
       "1  [  4 700]  [  3 700]  ...  473.651163  400.348837  700.255814  2.813953   \n",
       "2  [  3 705]  [  0 699]  ...  458.216216  372.648649  702.243243  2.405405   \n",
       "3  [  2 704]  [  2 703]  ...  453.787879  371.757576  703.606061  2.242424   \n",
       "4  [  3 704]  [  2 704]  ...  473.738095  368.166667  704.047619  2.642857   \n",
       "\n",
       "   generation  age   strain       movie_name  replicate       uni_id  \n",
       "0         0.0    0  AKS1088  AKS1088_TL01_01          0  AKS1088-0-0  \n",
       "1         0.0    1  AKS1088  AKS1088_TL01_01          0  AKS1088-0-0  \n",
       "2         0.0    2  AKS1088  AKS1088_TL01_01          0  AKS1088-0-0  \n",
       "3         0.0    3  AKS1088  AKS1088_TL01_01          0  AKS1088-0-0  \n",
       "4         0.0    4  AKS1088  AKS1088_TL01_01          0  AKS1088-0-0  \n",
       "\n",
       "[5 rows x 25 columns]"
      ]
     },
     "execution_count": 161,
     "metadata": {},
     "output_type": "execute_result"
    }
   ],
   "source": [
    "#load data frame\n",
    "df_name = data_dir / 'caulobacter_combined_data.csv'\n",
    "df = pd.read_csv(df_name, index_col=0)\n",
    "\n",
    "#add unique id of cell by combining strain and replicate\n",
    "df['uni_id'] = df['strain'].map(str) + '-' + df['replicate'].map(str) + '-' + df['id_cell'].map(str)\n",
    "df.head()"
   ]
  },
  {
   "cell_type": "code",
   "execution_count": 162,
   "metadata": {},
   "outputs": [
    {
     "data": {
      "text/plain": [
       "Text(0.5, 0, 'life time of cell [frames]')"
      ]
     },
     "execution_count": 162,
     "metadata": {},
     "output_type": "execute_result"
    },
    {
     "data": {
      "image/png": "[encoded data removed]",
      "text/plain": [
       "<Figure size 720x360 with 1 Axes>"
      ]
     },
     "metadata": {
      "image/png": {
       "height": 316,
       "width": 618
      },
      "needs_background": "light"
     },
     "output_type": "display_data"
    }
   ],
   "source": [
    "#plot life time of cells\n",
    "ax = sns.histplot(data=df.groupby('uni_id').size(), bins=np.arange(50))\n",
    "ax.set_xlabel('life time of cell [frames]')"
   ]
  },
  {
   "cell_type": "markdown",
   "metadata": {},
   "source": [
    "---\n",
    "\n",
    "## Remove incomplete lineages\n",
    "\n",
    "We only consider full lineages (mothers & daughters tracked)"
   ]
  },
  {
   "cell_type": "code",
   "execution_count": 163,
   "metadata": {},
   "outputs": [
    {
     "name": "stdout",
     "output_type": "stream",
     "text": [
      "dropping 295077 lineages, 49.8% remaining\n"
     ]
    },
    {
     "data": {
      "image/png": "[encoded data removed]",
      "text/plain": [
       "<Figure size 720x360 with 1 Axes>"
      ]
     },
     "metadata": {
      "image/png": {
       "height": 316,
       "width": 618
      },
      "needs_background": "light"
     },
     "output_type": "display_data"
    }
   ],
   "source": [
    "#remove incomplete lineages\n",
    "has_mom = df[\"id_par\"] > -1\n",
    "has_d1 = df[\"id_d1\"] > -1\n",
    "has_d2 = df[\"id_d2\"] > -1\n",
    "\n",
    "df_filt1 = df.loc[has_mom & has_d1 & has_d2]\n",
    "ax = sns.histplot(data=df_filt1.groupby('uni_id').size(), bins=np.arange(50))\n",
    "ax.set_xlabel('life time of cell [frames]')\n",
    "print('dropping %i lineages, %.1f%% remaining' % (df.shape[0]-df_filt1.shape[0], df_filt1.shape[0]/df.shape[0]*100))\n"
   ]
  },
  {
   "cell_type": "markdown",
   "metadata": {},
   "source": [
    "---"
   ]
  },
  {
   "cell_type": "markdown",
   "metadata": {},
   "source": [
    "## Remove lineages that are too short\n",
    "\n",
    "We only consider lineages that are around for at least 30 minutes (7 frames)"
   ]
  },
  {
   "cell_type": "code",
   "execution_count": 164,
   "metadata": {},
   "outputs": [
    {
     "name": "stdout",
     "output_type": "stream",
     "text": [
      "dropping 11546 lineages, 47.8% remaining\n"
     ]
    },
    {
     "data": {
      "image/png": "[encoded data removed]",
      "text/plain": [
       "<Figure size 720x360 with 1 Axes>"
      ]
     },
     "metadata": {
      "image/png": {
       "height": 316,
       "width": 618
      },
      "needs_background": "light"
     },
     "output_type": "display_data"
    }
   ],
   "source": [
    "# remove lineages that are too short:\n",
    "min_num_frames = 7\n",
    "df_filt2 = df_filt1.groupby('uni_id').filter(lambda x: len(x) >= min_num_frames)\n",
    "ax = sns.histplot(data=df_filt2.groupby('uni_id').size(), bins=np.arange(50))\n",
    "ax.set_xlabel('life time of cell [frames]')\n",
    "print('dropping %i lineages, %.1f%% remaining' % (df_filt1.shape[0]-df_filt2.shape[0], df_filt2.shape[0]/df.shape[0]*100))\n"
   ]
  },
  {
   "cell_type": "markdown",
   "metadata": {},
   "source": [
    "## Filter out length inconsistencies\n",
    "\n",
    "Next we filter out lineages where the length changes too much.\n",
    "\n",
    "We calculate length change as $\\frac{l(t+\\Delta t)}{l(t)} = 2^{\\Delta t / t_d}$\n",
    "\n",
    "We allow for a max increase of 1.08 (e.q. to $t_d=45$  min), and a max decrease of 0.92."
   ]
  },
  {
   "cell_type": "code",
   "execution_count": 165,
   "metadata": {},
   "outputs": [
    {
     "data": {
      "text/plain": [
       "<AxesSubplot:xlabel='rel_dl', ylabel='Count'>"
      ]
     },
     "execution_count": 165,
     "metadata": {},
     "output_type": "execute_result"
    },
    {
     "data": {
      "image/png": "[encoded data removed]",
      "text/plain": [
       "<Figure size 864x288 with 3 Axes>"
      ]
     },
     "metadata": {
      "image/png": {
       "height": 262,
       "width": 736
      },
      "needs_background": "light"
     },
     "output_type": "display_data"
    }
   ],
   "source": [
    "#calc length change\n",
    "dl = df_filt2.groupby('uni_id')['length'].diff()\n",
    "df_filt2['rel_dl'] = (df_filt2['length'] + dl)/df_filt2['length']\n",
    "max_dl = df_filt2.groupby('uni_id')['rel_dl'].max()\n",
    "min_dl = df_filt2.groupby('uni_id')['rel_dl'].min()\n",
    "\n",
    "fig, axs = plt.subplots(1,3, figsize=(12,4))\n",
    "sns.histplot(ax=axs[0], data=df_filt2, x='rel_dl', bins=np.linspace(0.8,1.2,41))\n",
    "sns.histplot(ax=axs[1], data=max_dl, bins=np.linspace(0.8,1.2,41))\n",
    "sns.histplot(ax=axs[2], data=min_dl, bins=np.linspace(0.8,1.2,41))\n"
   ]
  },
  {
   "cell_type": "code",
   "execution_count": 166,
   "metadata": {},
   "outputs": [
    {
     "name": "stdout",
     "output_type": "stream",
     "text": [
      "dropping 76419 lineages, 34.8% remaining\n"
     ]
    }
   ],
   "source": [
    "# filter on length change\n",
    "max_dl = 1.08 #(eq. to td=45min)\n",
    "min_dl = 0.92\n",
    "\n",
    "df_filt3 = df_filt2.groupby('uni_id').filter(lambda x: (x['rel_dl'].min() > min_dl) & (x['rel_dl'].max() < max_dl))\n",
    "print('dropping %i lineages, %.1f%% remaining' % (df_filt2.shape[0]-df_filt3.shape[0], df_filt3.shape[0]/df.shape[0]*100))\n"
   ]
  },
  {
   "cell_type": "markdown",
   "metadata": {},
   "source": [
    "## Save filtered data"
   ]
  },
  {
   "cell_type": "code",
   "execution_count": 167,
   "metadata": {},
   "outputs": [],
   "source": [
    "out_name = processed_dir / 'caulobacter_combined_filtered_data.csv'\n",
    "df_filt3.to_csv(out_name)"
   ]
  },
  {
   "cell_type": "markdown",
   "metadata": {},
   "source": [
    "## Analyze statistics"
   ]
  },
  {
   "cell_type": "code",
   "execution_count": 168,
   "metadata": {},
   "outputs": [
    {
     "data": {
      "text/plain": [
       "Text(0.5, 0, 'number of lineages per move')"
      ]
     },
     "execution_count": 168,
     "metadata": {},
     "output_type": "execute_result"
    },
    {
     "data": {
      "image/png": "[encoded data removed]",
      "text/plain": [
       "<Figure size 720x360 with 1 Axes>"
      ]
     },
     "metadata": {
      "image/png": {
       "height": 316,
       "width": 615
      },
      "needs_background": "light"
     },
     "output_type": "display_data"
    }
   ],
   "source": [
    "first_frame = df_filt3.groupby('uni_id').first()\n",
    "num_lin_per_exp =first_frame.groupby('movie_name').size()\n",
    "\n",
    "\n",
    "ax = sns.histplot(num_lin_per_exp, bins=np.linspace(0,500,21))\n",
    "ax.set_xlabel('number of lineages per move')"
   ]
  },
  {
   "cell_type": "code",
   "execution_count": 169,
   "metadata": {},
   "outputs": [
    {
     "data": {
      "text/plain": [
       "strain\n",
       "AKS1088     818\n",
       "AKS1089     545\n",
       "AKS1090     971\n",
       "AKS1091    1378\n",
       "AKS1092    1760\n",
       "AKS1093     508\n",
       "AKS1094     394\n",
       "AKS1095     523\n",
       "AKS1096     779\n",
       "AKS1097     456\n",
       "AKS1098     417\n",
       "AKS1099     455\n",
       "AKS1101     512\n",
       "AKS1102     265\n",
       "AKS1103     493\n",
       "AKS1104     303\n",
       "AKS1105     274\n",
       "AKS1106     414\n",
       "dtype: int64"
      ]
     },
     "execution_count": 169,
     "metadata": {},
     "output_type": "execute_result"
    }
   ],
   "source": [
    "num_lin_per_strain =first_frame.groupby('strain').size()\n",
    "num_lin_per_strain.head(n=18)\n"
   ]
  },
  {
   "cell_type": "code",
   "execution_count": 170,
   "metadata": {},
   "outputs": [
    {
     "data": {
      "text/plain": [
       "<AxesSubplot:xlabel='strain'>"
      ]
     },
     "execution_count": 170,
     "metadata": {},
     "output_type": "execute_result"
    },
    {
     "data": {
      "image/png": "[encoded data removed]",
      "text/plain": [
       "<Figure size 720x360 with 1 Axes>"
      ]
     },
     "metadata": {
      "image/png": {
       "height": 351,
       "width": 604
      },
      "needs_background": "light"
     },
     "output_type": "display_data"
    }
   ],
   "source": [
    "num_lin_per_strain.plot(kind='bar')"
   ]
  },
  {
   "cell_type": "markdown",
   "metadata": {},
   "source": [
    "## Filter out cells for which we also have a sibling"
   ]
  },
  {
   "cell_type": "code",
   "execution_count": 171,
   "metadata": {},
   "outputs": [
    {
     "data": {
      "text/html": [
       "<div>\n",
       "<style scoped>\n",
       "    .dataframe tbody tr th:only-of-type {\n",
       "        vertical-align: middle;\n",
       "    }\n",
       "\n",
       "    .dataframe tbody tr th {\n",
       "        vertical-align: top;\n",
       "    }\n",
       "\n",
       "    .dataframe thead th {\n",
       "        text-align: right;\n",
       "    }\n",
       "</style>\n",
       "<table border=\"1\" class=\"dataframe\">\n",
       "  <thead>\n",
       "    <tr style=\"text-align: right;\">\n",
       "      <th></th>\n",
       "      <th>id_seg</th>\n",
       "      <th>id_cell</th>\n",
       "      <th>id_par</th>\n",
       "      <th>id_colony</th>\n",
       "      <th>id_d1</th>\n",
       "      <th>id_d2</th>\n",
       "      <th>id_sib</th>\n",
       "      <th>frames</th>\n",
       "      <th>new_pole</th>\n",
       "      <th>old_pole</th>\n",
       "      <th>...</th>\n",
       "      <th>fluo2</th>\n",
       "      <th>x_pos</th>\n",
       "      <th>y_pos</th>\n",
       "      <th>generation</th>\n",
       "      <th>age</th>\n",
       "      <th>strain</th>\n",
       "      <th>movie_name</th>\n",
       "      <th>replicate</th>\n",
       "      <th>uni_id</th>\n",
       "      <th>rel_dl</th>\n",
       "    </tr>\n",
       "  </thead>\n",
       "  <tbody>\n",
       "    <tr>\n",
       "      <th>156</th>\n",
       "      <td>3</td>\n",
       "      <td>7</td>\n",
       "      <td>6</td>\n",
       "      <td>3</td>\n",
       "      <td>8</td>\n",
       "      <td>430</td>\n",
       "      <td>236</td>\n",
       "      <td>3</td>\n",
       "      <td>[14 55]</td>\n",
       "      <td>[14 74]</td>\n",
       "      <td>...</td>\n",
       "      <td>494.236686</td>\n",
       "      <td>65.923077</td>\n",
       "      <td>13.449704</td>\n",
       "      <td>1.0</td>\n",
       "      <td>0</td>\n",
       "      <td>AKS1088</td>\n",
       "      <td>AKS1088_TL01_01</td>\n",
       "      <td>0</td>\n",
       "      <td>AKS1088-0-7</td>\n",
       "      <td>NaN</td>\n",
       "    </tr>\n",
       "    <tr>\n",
       "      <th>157</th>\n",
       "      <td>3</td>\n",
       "      <td>7</td>\n",
       "      <td>6</td>\n",
       "      <td>3</td>\n",
       "      <td>8</td>\n",
       "      <td>430</td>\n",
       "      <td>236</td>\n",
       "      <td>4</td>\n",
       "      <td>[14 55]</td>\n",
       "      <td>[15 78]</td>\n",
       "      <td>...</td>\n",
       "      <td>493.152542</td>\n",
       "      <td>66.677966</td>\n",
       "      <td>14.203390</td>\n",
       "      <td>1.0</td>\n",
       "      <td>1</td>\n",
       "      <td>AKS1088</td>\n",
       "      <td>AKS1088_TL01_01</td>\n",
       "      <td>0</td>\n",
       "      <td>AKS1088-0-7</td>\n",
       "      <td>1.035281</td>\n",
       "    </tr>\n",
       "    <tr>\n",
       "      <th>158</th>\n",
       "      <td>3</td>\n",
       "      <td>7</td>\n",
       "      <td>6</td>\n",
       "      <td>3</td>\n",
       "      <td>8</td>\n",
       "      <td>430</td>\n",
       "      <td>236</td>\n",
       "      <td>5</td>\n",
       "      <td>[16 52]</td>\n",
       "      <td>[18 79]</td>\n",
       "      <td>...</td>\n",
       "      <td>493.712707</td>\n",
       "      <td>65.585635</td>\n",
       "      <td>15.701657</td>\n",
       "      <td>1.0</td>\n",
       "      <td>2</td>\n",
       "      <td>AKS1088</td>\n",
       "      <td>AKS1088_TL01_01</td>\n",
       "      <td>0</td>\n",
       "      <td>AKS1088-0-7</td>\n",
       "      <td>1.072101</td>\n",
       "    </tr>\n",
       "    <tr>\n",
       "      <th>159</th>\n",
       "      <td>3</td>\n",
       "      <td>7</td>\n",
       "      <td>6</td>\n",
       "      <td>3</td>\n",
       "      <td>8</td>\n",
       "      <td>430</td>\n",
       "      <td>236</td>\n",
       "      <td>6</td>\n",
       "      <td>[15 53]</td>\n",
       "      <td>[18 79]</td>\n",
       "      <td>...</td>\n",
       "      <td>498.333333</td>\n",
       "      <td>65.446237</td>\n",
       "      <td>15.521505</td>\n",
       "      <td>1.0</td>\n",
       "      <td>3</td>\n",
       "      <td>AKS1088</td>\n",
       "      <td>AKS1088_TL01_01</td>\n",
       "      <td>0</td>\n",
       "      <td>AKS1088-0-7</td>\n",
       "      <td>1.002187</td>\n",
       "    </tr>\n",
       "    <tr>\n",
       "      <th>160</th>\n",
       "      <td>3</td>\n",
       "      <td>7</td>\n",
       "      <td>6</td>\n",
       "      <td>3</td>\n",
       "      <td>8</td>\n",
       "      <td>430</td>\n",
       "      <td>236</td>\n",
       "      <td>7</td>\n",
       "      <td>[16 55]</td>\n",
       "      <td>[18 76]</td>\n",
       "      <td>...</td>\n",
       "      <td>495.578680</td>\n",
       "      <td>65.487310</td>\n",
       "      <td>16.309645</td>\n",
       "      <td>1.0</td>\n",
       "      <td>4</td>\n",
       "      <td>AKS1088</td>\n",
       "      <td>AKS1088_TL01_01</td>\n",
       "      <td>0</td>\n",
       "      <td>AKS1088-0-7</td>\n",
       "      <td>1.034236</td>\n",
       "    </tr>\n",
       "  </tbody>\n",
       "</table>\n",
       "<p>5 rows × 26 columns</p>\n",
       "</div>"
      ],
      "text/plain": [
       "     id_seg  id_cell  id_par  id_colony  id_d1  id_d2  id_sib  frames  \\\n",
       "156       3        7       6          3      8    430     236       3   \n",
       "157       3        7       6          3      8    430     236       4   \n",
       "158       3        7       6          3      8    430     236       5   \n",
       "159       3        7       6          3      8    430     236       6   \n",
       "160       3        7       6          3      8    430     236       7   \n",
       "\n",
       "    new_pole old_pole  ...       fluo2      x_pos      y_pos  generation  age  \\\n",
       "156  [14 55]  [14 74]  ...  494.236686  65.923077  13.449704         1.0    0   \n",
       "157  [14 55]  [15 78]  ...  493.152542  66.677966  14.203390         1.0    1   \n",
       "158  [16 52]  [18 79]  ...  493.712707  65.585635  15.701657         1.0    2   \n",
       "159  [15 53]  [18 79]  ...  498.333333  65.446237  15.521505         1.0    3   \n",
       "160  [16 55]  [18 76]  ...  495.578680  65.487310  16.309645         1.0    4   \n",
       "\n",
       "      strain       movie_name  replicate       uni_id    rel_dl  \n",
       "156  AKS1088  AKS1088_TL01_01          0  AKS1088-0-7       NaN  \n",
       "157  AKS1088  AKS1088_TL01_01          0  AKS1088-0-7  1.035281  \n",
       "158  AKS1088  AKS1088_TL01_01          0  AKS1088-0-7  1.072101  \n",
       "159  AKS1088  AKS1088_TL01_01          0  AKS1088-0-7  1.002187  \n",
       "160  AKS1088  AKS1088_TL01_01          0  AKS1088-0-7  1.034236  \n",
       "\n",
       "[5 rows x 26 columns]"
      ]
     },
     "execution_count": 171,
     "metadata": {},
     "output_type": "execute_result"
    }
   ],
   "source": [
    "\n",
    "paired_dfs = []\n",
    "grouped = df_filt3.groupby('movie_name')\n",
    "for name, group in grouped:\n",
    "    dfsub = group.groupby('id_cell').filter(lambda x: x['id_sib'].unique() in group['id_cell'].unique())\n",
    "    paired_dfs.append(dfsub)\n",
    "    \n",
    "df_paired= pd.concat(paired_dfs)    \n",
    "df_paired.head()    \n",
    "    "
   ]
  },
  {
   "cell_type": "markdown",
   "metadata": {},
   "source": [
    "## Check division consistency"
   ]
  },
  {
   "cell_type": "code",
   "execution_count": 172,
   "metadata": {},
   "outputs": [],
   "source": [
    "def check_division(x, group, maxdl=1.1, mindl=0.8):\n",
    "    \n",
    "    x['id_sib'].unique() in group['id_cell'].unique()\n",
    "    \n",
    "    \n",
    "    sib_idx = group['id_cell']==x['id_sib'].iloc[0]\n",
    "    par_idx = group['id_cell']==x['id_par'].iloc[0]\n",
    "\n",
    "    #get length\n",
    "    len_cel = x['length'].iloc[0]\n",
    "    len_sib = group.loc[sib_idx, 'length'].iloc[0]\n",
    "    len_par = group.loc[sib_idx, 'length'].iloc[-1]\n",
    "    \n",
    "    dl = (len_cel + len_sib) / len_par\n",
    "    \n",
    "    return (dl < maxdl) & (dl > mindl)\n",
    "\n",
    "\n",
    "def analyze_division(cell, movie, df):\n",
    "    \n",
    "    sib_idx = movie['id_cell']==cell['id_sib'].iloc[0]\n",
    "    \n",
    "    par_name = '%s-%i-%i' % (cell['strain'].iloc[0], cell['replicate'].iloc[0], cell['id_par'].iloc[0])\n",
    "    par_idx = df['uni_id']==par_name\n",
    "\n",
    "    #get length\n",
    "    len_cel = cell['length'].iloc[0]\n",
    "    len_sib = movie.loc[sib_idx, 'length'].iloc[0]\n",
    "    len_par = df.loc[par_idx, 'length'].iloc[-1]\n",
    "    \n",
    "    dl = (len_cel + len_sib) / len_par\n",
    "    \n",
    "    return dl\n",
    "    "
   ]
  },
  {
   "cell_type": "code",
   "execution_count": 175,
   "metadata": {},
   "outputs": [
    {
     "ename": "IndexError",
     "evalue": "single positional indexer is out-of-bounds",
     "output_type": "error",
     "traceback": [
      "\u001b[0;31m---------------------------------------------------------------------------\u001b[0m",
      "\u001b[0;31mIndexError\u001b[0m                                Traceback (most recent call last)",
      "\u001b[1;32m/Users/simonvanvliet/switchdrive/Biozentrum/Code/Andreas/cdg_dynamics_caulobacter/cdg_dynamics_filter_data.ipynb Cell 30'\u001b[0m in \u001b[0;36m<cell line: 3>\u001b[0;34m()\u001b[0m\n\u001b[1;32m      <a href='vscode-notebook-cell:/Users/simonvanvliet/switchdrive/Biozentrum/Code/Andreas/cdg_dynamics_caulobacter/cdg_dynamics_filter_data.ipynb#ch0000062?line=3'>4</a>\u001b[0m cells \u001b[39m=\u001b[39m group\u001b[39m.\u001b[39mgroupby(\u001b[39m'\u001b[39m\u001b[39mid_cell\u001b[39m\u001b[39m'\u001b[39m)\n\u001b[1;32m      <a href='vscode-notebook-cell:/Users/simonvanvliet/switchdrive/Biozentrum/Code/Andreas/cdg_dynamics_caulobacter/cdg_dynamics_filter_data.ipynb#ch0000062?line=4'>5</a>\u001b[0m \u001b[39mfor\u001b[39;00m name, cell \u001b[39min\u001b[39;00m cells:\n\u001b[0;32m----> <a href='vscode-notebook-cell:/Users/simonvanvliet/switchdrive/Biozentrum/Code/Andreas/cdg_dynamics_caulobacter/cdg_dynamics_filter_data.ipynb#ch0000062?line=5'>6</a>\u001b[0m     dl\u001b[39m.\u001b[39mappend(analyze_division(cell, movie, df))\n",
      "\u001b[1;32m/Users/simonvanvliet/switchdrive/Biozentrum/Code/Andreas/cdg_dynamics_caulobacter/cdg_dynamics_filter_data.ipynb Cell 29'\u001b[0m in \u001b[0;36manalyze_division\u001b[0;34m(cell, movie, df)\u001b[0m\n\u001b[1;32m     <a href='vscode-notebook-cell:/Users/simonvanvliet/switchdrive/Biozentrum/Code/Andreas/cdg_dynamics_caulobacter/cdg_dynamics_filter_data.ipynb#ch0000061?line=25'>26</a>\u001b[0m \u001b[39m#get length\u001b[39;00m\n\u001b[1;32m     <a href='vscode-notebook-cell:/Users/simonvanvliet/switchdrive/Biozentrum/Code/Andreas/cdg_dynamics_caulobacter/cdg_dynamics_filter_data.ipynb#ch0000061?line=26'>27</a>\u001b[0m len_cel \u001b[39m=\u001b[39m cell[\u001b[39m'\u001b[39m\u001b[39mlength\u001b[39m\u001b[39m'\u001b[39m]\u001b[39m.\u001b[39miloc[\u001b[39m0\u001b[39m]\n\u001b[0;32m---> <a href='vscode-notebook-cell:/Users/simonvanvliet/switchdrive/Biozentrum/Code/Andreas/cdg_dynamics_caulobacter/cdg_dynamics_filter_data.ipynb#ch0000061?line=27'>28</a>\u001b[0m len_sib \u001b[39m=\u001b[39m movie\u001b[39m.\u001b[39;49mloc[sib_idx, \u001b[39m'\u001b[39;49m\u001b[39mlength\u001b[39;49m\u001b[39m'\u001b[39;49m]\u001b[39m.\u001b[39;49miloc[\u001b[39m0\u001b[39;49m]\n\u001b[1;32m     <a href='vscode-notebook-cell:/Users/simonvanvliet/switchdrive/Biozentrum/Code/Andreas/cdg_dynamics_caulobacter/cdg_dynamics_filter_data.ipynb#ch0000061?line=28'>29</a>\u001b[0m len_par \u001b[39m=\u001b[39m df\u001b[39m.\u001b[39mloc[par_idx, \u001b[39m'\u001b[39m\u001b[39mlength\u001b[39m\u001b[39m'\u001b[39m]\u001b[39m.\u001b[39miloc[\u001b[39m-\u001b[39m\u001b[39m1\u001b[39m]\n\u001b[1;32m     <a href='vscode-notebook-cell:/Users/simonvanvliet/switchdrive/Biozentrum/Code/Andreas/cdg_dynamics_caulobacter/cdg_dynamics_filter_data.ipynb#ch0000061?line=30'>31</a>\u001b[0m dl \u001b[39m=\u001b[39m (len_cel \u001b[39m+\u001b[39m len_sib) \u001b[39m/\u001b[39m len_par\n",
      "File \u001b[0;32m~/opt/miniconda3/envs/i2i_env/lib/python3.9/site-packages/pandas/core/indexing.py:967\u001b[0m, in \u001b[0;36m_LocationIndexer.__getitem__\u001b[0;34m(self, key)\u001b[0m\n\u001b[1;32m    964\u001b[0m axis \u001b[39m=\u001b[39m \u001b[39mself\u001b[39m\u001b[39m.\u001b[39maxis \u001b[39mor\u001b[39;00m \u001b[39m0\u001b[39m\n\u001b[1;32m    966\u001b[0m maybe_callable \u001b[39m=\u001b[39m com\u001b[39m.\u001b[39mapply_if_callable(key, \u001b[39mself\u001b[39m\u001b[39m.\u001b[39mobj)\n\u001b[0;32m--> 967\u001b[0m \u001b[39mreturn\u001b[39;00m \u001b[39mself\u001b[39;49m\u001b[39m.\u001b[39;49m_getitem_axis(maybe_callable, axis\u001b[39m=\u001b[39;49maxis)\n",
      "File \u001b[0;32m~/opt/miniconda3/envs/i2i_env/lib/python3.9/site-packages/pandas/core/indexing.py:1520\u001b[0m, in \u001b[0;36m_iLocIndexer._getitem_axis\u001b[0;34m(self, key, axis)\u001b[0m\n\u001b[1;32m   1517\u001b[0m     \u001b[39mraise\u001b[39;00m \u001b[39mTypeError\u001b[39;00m(\u001b[39m\"\u001b[39m\u001b[39mCannot index by location index with a non-integer key\u001b[39m\u001b[39m\"\u001b[39m)\n\u001b[1;32m   1519\u001b[0m \u001b[39m# validate the location\u001b[39;00m\n\u001b[0;32m-> 1520\u001b[0m \u001b[39mself\u001b[39;49m\u001b[39m.\u001b[39;49m_validate_integer(key, axis)\n\u001b[1;32m   1522\u001b[0m \u001b[39mreturn\u001b[39;00m \u001b[39mself\u001b[39m\u001b[39m.\u001b[39mobj\u001b[39m.\u001b[39m_ixs(key, axis\u001b[39m=\u001b[39maxis)\n",
      "File \u001b[0;32m~/opt/miniconda3/envs/i2i_env/lib/python3.9/site-packages/pandas/core/indexing.py:1452\u001b[0m, in \u001b[0;36m_iLocIndexer._validate_integer\u001b[0;34m(self, key, axis)\u001b[0m\n\u001b[1;32m   1450\u001b[0m len_axis \u001b[39m=\u001b[39m \u001b[39mlen\u001b[39m(\u001b[39mself\u001b[39m\u001b[39m.\u001b[39mobj\u001b[39m.\u001b[39m_get_axis(axis))\n\u001b[1;32m   1451\u001b[0m \u001b[39mif\u001b[39;00m key \u001b[39m>\u001b[39m\u001b[39m=\u001b[39m len_axis \u001b[39mor\u001b[39;00m key \u001b[39m<\u001b[39m \u001b[39m-\u001b[39mlen_axis:\n\u001b[0;32m-> 1452\u001b[0m     \u001b[39mraise\u001b[39;00m \u001b[39mIndexError\u001b[39;00m(\u001b[39m\"\u001b[39m\u001b[39msingle positional indexer is out-of-bounds\u001b[39m\u001b[39m\"\u001b[39m)\n",
      "\u001b[0;31mIndexError\u001b[0m: single positional indexer is out-of-bounds"
     ]
    }
   ],
   "source": [
    "dl = []\n",
    "movies = df_paired.groupby('movie_name')\n",
    "for name, movie in movies:\n",
    "    cells = group.groupby('id_cell')\n",
    "    for name, cell in cells:\n",
    "        dl.append(analyze_division(cell, movie, df))\n",
    "    \n"
   ]
  },
  {
   "cell_type": "code",
   "execution_count": 145,
   "metadata": {},
   "outputs": [
    {
     "data": {
      "text/plain": [
       "<AxesSubplot:xlabel='strain'>"
      ]
     },
     "execution_count": 145,
     "metadata": {},
     "output_type": "execute_result"
    },
    {
     "data": {
      "image/png": "[encoded data removed]",
      "text/plain": [
       "<Figure size 720x360 with 1 Axes>"
      ]
     },
     "metadata": {
      "image/png": {
       "height": 351,
       "width": 598
      },
      "needs_background": "light"
     },
     "output_type": "display_data"
    }
   ],
   "source": [
    "first_frame = df_paired.groupby('uni_id').first()\n",
    "num_lin_per_strain = first_frame.groupby('strain').size() / 2\n",
    "num_lin_per_strain.head(n=18)\n",
    "num_lin_per_strain.plot(kind='bar')\n"
   ]
  },
  {
   "cell_type": "code",
   "execution_count": null,
   "metadata": {},
   "outputs": [
    {
     "data": {
      "text/plain": [
       "strain\n",
       "AKS1088    286.0\n",
       "AKS1089    168.0\n",
       "AKS1090    335.0\n",
       "AKS1091    482.0\n",
       "AKS1092    563.0\n",
       "AKS1093    154.0\n",
       "AKS1094    133.0\n",
       "AKS1095    186.0\n",
       "AKS1096    256.0\n",
       "AKS1097    151.0\n",
       "AKS1098    142.0\n",
       "AKS1099    177.0\n",
       "AKS1101    150.0\n",
       "AKS1102     89.0\n",
       "AKS1103    158.0\n",
       "AKS1104    108.0\n",
       "AKS1105     97.0\n",
       "AKS1106    146.0\n",
       "dtype: float64"
      ]
     },
     "metadata": {},
     "output_type": "display_data"
    }
   ],
   "source": [
    "num_lin_per_strain"
   ]
  },
  {
   "cell_type": "markdown",
   "metadata": {},
   "source": [
    "## Save paired data"
   ]
  },
  {
   "cell_type": "code",
   "execution_count": 147,
   "metadata": {},
   "outputs": [],
   "source": [
    "out_name = processed_dir / 'caulobacter_combined_filtered_paired_data.csv'\n",
    "df_paired.to_csv(out_name)"
   ]
  }
 ],
 "metadata": {
  "interpreter": {
   "hash": "04885f21a4bd9418df205c8169dbf35b8c72791b69b584ac7513023d01d78b79"
  },
  "kernelspec": {
   "display_name": "Python 3.9.12 ('i2i_env')",
   "language": "python",
   "name": "python3"
  },
  "language_info": {
   "codemirror_mode": {
    "name": "ipython",
    "version": 3
   },
   "file_extension": ".py",
   "mimetype": "text/x-python",
   "name": "python",
   "nbconvert_exporter": "python",
   "pygments_lexer": "ipython3",
   "version": "3.9.12"
  }
 },
 "nbformat": 4,
 "nbformat_minor": 4
}
