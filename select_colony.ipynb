{
 "cells": [
  {
   "cell_type": "code",
   "execution_count": 93,
   "metadata": {},
   "outputs": [],
   "source": [
    "%matplotlib inline\n",
    "%config InlineBackend.figure_format = 'retina'\n",
    "%gui qt\n",
    "\n",
    "import numpy as np\n",
    "import pandas as pd\n",
    "\n",
    "import matplotlib\n",
    "import matplotlib.pyplot as plt\n",
    "import matplotlib.cm as cm\n",
    "matplotlib.rc(\"figure\", figsize=(10,5))\n",
    "\n",
    "import seaborn as sns\n",
    "\n",
    "import pathlib\n",
    "\n",
    "import delta\n",
    "import napari\n"
   ]
  },
  {
   "cell_type": "code",
   "execution_count": 102,
   "metadata": {},
   "outputs": [],
   "source": [
    "def plot_spatial_map(pos, df, property, frame=-1):\n",
    "   #pos: delta position object\n",
    "   #lin: delta linage object\n",
    "   #property: key of cell property contained in lineage object\n",
    "   #frame: frame to show, if not specified last one is chosen\n",
    "   #axis: axis to add plot to, if not specified new one is made\n",
    "   \n",
    "   #create color map where Nan is shown as black  \n",
    "   colMap = cm.get_cmap(\"viridis\").copy()\n",
    "   colMap.set_bad(color='black')\n",
    "   \n",
    "   #get frame\n",
    "   frame = len(pos.rois[0].label_stack)-1 if frame==-1 else frame\n",
    "\n",
    "   # get label image:\n",
    "   labels = pos.rois[0].label_stack[frame]\n",
    "   spatial_map = np.full(labels.shape, np.nan)\n",
    "   \n",
    "   # Go over cells in selected frame:\n",
    "   for cnb in np.unique(labels):\n",
    "      if cnb==0: continue\n",
    "      #assign cells mask area the phenotype of choice\n",
    "      spatial_map[labels==cnb] = df.loc[(df['frames']==frame) & (df['id_seg']==cnb-1),property].item()\n",
    "   \n",
    "   return spatial_map"
   ]
  },
  {
   "cell_type": "markdown",
   "metadata": {},
   "source": [
    "## Load Data\n",
    "We load the data from the last notebook;"
   ]
  },
  {
   "cell_type": "code",
   "execution_count": 105,
   "metadata": {},
   "outputs": [],
   "source": [
    "pos_file = pathlib.Path('/Users/simonvanvliet/switchdrive/Biozentrum/Andreas/output/pkl_files/TL01_29/Position000000.pkl')\n",
    "df_file = pathlib.Path('/Users/simonvanvliet/switchdrive/Biozentrum/Andreas/output/csv_files/AKS1092_TL01_29.csv')\n",
    "\n",
    "#postion object\n",
    "pos = delta.pipeline.Position(None,None,None)\n",
    "pos.load(pos_file)\n",
    "df = pd.read_csv(df_file)\n",
    "\n",
    "labels = pos.rois[0].label_stack\n",
    "imstack = np.stack(pos.rois[0].img_stack, axis=0) #load image data from position file\n",
    "labelstack = np.stack(labels, axis=0) #load label data from position file\n",
    "\n",
    "props = [plot_spatial_map(pos, df, 'id_colony', frame=fr) for fr in range(len(labels))]\n",
    "propstack = np.stack(props) #load label data from position file\n",
    "\n",
    "viewer = napari.view_image(imstack)\n",
    "viewer.add_labels(labelstack)\n",
    "viewer.add_image(propstack, colormap='inferno')\n",
    "viewer.show()"
   ]
  },
  {
   "cell_type": "markdown",
   "metadata": {},
   "source": [
    "## Select sub colonies"
   ]
  },
  {
   "cell_type": "code",
   "execution_count": 9,
   "metadata": {},
   "outputs": [],
   "source": [
    "df_col1 = df.loc[(df['id_colony']==2) | (df['id_colony']==3)]"
   ]
  },
  {
   "cell_type": "markdown",
   "metadata": {},
   "source": [
    "## Check colony tracking with Napari"
   ]
  },
  {
   "cell_type": "code",
   "execution_count": 11,
   "metadata": {},
   "outputs": [],
   "source": [
    "#create matrix with lin_id, and (t,x,y) coordinates\n",
    "lin_data = np.vstack([df_col1[\"id_cell\"].to_numpy(dtype=int), \n",
    "                      df_col1[\"frames\"].to_numpy(dtype=int), \n",
    "                      df_col1[\"y_pos\"].to_numpy(dtype=int), \n",
    "                      df_col1[\"x_pos\"].to_numpy(dtype=int)]).T\n",
    "lin_data.shape\n",
    "\n",
    "#create dictionary that link lin_id of cell to lin_id of mother \n",
    "lin_id = df_col1[\"id_cell\"].to_numpy(dtype=int)\n",
    "mom_id = df_col1[\"id_par\"].to_numpy(dtype=int)\n",
    "\n",
    "#lin_id is a vector that contains many duplicate entries, we remove them using np.unique:\n",
    "lin_set, idx_set = np.unique(lin_id, return_index=True)\n",
    "mom_set = mom_id[idx_set]\n",
    "\n",
    "#init graph dictionary\n",
    "graph = {}\n",
    "for linnum, mom in zip(lin_set, mom_set):\n",
    "    if mom >= 0:\n",
    "        graph[linnum] = mom\n"
   ]
  },
  {
   "cell_type": "code",
   "execution_count": 12,
   "metadata": {},
   "outputs": [],
   "source": [
    "#add tracks to viewer\n",
    "viewer.add_tracks(lin_data, name='Tracks', graph=graph)\n",
    "viewer.show()"
   ]
  }
 ],
 "metadata": {
  "kernelspec": {
   "display_name": "Python 3.9.13 ('i2i_env')",
   "language": "python",
   "name": "python3"
  },
  "language_info": {
   "codemirror_mode": {
    "name": "ipython",
    "version": 3
   },
   "file_extension": ".py",
   "mimetype": "text/x-python",
   "name": "python",
   "nbconvert_exporter": "python",
   "pygments_lexer": "ipython3",
   "version": "3.9.13"
  },
  "vscode": {
   "interpreter": {
    "hash": "7c6538b57b9d95695cc8c88818812a736980da96b6d92e389fbfaae31437292d"
   }
  }
 },
 "nbformat": 4,
 "nbformat_minor": 4
}
