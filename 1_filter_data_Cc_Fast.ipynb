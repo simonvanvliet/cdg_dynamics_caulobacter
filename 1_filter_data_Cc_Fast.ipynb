{
 "cells": [
  {
   "cell_type": "markdown",
   "metadata": {},
   "source": [
    "# Filter Delta2 Data Caulobacter crescentus \n",
    " \n",
    "In this notebook we filter the time-lapse data of Caulobacter crescentus mutant strains with cdg sensor growing on agar-pads"
   ]
  },
  {
   "cell_type": "markdown",
   "metadata": {},
   "source": [
    "---"
   ]
  },
  {
   "cell_type": "markdown",
   "id": "99dcf040",
   "metadata": {},
   "source": [
    "## Import packages"
   ]
  },
  {
   "cell_type": "code",
   "execution_count": 1,
   "metadata": {},
   "outputs": [],
   "source": [
    "%matplotlib inline\n",
    "%config InlineBackend.figure_format = 'retina'\n",
    "\n",
    "import numpy as np\n",
    "import pandas as pd\n",
    "\n",
    "import matplotlib\n",
    "import matplotlib.pyplot as plt\n",
    "matplotlib.rc(\"figure\", figsize=(10,5))\n",
    "\n",
    "import seaborn as sns\n",
    "import pathlib"
   ]
  },
  {
   "cell_type": "markdown",
   "metadata": {},
   "source": [
    "---"
   ]
  },
  {
   "cell_type": "markdown",
   "metadata": {},
   "source": [
    "## Setup Folders"
   ]
  },
  {
   "cell_type": "code",
   "execution_count": 2,
   "metadata": {},
   "outputs": [],
   "source": [
    "proj_dir = pathlib.Path(pathlib.Path.home(), 'switchdrive', 'Biozentrum', 'Andreas')\n",
    "data_dir = proj_dir / 'data_files'\n",
    "image_dir = proj_dir / 'figures_Cc_Fast'\n",
    "save_dir = pathlib.Path() / 'data_files'"
   ]
  },
  {
   "cell_type": "markdown",
   "metadata": {},
   "source": [
    "---"
   ]
  },
  {
   "cell_type": "markdown",
   "metadata": {},
   "source": [
    "## Load Data\n",
    "\n",
    "We also add a unique ID for each cell pair (two cells with shared parent) by combining strain id, replicate id, and par id"
   ]
  },
  {
   "cell_type": "code",
   "execution_count": 3,
   "metadata": {},
   "outputs": [
    {
     "data": {
      "text/html": [
       "<div>\n",
       "<style scoped>\n",
       "    .dataframe tbody tr th:only-of-type {\n",
       "        vertical-align: middle;\n",
       "    }\n",
       "\n",
       "    .dataframe tbody tr th {\n",
       "        vertical-align: top;\n",
       "    }\n",
       "\n",
       "    .dataframe thead th {\n",
       "        text-align: right;\n",
       "    }\n",
       "</style>\n",
       "<table border=\"1\" class=\"dataframe\">\n",
       "  <thead>\n",
       "    <tr style=\"text-align: right;\">\n",
       "      <th></th>\n",
       "      <th>id_seg</th>\n",
       "      <th>id_cell</th>\n",
       "      <th>id_par</th>\n",
       "      <th>id_colony</th>\n",
       "      <th>id_d1</th>\n",
       "      <th>id_d2</th>\n",
       "      <th>id_sib</th>\n",
       "      <th>frames</th>\n",
       "      <th>new_pole</th>\n",
       "      <th>old_pole</th>\n",
       "      <th>...</th>\n",
       "      <th>fluo2</th>\n",
       "      <th>x_pos</th>\n",
       "      <th>y_pos</th>\n",
       "      <th>generation</th>\n",
       "      <th>age</th>\n",
       "      <th>strain</th>\n",
       "      <th>movie_name</th>\n",
       "      <th>replicate</th>\n",
       "      <th>uni_id</th>\n",
       "      <th>uni_par_id</th>\n",
       "    </tr>\n",
       "  </thead>\n",
       "  <tbody>\n",
       "    <tr>\n",
       "      <th>0</th>\n",
       "      <td>0</td>\n",
       "      <td>0</td>\n",
       "      <td>-1</td>\n",
       "      <td>0</td>\n",
       "      <td>1</td>\n",
       "      <td>492</td>\n",
       "      <td>-1</td>\n",
       "      <td>0</td>\n",
       "      <td>[ 18 971]</td>\n",
       "      <td>[   4 1014]</td>\n",
       "      <td>...</td>\n",
       "      <td>115.156010</td>\n",
       "      <td>992.979540</td>\n",
       "      <td>14.265985</td>\n",
       "      <td>0.0</td>\n",
       "      <td>0</td>\n",
       "      <td>AKS1092</td>\n",
       "      <td>AKS1092_TL_01_2_s2</td>\n",
       "      <td>1</td>\n",
       "      <td>AKS1092-1-0</td>\n",
       "      <td>AKS1092-1--1</td>\n",
       "    </tr>\n",
       "    <tr>\n",
       "      <th>1</th>\n",
       "      <td>0</td>\n",
       "      <td>0</td>\n",
       "      <td>-1</td>\n",
       "      <td>0</td>\n",
       "      <td>1</td>\n",
       "      <td>492</td>\n",
       "      <td>-1</td>\n",
       "      <td>1</td>\n",
       "      <td>[ 18 974]</td>\n",
       "      <td>[   5 1012]</td>\n",
       "      <td>...</td>\n",
       "      <td>116.523438</td>\n",
       "      <td>993.010417</td>\n",
       "      <td>13.898438</td>\n",
       "      <td>0.0</td>\n",
       "      <td>1</td>\n",
       "      <td>AKS1092</td>\n",
       "      <td>AKS1092_TL_01_2_s2</td>\n",
       "      <td>1</td>\n",
       "      <td>AKS1092-1-0</td>\n",
       "      <td>AKS1092-1--1</td>\n",
       "    </tr>\n",
       "    <tr>\n",
       "      <th>2</th>\n",
       "      <td>0</td>\n",
       "      <td>0</td>\n",
       "      <td>-1</td>\n",
       "      <td>0</td>\n",
       "      <td>1</td>\n",
       "      <td>492</td>\n",
       "      <td>-1</td>\n",
       "      <td>2</td>\n",
       "      <td>[ 17 971]</td>\n",
       "      <td>[   7 1009]</td>\n",
       "      <td>...</td>\n",
       "      <td>115.984375</td>\n",
       "      <td>993.117188</td>\n",
       "      <td>13.489583</td>\n",
       "      <td>0.0</td>\n",
       "      <td>2</td>\n",
       "      <td>AKS1092</td>\n",
       "      <td>AKS1092_TL_01_2_s2</td>\n",
       "      <td>1</td>\n",
       "      <td>AKS1092-1-0</td>\n",
       "      <td>AKS1092-1--1</td>\n",
       "    </tr>\n",
       "    <tr>\n",
       "      <th>3</th>\n",
       "      <td>0</td>\n",
       "      <td>0</td>\n",
       "      <td>-1</td>\n",
       "      <td>0</td>\n",
       "      <td>1</td>\n",
       "      <td>492</td>\n",
       "      <td>-1</td>\n",
       "      <td>3</td>\n",
       "      <td>[ 17 971]</td>\n",
       "      <td>[   5 1012]</td>\n",
       "      <td>...</td>\n",
       "      <td>115.661538</td>\n",
       "      <td>993.097436</td>\n",
       "      <td>13.325641</td>\n",
       "      <td>0.0</td>\n",
       "      <td>3</td>\n",
       "      <td>AKS1092</td>\n",
       "      <td>AKS1092_TL_01_2_s2</td>\n",
       "      <td>1</td>\n",
       "      <td>AKS1092-1-0</td>\n",
       "      <td>AKS1092-1--1</td>\n",
       "    </tr>\n",
       "    <tr>\n",
       "      <th>4</th>\n",
       "      <td>0</td>\n",
       "      <td>0</td>\n",
       "      <td>-1</td>\n",
       "      <td>0</td>\n",
       "      <td>1</td>\n",
       "      <td>492</td>\n",
       "      <td>-1</td>\n",
       "      <td>4</td>\n",
       "      <td>[ 17 973]</td>\n",
       "      <td>[   6 1011]</td>\n",
       "      <td>...</td>\n",
       "      <td>117.321053</td>\n",
       "      <td>993.092105</td>\n",
       "      <td>12.973684</td>\n",
       "      <td>0.0</td>\n",
       "      <td>4</td>\n",
       "      <td>AKS1092</td>\n",
       "      <td>AKS1092_TL_01_2_s2</td>\n",
       "      <td>1</td>\n",
       "      <td>AKS1092-1-0</td>\n",
       "      <td>AKS1092-1--1</td>\n",
       "    </tr>\n",
       "  </tbody>\n",
       "</table>\n",
       "<p>5 rows × 26 columns</p>\n",
       "</div>"
      ],
      "text/plain": [
       "   id_seg  id_cell  id_par  id_colony  id_d1  id_d2  id_sib  frames  \\\n",
       "0       0        0      -1          0      1    492      -1       0   \n",
       "1       0        0      -1          0      1    492      -1       1   \n",
       "2       0        0      -1          0      1    492      -1       2   \n",
       "3       0        0      -1          0      1    492      -1       3   \n",
       "4       0        0      -1          0      1    492      -1       4   \n",
       "\n",
       "    new_pole     old_pole  ...       fluo2       x_pos      y_pos  generation  \\\n",
       "0  [ 18 971]  [   4 1014]  ...  115.156010  992.979540  14.265985         0.0   \n",
       "1  [ 18 974]  [   5 1012]  ...  116.523438  993.010417  13.898438         0.0   \n",
       "2  [ 17 971]  [   7 1009]  ...  115.984375  993.117188  13.489583         0.0   \n",
       "3  [ 17 971]  [   5 1012]  ...  115.661538  993.097436  13.325641         0.0   \n",
       "4  [ 17 973]  [   6 1011]  ...  117.321053  993.092105  12.973684         0.0   \n",
       "\n",
       "   age   strain          movie_name  replicate       uni_id    uni_par_id  \n",
       "0    0  AKS1092  AKS1092_TL_01_2_s2          1  AKS1092-1-0  AKS1092-1--1  \n",
       "1    1  AKS1092  AKS1092_TL_01_2_s2          1  AKS1092-1-0  AKS1092-1--1  \n",
       "2    2  AKS1092  AKS1092_TL_01_2_s2          1  AKS1092-1-0  AKS1092-1--1  \n",
       "3    3  AKS1092  AKS1092_TL_01_2_s2          1  AKS1092-1-0  AKS1092-1--1  \n",
       "4    4  AKS1092  AKS1092_TL_01_2_s2          1  AKS1092-1-0  AKS1092-1--1  \n",
       "\n",
       "[5 rows x 26 columns]"
      ]
     },
     "execution_count": 3,
     "metadata": {},
     "output_type": "execute_result"
    }
   ],
   "source": [
    "#load data frame\n",
    "df_name = data_dir / 'caulobacter_fast_combined_data_low_dens.csv'\n",
    "df = pd.read_csv(df_name, index_col=0)\n",
    "\n",
    "#add unique id of cell by combining strain and replicate\n",
    "df['uni_id'] = df['strain'].map(str) + '-' + df['replicate'].map(str) + '-' + df['id_cell'].map(str)\n",
    "df['uni_par_id'] = df['strain'].map(str) + '-' + df['replicate'].map(str) + '-' + df['id_par'].map(str)\n",
    "df.head()\n"
   ]
  },
  {
   "cell_type": "code",
   "execution_count": 4,
   "metadata": {},
   "outputs": [
    {
     "data": {
      "text/plain": [
       "(68849, 26)"
      ]
     },
     "execution_count": 4,
     "metadata": {},
     "output_type": "execute_result"
    }
   ],
   "source": [
    "df.shape"
   ]
  },
  {
   "cell_type": "markdown",
   "metadata": {},
   "source": [
    "---\n",
    "\n",
    "## Check data\n",
    "\n",
    "We first plot the life time distribution full lineages (those with parent and two offspring)\n"
   ]
  },
  {
   "cell_type": "code",
   "execution_count": 5,
   "metadata": {},
   "outputs": [
    {
     "data": {
      "image/png": "[encoded data removed]",
      "text/plain": [
       "<Figure size 720x360 with 1 Axes>"
      ]
     },
     "metadata": {
      "image/png": {
       "height": 316,
       "width": 612
      },
      "needs_background": "light"
     },
     "output_type": "display_data"
    }
   ],
   "source": [
    "#plot cell life_time for full lineages\n",
    "has_mom = df[\"id_par\"] > -1\n",
    "full_lin = has_mom \n",
    "\n",
    "df_compl = df[full_lin].copy()\n",
    "ax = sns.histplot(data=df_compl.groupby('uni_id').size(), bins=np.arange(50))\n",
    "ax.set_xlabel('life time of cell [frames]');"
   ]
  },
  {
   "cell_type": "markdown",
   "metadata": {},
   "source": [
    "Next we analyze the change in length between two frames"
   ]
  },
  {
   "cell_type": "code",
   "execution_count": 7,
   "metadata": {},
   "outputs": [
    {
     "data": {
      "image/png": "[encoded data removed]",
      "text/plain": [
       "<Figure size 864x288 with 3 Axes>"
      ]
     },
     "metadata": {
      "image/png": {
       "height": 277,
       "width": 752
      },
      "needs_background": "light"
     },
     "output_type": "display_data"
    }
   ],
   "source": [
    "#calc length change\n",
    "dl = df_compl.groupby('uni_id')['length'].diff()\n",
    "df_compl['rel_dl'] = (df_compl['length'] + dl)/df_compl['length']\n",
    "max_dl = df_compl.groupby('uni_id')['rel_dl'].max()\n",
    "min_dl = df_compl.groupby('uni_id')['rel_dl'].min()\n",
    "\n",
    "fig, axs = plt.subplots(1,3, figsize=(12,4))\n",
    "sns.histplot(ax=axs[0], data=df_compl, x='rel_dl', bins=np.linspace(0.8,1.2,41)).set(title='change in length between frames')\n",
    "sns.histplot(ax=axs[1], data=max_dl, bins=np.linspace(0.8,1.2,41)).set(title='max change in length between frames')\n",
    "sns.histplot(ax=axs[2], data=min_dl, bins=np.linspace(0.8,1.2,41)).set(title='min change in length between frames');"
   ]
  },
  {
   "cell_type": "markdown",
   "metadata": {},
   "source": [
    "Next we analyze the change in length across cell divisions "
   ]
  },
  {
   "cell_type": "markdown",
   "metadata": {},
   "source": [
    "---"
   ]
  },
  {
   "cell_type": "markdown",
   "metadata": {},
   "source": [
    "## Filter data\n",
    "\n",
    "We use following checks:\n",
    "\n",
    " - We only consider cells whose division is properly tracked (both daughters are identified) and where both offspring cells are tracked for at least 12 frames (1h)\n",
    " - We filter out lineages where length changes too much between division\n",
    "   - We calculate length change as $\\frac{l_{d1}+l_{d2}}{l_p}$\n",
    " - We filter out lineages where the length changes too much during life time\n",
    "    - We calculate length change as $\\frac{l(t+\\Delta t)}{l(t)} = 2^{\\Delta t / t_d}$"
   ]
  },
  {
   "cell_type": "code",
   "execution_count": 42,
   "metadata": {},
   "outputs": [],
   "source": [
    "def check_growth(length, min_dl, max_dl):\n",
    "    \"\"\"Check if change in length between frames stays within bounds\n",
    "\n",
    "    Parameters\n",
    "    ----------\n",
    "    len : np.array\n",
    "        length of cell over time\n",
    "    min_dl : float\n",
    "        lowest value of l(t+1)/l(t) that is allowed\n",
    "    max_dl : float\n",
    "        highest value of l(t+1)/l(t) that is allowed\n",
    "\n",
    "    Returns\n",
    "    -------\n",
    "    Boolean\n",
    "        True if  min_dl < l(t+1)/l(t) < max_dl for all t; false otherwise\n",
    "    \"\"\"\n",
    "    dl = length[1:] / length[0:-1]\n",
    "    \n",
    "    len_ok = np.logical_and(dl>min_dl, dl<max_dl)\n",
    "    \n",
    "    if np.all(len_ok):\n",
    "        max_frm = length.size\n",
    "    elif len_ok[0]:\n",
    "        max_frm = np.argmax(np.logical_not(len_ok))\n",
    "    else:\n",
    "        max_frm = 0\n",
    "    \n",
    "    return max_frm\n",
    "\n",
    "\n",
    "def filter_tracks(cur_cell, filter_par, reason_skipped):\n",
    "    \"\"\"Filter cell tracks based on criteria\n",
    "\n",
    "    Parameters\n",
    "    ----------\n",
    "    cur_cell : pd.DataFrame \n",
    "        grouped by DataFrame containing data of single cell\n",
    "    filter_par : dictionary\n",
    "        dictionary with filter parameter\n",
    "    reason_skipped : dictionary\n",
    "        dictionary that tracks reason why cell was skipped \n",
    "\n",
    "    Returns\n",
    "    -------\n",
    "    pd.DataFrame or None\n",
    "        If tracking passes all criteria output is a DataFrame containing paired data of both offspring cells of cur_cell, else a None is returned \n",
    "    \"\"\"\n",
    "    \n",
    "    #columns to copy\n",
    "    cols = ['uni_par_id', 'strain', 'movie_name', 'replicate', 'id_colony', \n",
    "            'id_par', 'frames', 'generation', 'age', 'fluo1']\n",
    "    \n",
    "    #init output\n",
    "    new_df = None\n",
    "    \n",
    "    #check if division was tracked (non paired)\n",
    "    has_p = cur_cell[\"id_par\"].iloc[0] > -1\n",
    "    if not has_p: reason_skipped['division not tracked'] += 1\n",
    "\n",
    "    if has_p:\n",
    "        #get offspring cells    \n",
    "        #check if cell has been tracked for enough frames\n",
    "        frames_ok = cur_cell.shape[0] >= filter_par['min_num_frm']\n",
    "        if not frames_ok: reason_skipped['too few frames'] +=1\n",
    "\n",
    "        if frames_ok:\n",
    "            #check length change across division    \n",
    "            # [l(offspring 1, t=0) +  l(offspring 2, t=0)] / l(mother, t=last)                   \n",
    "        \n",
    "            #check length change over time  \n",
    "            max_frm = check_growth(cur_cell['length'].values, filter_par['min_dl'], filter_par['max_dl']) \n",
    "            \n",
    "            len_ok = max_frm > filter_par['min_num_frm']\n",
    "            \n",
    "            if not len_ok: reason_skipped['dL error'] +=1\n",
    "\n",
    "            if len_ok:\n",
    "                #cell ok, process\n",
    "                reason_skipped['properly tracked'] +=1\n",
    "    \n",
    "                #copy data frame   \n",
    "                new_df = cur_cell[cols].reset_index(drop=True)\n",
    "                \n",
    "                #add new fields to df\n",
    "                new_df['cdg'] =  new_df[filter_par['cdg_ch']] \n",
    "                \n",
    "                new_df = new_df[:max_frm]\n",
    "                   \n",
    "\n",
    "    return new_df"
   ]
  },
  {
   "cell_type": "markdown",
   "metadata": {},
   "source": [
    "These are the filter settings we use:\n",
    "\n",
    "- `max_dl`: max value $l(t+1)/l(t)$ \n",
    "- `min_dl`: min value $l(t+1)/l(t)$ \n",
    "- `min_num_frm`: min number of frames to track \n",
    "- `cdg_ch`: cdg channel name"
   ]
  },
  {
   "cell_type": "code",
   "execution_count": 43,
   "metadata": {},
   "outputs": [
    {
     "data": {
      "text/plain": [
       "(45381, 11)"
      ]
     },
     "execution_count": 43,
     "metadata": {},
     "output_type": "execute_result"
    }
   ],
   "source": [
    "#filter settings\n",
    "filter_par = {\n",
    "        'max_dl': 1.08,  \n",
    "        'min_dl': 0.92,  \n",
    "        'min_num_frm': 40,\n",
    "        'cdg_ch': 'fluo1'}\n",
    "\n",
    "\n",
    "#keep track of why lineages are skipped\n",
    "reason_skipped = { \\\n",
    "        'division not tracked':0,\n",
    "        'too few frames':0,\n",
    "        'dL error':0,\n",
    "        'properly tracked':0}\n",
    "\n",
    "#init output\n",
    "df_list = []\n",
    "#loop movies\n",
    "movies_grouped = df.groupby('movie_name')\n",
    "for _, movie in movies_grouped: \n",
    "#loop by parent cells\n",
    "    cells_grouped = movie.groupby('id_cell') \n",
    "    for _, cur_cell in cells_grouped:\n",
    "        # filter cells    \n",
    "        new_df = filter_tracks(movie, cur_cell, filter_par, reason_skipped)\n",
    "        if new_df is not None:\n",
    "                df_list.append(new_df)\n",
    "                \n",
    "              \n",
    "df_filtered = pd.concat(df_list) if len(df_list)>0 else None    \n",
    "df_filtered.shape          "
   ]
  },
  {
   "cell_type": "markdown",
   "metadata": {},
   "source": [
    "Show reason why lineages were skipped"
   ]
  },
  {
   "cell_type": "code",
   "execution_count": 44,
   "metadata": {},
   "outputs": [
    {
     "data": {
      "image/png": "[encoded data removed]",
      "text/plain": [
       "<Figure size 720x360 with 1 Axes>"
      ]
     },
     "metadata": {
      "image/png": {
       "height": 316,
       "width": 612
      },
      "needs_background": "light"
     },
     "output_type": "display_data"
    }
   ],
   "source": [
    "df_stats = pd.DataFrame( [ [k,v] for k,v in reason_skipped.items()],columns=['reason','count'])\n",
    "ax = sns.barplot(data=df_stats, x='reason', y='count')\n",
    "ax.bar_label(ax.containers[0]);"
   ]
  },
  {
   "cell_type": "markdown",
   "metadata": {},
   "source": [
    "---\n",
    "\n",
    "## Store Data"
   ]
  },
  {
   "cell_type": "code",
   "execution_count": 45,
   "metadata": {},
   "outputs": [
    {
     "data": {
      "text/html": [
       "<div>\n",
       "<style scoped>\n",
       "    .dataframe tbody tr th:only-of-type {\n",
       "        vertical-align: middle;\n",
       "    }\n",
       "\n",
       "    .dataframe tbody tr th {\n",
       "        vertical-align: top;\n",
       "    }\n",
       "\n",
       "    .dataframe thead th {\n",
       "        text-align: right;\n",
       "    }\n",
       "</style>\n",
       "<table border=\"1\" class=\"dataframe\">\n",
       "  <thead>\n",
       "    <tr style=\"text-align: right;\">\n",
       "      <th></th>\n",
       "      <th>uni_par_id</th>\n",
       "      <th>strain</th>\n",
       "      <th>movie_name</th>\n",
       "      <th>replicate</th>\n",
       "      <th>id_colony</th>\n",
       "      <th>id_par</th>\n",
       "      <th>frames</th>\n",
       "      <th>generation</th>\n",
       "      <th>age</th>\n",
       "      <th>fluo1</th>\n",
       "      <th>cdg</th>\n",
       "      <th>time since birth [min]</th>\n",
       "    </tr>\n",
       "  </thead>\n",
       "  <tbody>\n",
       "    <tr>\n",
       "      <th>0</th>\n",
       "      <td>AKS1092-1-1</td>\n",
       "      <td>AKS1092</td>\n",
       "      <td>AKS1092_TL_01_2_s2</td>\n",
       "      <td>1</td>\n",
       "      <td>0</td>\n",
       "      <td>1</td>\n",
       "      <td>88</td>\n",
       "      <td>2.0</td>\n",
       "      <td>0</td>\n",
       "      <td>191.193916</td>\n",
       "      <td>191.193916</td>\n",
       "      <td>0.0</td>\n",
       "    </tr>\n",
       "    <tr>\n",
       "      <th>1</th>\n",
       "      <td>AKS1092-1-1</td>\n",
       "      <td>AKS1092</td>\n",
       "      <td>AKS1092_TL_01_2_s2</td>\n",
       "      <td>1</td>\n",
       "      <td>0</td>\n",
       "      <td>1</td>\n",
       "      <td>89</td>\n",
       "      <td>2.0</td>\n",
       "      <td>1</td>\n",
       "      <td>192.241107</td>\n",
       "      <td>192.241107</td>\n",
       "      <td>0.5</td>\n",
       "    </tr>\n",
       "    <tr>\n",
       "      <th>2</th>\n",
       "      <td>AKS1092-1-1</td>\n",
       "      <td>AKS1092</td>\n",
       "      <td>AKS1092_TL_01_2_s2</td>\n",
       "      <td>1</td>\n",
       "      <td>0</td>\n",
       "      <td>1</td>\n",
       "      <td>90</td>\n",
       "      <td>2.0</td>\n",
       "      <td>2</td>\n",
       "      <td>190.132576</td>\n",
       "      <td>190.132576</td>\n",
       "      <td>1.0</td>\n",
       "    </tr>\n",
       "    <tr>\n",
       "      <th>3</th>\n",
       "      <td>AKS1092-1-1</td>\n",
       "      <td>AKS1092</td>\n",
       "      <td>AKS1092_TL_01_2_s2</td>\n",
       "      <td>1</td>\n",
       "      <td>0</td>\n",
       "      <td>1</td>\n",
       "      <td>91</td>\n",
       "      <td>2.0</td>\n",
       "      <td>3</td>\n",
       "      <td>193.149425</td>\n",
       "      <td>193.149425</td>\n",
       "      <td>1.5</td>\n",
       "    </tr>\n",
       "    <tr>\n",
       "      <th>4</th>\n",
       "      <td>AKS1092-1-1</td>\n",
       "      <td>AKS1092</td>\n",
       "      <td>AKS1092_TL_01_2_s2</td>\n",
       "      <td>1</td>\n",
       "      <td>0</td>\n",
       "      <td>1</td>\n",
       "      <td>92</td>\n",
       "      <td>2.0</td>\n",
       "      <td>4</td>\n",
       "      <td>192.326848</td>\n",
       "      <td>192.326848</td>\n",
       "      <td>2.0</td>\n",
       "    </tr>\n",
       "  </tbody>\n",
       "</table>\n",
       "</div>"
      ],
      "text/plain": [
       "    uni_par_id   strain          movie_name  replicate  id_colony  id_par  \\\n",
       "0  AKS1092-1-1  AKS1092  AKS1092_TL_01_2_s2          1          0       1   \n",
       "1  AKS1092-1-1  AKS1092  AKS1092_TL_01_2_s2          1          0       1   \n",
       "2  AKS1092-1-1  AKS1092  AKS1092_TL_01_2_s2          1          0       1   \n",
       "3  AKS1092-1-1  AKS1092  AKS1092_TL_01_2_s2          1          0       1   \n",
       "4  AKS1092-1-1  AKS1092  AKS1092_TL_01_2_s2          1          0       1   \n",
       "\n",
       "   frames  generation  age       fluo1         cdg  time since birth [min]  \n",
       "0      88         2.0    0  191.193916  191.193916                     0.0  \n",
       "1      89         2.0    1  192.241107  192.241107                     0.5  \n",
       "2      90         2.0    2  190.132576  190.132576                     1.0  \n",
       "3      91         2.0    3  193.149425  193.149425                     1.5  \n",
       "4      92         2.0    4  192.326848  192.326848                     2.0  "
      ]
     },
     "execution_count": 45,
     "metadata": {},
     "output_type": "execute_result"
    }
   ],
   "source": [
    "#add time in minutes\n",
    "df_filtered['time since birth [min]'] = df_filtered['age'] * 0.5\n",
    "df_filtered.head()"
   ]
  },
  {
   "cell_type": "code",
   "execution_count": 46,
   "metadata": {},
   "outputs": [],
   "source": [
    "out_name = save_dir / 'filtered_data_Cc_Fast.csv'\n",
    "df_filtered.to_csv(out_name)"
   ]
  },
  {
   "cell_type": "code",
   "execution_count": 48,
   "metadata": {},
   "outputs": [
    {
     "ename": "KeyboardInterrupt",
     "evalue": "",
     "output_type": "error",
     "traceback": [
      "\u001b[0;31m---------------------------------------------------------------------------\u001b[0m",
      "\u001b[0;31mKeyboardInterrupt\u001b[0m                         Traceback (most recent call last)",
      "\u001b[1;32m/Users/simonvanvliet/switchdrive/Biozentrum/Code/Andreas/cdg_dynamics_caulobacter/1_filter_data_Cc_Fast.ipynb Cell 26\u001b[0m in \u001b[0;36m<cell line: 1>\u001b[0;34m()\u001b[0m\n\u001b[0;32m----> <a href='vscode-notebook-cell:/Users/simonvanvliet/switchdrive/Biozentrum/Code/Andreas/cdg_dynamics_caulobacter/1_filter_data_Cc_Fast.ipynb#X44sZmlsZQ%3D%3D?line=0'>1</a>\u001b[0m sns\u001b[39m.\u001b[39;49mhistplot(data\u001b[39m=\u001b[39;49mdf_filtered, y\u001b[39m=\u001b[39;49m\u001b[39m'\u001b[39;49m\u001b[39mcdg\u001b[39;49m\u001b[39m'\u001b[39;49m)\n",
      "File \u001b[0;32m~/miniconda/miniconda3/envs/cdg_env/lib/python3.9/site-packages/seaborn/distributions.py:1462\u001b[0m, in \u001b[0;36mhistplot\u001b[0;34m(data, x, y, hue, weights, stat, bins, binwidth, binrange, discrete, cumulative, common_bins, common_norm, multiple, element, fill, shrink, kde, kde_kws, line_kws, thresh, pthresh, pmax, cbar, cbar_ax, cbar_kws, palette, hue_order, hue_norm, color, log_scale, legend, ax, **kwargs)\u001b[0m\n\u001b[1;32m   1451\u001b[0m estimate_kws \u001b[39m=\u001b[39m \u001b[39mdict\u001b[39m(\n\u001b[1;32m   1452\u001b[0m     stat\u001b[39m=\u001b[39mstat,\n\u001b[1;32m   1453\u001b[0m     bins\u001b[39m=\u001b[39mbins,\n\u001b[0;32m   (...)\u001b[0m\n\u001b[1;32m   1457\u001b[0m     cumulative\u001b[39m=\u001b[39mcumulative,\n\u001b[1;32m   1458\u001b[0m )\n\u001b[1;32m   1460\u001b[0m \u001b[39mif\u001b[39;00m p\u001b[39m.\u001b[39munivariate:\n\u001b[0;32m-> 1462\u001b[0m     p\u001b[39m.\u001b[39;49mplot_univariate_histogram(\n\u001b[1;32m   1463\u001b[0m         multiple\u001b[39m=\u001b[39;49mmultiple,\n\u001b[1;32m   1464\u001b[0m         element\u001b[39m=\u001b[39;49melement,\n\u001b[1;32m   1465\u001b[0m         fill\u001b[39m=\u001b[39;49mfill,\n\u001b[1;32m   1466\u001b[0m         shrink\u001b[39m=\u001b[39;49mshrink,\n\u001b[1;32m   1467\u001b[0m         common_norm\u001b[39m=\u001b[39;49mcommon_norm,\n\u001b[1;32m   1468\u001b[0m         common_bins\u001b[39m=\u001b[39;49mcommon_bins,\n\u001b[1;32m   1469\u001b[0m         kde\u001b[39m=\u001b[39;49mkde,\n\u001b[1;32m   1470\u001b[0m         kde_kws\u001b[39m=\u001b[39;49mkde_kws,\n\u001b[1;32m   1471\u001b[0m         color\u001b[39m=\u001b[39;49mcolor,\n\u001b[1;32m   1472\u001b[0m         legend\u001b[39m=\u001b[39;49mlegend,\n\u001b[1;32m   1473\u001b[0m         estimate_kws\u001b[39m=\u001b[39;49mestimate_kws,\n\u001b[1;32m   1474\u001b[0m         line_kws\u001b[39m=\u001b[39;49mline_kws,\n\u001b[1;32m   1475\u001b[0m         \u001b[39m*\u001b[39;49m\u001b[39m*\u001b[39;49mkwargs,\n\u001b[1;32m   1476\u001b[0m     )\n\u001b[1;32m   1478\u001b[0m \u001b[39melse\u001b[39;00m:\n\u001b[1;32m   1480\u001b[0m     p\u001b[39m.\u001b[39mplot_bivariate_histogram(\n\u001b[1;32m   1481\u001b[0m         common_bins\u001b[39m=\u001b[39mcommon_bins,\n\u001b[1;32m   1482\u001b[0m         common_norm\u001b[39m=\u001b[39mcommon_norm,\n\u001b[0;32m   (...)\u001b[0m\n\u001b[1;32m   1492\u001b[0m         \u001b[39m*\u001b[39m\u001b[39m*\u001b[39mkwargs,\n\u001b[1;32m   1493\u001b[0m     )\n",
      "File \u001b[0;32m~/miniconda/miniconda3/envs/cdg_env/lib/python3.9/site-packages/seaborn/distributions.py:428\u001b[0m, in \u001b[0;36m_DistributionPlotter.plot_univariate_histogram\u001b[0;34m(self, multiple, element, fill, common_norm, common_bins, shrink, kde, kde_kws, color, legend, line_kws, estimate_kws, **plot_kws)\u001b[0m\n\u001b[1;32m    418\u001b[0m     densities \u001b[39m=\u001b[39m \u001b[39mself\u001b[39m\u001b[39m.\u001b[39m_compute_univariate_density(\n\u001b[1;32m    419\u001b[0m         \u001b[39mself\u001b[39m\u001b[39m.\u001b[39mdata_variable,\n\u001b[1;32m    420\u001b[0m         common_norm,\n\u001b[0;32m   (...)\u001b[0m\n\u001b[1;32m    424\u001b[0m         warn_singular\u001b[39m=\u001b[39m\u001b[39mFalse\u001b[39;00m,\n\u001b[1;32m    425\u001b[0m     )\n\u001b[1;32m    427\u001b[0m \u001b[39m# First pass through the data to compute the histograms\u001b[39;00m\n\u001b[0;32m--> 428\u001b[0m \u001b[39mfor\u001b[39;00m sub_vars, sub_data \u001b[39min\u001b[39;00m \u001b[39mself\u001b[39m\u001b[39m.\u001b[39miter_data(\u001b[39m\"\u001b[39m\u001b[39mhue\u001b[39m\u001b[39m\"\u001b[39m, from_comp_data\u001b[39m=\u001b[39m\u001b[39mTrue\u001b[39;00m):\n\u001b[1;32m    429\u001b[0m \n\u001b[1;32m    430\u001b[0m     \u001b[39m# Prepare the relevant data\u001b[39;00m\n\u001b[1;32m    431\u001b[0m     key \u001b[39m=\u001b[39m \u001b[39mtuple\u001b[39m(sub_vars\u001b[39m.\u001b[39mitems())\n\u001b[1;32m    432\u001b[0m     sub_data \u001b[39m=\u001b[39m sub_data\u001b[39m.\u001b[39mdropna()\n",
      "File \u001b[0;32m~/miniconda/miniconda3/envs/cdg_env/lib/python3.9/site-packages/seaborn/_core.py:983\u001b[0m, in \u001b[0;36mVectorPlotter.iter_data\u001b[0;34m(self, grouping_vars, reverse, from_comp_data)\u001b[0m\n\u001b[1;32m    978\u001b[0m grouping_vars \u001b[39m=\u001b[39m [\n\u001b[1;32m    979\u001b[0m     var \u001b[39mfor\u001b[39;00m var \u001b[39min\u001b[39;00m grouping_vars \u001b[39mif\u001b[39;00m var \u001b[39min\u001b[39;00m \u001b[39mself\u001b[39m\u001b[39m.\u001b[39mvariables\n\u001b[1;32m    980\u001b[0m ]\n\u001b[1;32m    982\u001b[0m \u001b[39mif\u001b[39;00m from_comp_data:\n\u001b[0;32m--> 983\u001b[0m     data \u001b[39m=\u001b[39m \u001b[39mself\u001b[39;49m\u001b[39m.\u001b[39;49mcomp_data\n\u001b[1;32m    984\u001b[0m \u001b[39melse\u001b[39;00m:\n\u001b[1;32m    985\u001b[0m     data \u001b[39m=\u001b[39m \u001b[39mself\u001b[39m\u001b[39m.\u001b[39mplot_data\n",
      "File \u001b[0;32m~/miniconda/miniconda3/envs/cdg_env/lib/python3.9/site-packages/seaborn/_core.py:1057\u001b[0m, in \u001b[0;36mVectorPlotter.comp_data\u001b[0;34m(self)\u001b[0m\n\u001b[1;32m   1055\u001b[0m     orig \u001b[39m=\u001b[39m \u001b[39mself\u001b[39m\u001b[39m.\u001b[39mplot_data[var]\u001b[39m.\u001b[39mdropna()\n\u001b[1;32m   1056\u001b[0m comp_col \u001b[39m=\u001b[39m pd\u001b[39m.\u001b[39mSeries(index\u001b[39m=\u001b[39morig\u001b[39m.\u001b[39mindex, dtype\u001b[39m=\u001b[39m\u001b[39mfloat\u001b[39m, name\u001b[39m=\u001b[39mvar)\n\u001b[0;32m-> 1057\u001b[0m comp_col\u001b[39m.\u001b[39;49mloc[orig\u001b[39m.\u001b[39;49mindex] \u001b[39m=\u001b[39m pd\u001b[39m.\u001b[39mto_numeric(axis\u001b[39m.\u001b[39mconvert_units(orig))\n\u001b[1;32m   1059\u001b[0m \u001b[39mif\u001b[39;00m axis\u001b[39m.\u001b[39mget_scale() \u001b[39m==\u001b[39m \u001b[39m\"\u001b[39m\u001b[39mlog\u001b[39m\u001b[39m\"\u001b[39m:\n\u001b[1;32m   1060\u001b[0m     comp_col \u001b[39m=\u001b[39m np\u001b[39m.\u001b[39mlog10(comp_col)\n",
      "File \u001b[0;32m~/miniconda/miniconda3/envs/cdg_env/lib/python3.9/site-packages/pandas/core/indexing.py:716\u001b[0m, in \u001b[0;36m_LocationIndexer.__setitem__\u001b[0;34m(self, key, value)\u001b[0m\n\u001b[1;32m    713\u001b[0m \u001b[39mself\u001b[39m\u001b[39m.\u001b[39m_has_valid_setitem_indexer(key)\n\u001b[1;32m    715\u001b[0m iloc \u001b[39m=\u001b[39m \u001b[39mself\u001b[39m \u001b[39mif\u001b[39;00m \u001b[39mself\u001b[39m\u001b[39m.\u001b[39mname \u001b[39m==\u001b[39m \u001b[39m\"\u001b[39m\u001b[39miloc\u001b[39m\u001b[39m\"\u001b[39m \u001b[39melse\u001b[39;00m \u001b[39mself\u001b[39m\u001b[39m.\u001b[39mobj\u001b[39m.\u001b[39miloc\n\u001b[0;32m--> 716\u001b[0m iloc\u001b[39m.\u001b[39;49m_setitem_with_indexer(indexer, value, \u001b[39mself\u001b[39;49m\u001b[39m.\u001b[39;49mname)\n",
      "File \u001b[0;32m~/miniconda/miniconda3/envs/cdg_env/lib/python3.9/site-packages/pandas/core/indexing.py:1690\u001b[0m, in \u001b[0;36m_iLocIndexer._setitem_with_indexer\u001b[0;34m(self, indexer, value, name)\u001b[0m\n\u001b[1;32m   1688\u001b[0m     \u001b[39mself\u001b[39m\u001b[39m.\u001b[39m_setitem_with_indexer_split_path(indexer, value, name)\n\u001b[1;32m   1689\u001b[0m \u001b[39melse\u001b[39;00m:\n\u001b[0;32m-> 1690\u001b[0m     \u001b[39mself\u001b[39;49m\u001b[39m.\u001b[39;49m_setitem_single_block(indexer, value, name)\n",
      "File \u001b[0;32m~/miniconda/miniconda3/envs/cdg_env/lib/python3.9/site-packages/pandas/core/indexing.py:1929\u001b[0m, in \u001b[0;36m_iLocIndexer._setitem_single_block\u001b[0;34m(self, indexer, value, name)\u001b[0m\n\u001b[1;32m   1923\u001b[0m     indexer \u001b[39m=\u001b[39m maybe_convert_ix(\u001b[39m*\u001b[39mindexer)  \u001b[39m# e.g. test_setitem_frame_align\u001b[39;00m\n\u001b[1;32m   1925\u001b[0m \u001b[39mif\u001b[39;00m (\u001b[39misinstance\u001b[39m(value, ABCSeries) \u001b[39mand\u001b[39;00m name \u001b[39m!=\u001b[39m \u001b[39m\"\u001b[39m\u001b[39miloc\u001b[39m\u001b[39m\"\u001b[39m) \u001b[39mor\u001b[39;00m \u001b[39misinstance\u001b[39m(value, \u001b[39mdict\u001b[39m):\n\u001b[1;32m   1926\u001b[0m     \u001b[39m# TODO(EA): ExtensionBlock.setitem this causes issues with\u001b[39;00m\n\u001b[1;32m   1927\u001b[0m     \u001b[39m# setting for extensionarrays that store dicts. Need to decide\u001b[39;00m\n\u001b[1;32m   1928\u001b[0m     \u001b[39m# if it's worth supporting that.\u001b[39;00m\n\u001b[0;32m-> 1929\u001b[0m     value \u001b[39m=\u001b[39m \u001b[39mself\u001b[39;49m\u001b[39m.\u001b[39;49m_align_series(indexer, Series(value))\n\u001b[1;32m   1931\u001b[0m \u001b[39melif\u001b[39;00m \u001b[39misinstance\u001b[39m(value, ABCDataFrame) \u001b[39mand\u001b[39;00m name \u001b[39m!=\u001b[39m \u001b[39m\"\u001b[39m\u001b[39miloc\u001b[39m\u001b[39m\"\u001b[39m:\n\u001b[1;32m   1932\u001b[0m     value \u001b[39m=\u001b[39m \u001b[39mself\u001b[39m\u001b[39m.\u001b[39m_align_frame(indexer, value)\n",
      "File \u001b[0;32m~/miniconda/miniconda3/envs/cdg_env/lib/python3.9/site-packages/pandas/core/indexing.py:2091\u001b[0m, in \u001b[0;36m_iLocIndexer._align_series\u001b[0;34m(self, indexer, ser, multiindex_indexer)\u001b[0m\n\u001b[1;32m   2089\u001b[0m \u001b[39mif\u001b[39;00m obj\u001b[39m.\u001b[39mndim \u001b[39m==\u001b[39m \u001b[39m2\u001b[39m \u001b[39mand\u001b[39;00m is_empty_indexer(indexer[\u001b[39m0\u001b[39m], ser\u001b[39m.\u001b[39m_values):\n\u001b[1;32m   2090\u001b[0m     \u001b[39mreturn\u001b[39;00m ser\u001b[39m.\u001b[39m_values\u001b[39m.\u001b[39mcopy()\n\u001b[0;32m-> 2091\u001b[0m ser \u001b[39m=\u001b[39m ser\u001b[39m.\u001b[39;49mreindex(obj\u001b[39m.\u001b[39;49maxes[\u001b[39m0\u001b[39;49m][indexer[\u001b[39m0\u001b[39;49m]], copy\u001b[39m=\u001b[39;49m\u001b[39mTrue\u001b[39;49;00m)\u001b[39m.\u001b[39m_values\n\u001b[1;32m   2093\u001b[0m \u001b[39m# single indexer\u001b[39;00m\n\u001b[1;32m   2094\u001b[0m \u001b[39mif\u001b[39;00m \u001b[39mlen\u001b[39m(indexer) \u001b[39m>\u001b[39m \u001b[39m1\u001b[39m \u001b[39mand\u001b[39;00m \u001b[39mnot\u001b[39;00m multiindex_indexer:\n",
      "File \u001b[0;32m~/miniconda/miniconda3/envs/cdg_env/lib/python3.9/site-packages/pandas/core/series.py:4672\u001b[0m, in \u001b[0;36mSeries.reindex\u001b[0;34m(self, *args, **kwargs)\u001b[0m\n\u001b[1;32m   4668\u001b[0m         \u001b[39mraise\u001b[39;00m \u001b[39mTypeError\u001b[39;00m(\n\u001b[1;32m   4669\u001b[0m             \u001b[39m\"\u001b[39m\u001b[39m'\u001b[39m\u001b[39mindex\u001b[39m\u001b[39m'\u001b[39m\u001b[39m passed as both positional and keyword argument\u001b[39m\u001b[39m\"\u001b[39m\n\u001b[1;32m   4670\u001b[0m         )\n\u001b[1;32m   4671\u001b[0m     kwargs\u001b[39m.\u001b[39mupdate({\u001b[39m\"\u001b[39m\u001b[39mindex\u001b[39m\u001b[39m\"\u001b[39m: index})\n\u001b[0;32m-> 4672\u001b[0m \u001b[39mreturn\u001b[39;00m \u001b[39msuper\u001b[39;49m()\u001b[39m.\u001b[39;49mreindex(\u001b[39m*\u001b[39;49m\u001b[39m*\u001b[39;49mkwargs)\n",
      "File \u001b[0;32m~/miniconda/miniconda3/envs/cdg_env/lib/python3.9/site-packages/pandas/core/generic.py:4966\u001b[0m, in \u001b[0;36mNDFrame.reindex\u001b[0;34m(self, *args, **kwargs)\u001b[0m\n\u001b[1;32m   4963\u001b[0m     \u001b[39mreturn\u001b[39;00m \u001b[39mself\u001b[39m\u001b[39m.\u001b[39m_reindex_multi(axes, copy, fill_value)\n\u001b[1;32m   4965\u001b[0m \u001b[39m# perform the reindex on the axes\u001b[39;00m\n\u001b[0;32m-> 4966\u001b[0m \u001b[39mreturn\u001b[39;00m \u001b[39mself\u001b[39;49m\u001b[39m.\u001b[39;49m_reindex_axes(\n\u001b[1;32m   4967\u001b[0m     axes, level, limit, tolerance, method, fill_value, copy\n\u001b[1;32m   4968\u001b[0m )\u001b[39m.\u001b[39m__finalize__(\u001b[39mself\u001b[39m, method\u001b[39m=\u001b[39m\u001b[39m\"\u001b[39m\u001b[39mreindex\u001b[39m\u001b[39m\"\u001b[39m)\n",
      "File \u001b[0;32m~/miniconda/miniconda3/envs/cdg_env/lib/python3.9/site-packages/pandas/core/generic.py:4981\u001b[0m, in \u001b[0;36mNDFrame._reindex_axes\u001b[0;34m(self, axes, level, limit, tolerance, method, fill_value, copy)\u001b[0m\n\u001b[1;32m   4978\u001b[0m     \u001b[39mcontinue\u001b[39;00m\n\u001b[1;32m   4980\u001b[0m ax \u001b[39m=\u001b[39m \u001b[39mself\u001b[39m\u001b[39m.\u001b[39m_get_axis(a)\n\u001b[0;32m-> 4981\u001b[0m new_index, indexer \u001b[39m=\u001b[39m ax\u001b[39m.\u001b[39;49mreindex(\n\u001b[1;32m   4982\u001b[0m     labels, level\u001b[39m=\u001b[39;49mlevel, limit\u001b[39m=\u001b[39;49mlimit, tolerance\u001b[39m=\u001b[39;49mtolerance, method\u001b[39m=\u001b[39;49mmethod\n\u001b[1;32m   4983\u001b[0m )\n\u001b[1;32m   4985\u001b[0m axis \u001b[39m=\u001b[39m \u001b[39mself\u001b[39m\u001b[39m.\u001b[39m_get_axis_number(a)\n\u001b[1;32m   4986\u001b[0m obj \u001b[39m=\u001b[39m obj\u001b[39m.\u001b[39m_reindex_with_indexers(\n\u001b[1;32m   4987\u001b[0m     {axis: [new_index, indexer]},\n\u001b[1;32m   4988\u001b[0m     fill_value\u001b[39m=\u001b[39mfill_value,\n\u001b[1;32m   4989\u001b[0m     copy\u001b[39m=\u001b[39mcopy,\n\u001b[1;32m   4990\u001b[0m     allow_dups\u001b[39m=\u001b[39m\u001b[39mFalse\u001b[39;00m,\n\u001b[1;32m   4991\u001b[0m )\n",
      "File \u001b[0;32m~/miniconda/miniconda3/envs/cdg_env/lib/python3.9/site-packages/pandas/core/indexes/base.py:4212\u001b[0m, in \u001b[0;36mIndex.reindex\u001b[0;34m(self, target, method, level, limit, tolerance)\u001b[0m\n\u001b[1;32m   4207\u001b[0m     \u001b[39mif\u001b[39;00m method \u001b[39mis\u001b[39;00m \u001b[39mnot\u001b[39;00m \u001b[39mNone\u001b[39;00m \u001b[39mor\u001b[39;00m limit \u001b[39mis\u001b[39;00m \u001b[39mnot\u001b[39;00m \u001b[39mNone\u001b[39;00m:\n\u001b[1;32m   4208\u001b[0m         \u001b[39mraise\u001b[39;00m \u001b[39mValueError\u001b[39;00m(\n\u001b[1;32m   4209\u001b[0m             \u001b[39m\"\u001b[39m\u001b[39mcannot reindex a non-unique index \u001b[39m\u001b[39m\"\u001b[39m\n\u001b[1;32m   4210\u001b[0m             \u001b[39m\"\u001b[39m\u001b[39mwith a method or limit\u001b[39m\u001b[39m\"\u001b[39m\n\u001b[1;32m   4211\u001b[0m         )\n\u001b[0;32m-> 4212\u001b[0m     indexer, _ \u001b[39m=\u001b[39m \u001b[39mself\u001b[39;49m\u001b[39m.\u001b[39;49mget_indexer_non_unique(target)\n\u001b[1;32m   4214\u001b[0m \u001b[39mif\u001b[39;00m \u001b[39mnot\u001b[39;00m \u001b[39mself\u001b[39m\u001b[39m.\u001b[39mis_unique:\n\u001b[1;32m   4215\u001b[0m     \u001b[39m# GH#42568\u001b[39;00m\n\u001b[1;32m   4216\u001b[0m     warnings\u001b[39m.\u001b[39mwarn(\n\u001b[1;32m   4217\u001b[0m         \u001b[39m\"\u001b[39m\u001b[39mreindexing with a non-unique Index is deprecated and \u001b[39m\u001b[39m\"\u001b[39m\n\u001b[1;32m   4218\u001b[0m         \u001b[39m\"\u001b[39m\u001b[39mwill raise in a future version.\u001b[39m\u001b[39m\"\u001b[39m,\n\u001b[1;32m   4219\u001b[0m         \u001b[39mFutureWarning\u001b[39;00m,\n\u001b[1;32m   4220\u001b[0m         stacklevel\u001b[39m=\u001b[39mfind_stack_level(),\n\u001b[1;32m   4221\u001b[0m     )\n",
      "File \u001b[0;32m~/miniconda/miniconda3/envs/cdg_env/lib/python3.9/site-packages/pandas/core/indexes/base.py:5741\u001b[0m, in \u001b[0;36mIndex.get_indexer_non_unique\u001b[0;34m(self, target)\u001b[0m\n\u001b[1;32m   5736\u001b[0m     \u001b[39m# error: \"IndexEngine\" has no attribute \"_extract_level_codes\"\u001b[39;00m\n\u001b[1;32m   5737\u001b[0m     tgt_values \u001b[39m=\u001b[39m engine\u001b[39m.\u001b[39m_extract_level_codes(  \u001b[39m# type: ignore[attr-defined]\u001b[39;00m\n\u001b[1;32m   5738\u001b[0m         target\n\u001b[1;32m   5739\u001b[0m     )\n\u001b[0;32m-> 5741\u001b[0m indexer, missing \u001b[39m=\u001b[39m \u001b[39mself\u001b[39;49m\u001b[39m.\u001b[39;49m_engine\u001b[39m.\u001b[39;49mget_indexer_non_unique(tgt_values)\n\u001b[1;32m   5742\u001b[0m \u001b[39mreturn\u001b[39;00m ensure_platform_int(indexer), ensure_platform_int(missing)\n",
      "File \u001b[0;32m~/miniconda/miniconda3/envs/cdg_env/lib/python3.9/site-packages/pandas/_libs/index.pyx:424\u001b[0m, in \u001b[0;36mpandas._libs.index.IndexEngine.get_indexer_non_unique\u001b[0;34m()\u001b[0m\n",
      "File \u001b[0;32m<__array_function__ internals>:180\u001b[0m, in \u001b[0;36mresize\u001b[0;34m(*args, **kwargs)\u001b[0m\n",
      "File \u001b[0;32m~/miniconda/miniconda3/envs/cdg_env/lib/python3.9/site-packages/numpy/core/fromnumeric.py:1469\u001b[0m, in \u001b[0;36mresize\u001b[0;34m(a, new_shape)\u001b[0m\n\u001b[1;32m   1466\u001b[0m     \u001b[39mreturn\u001b[39;00m np\u001b[39m.\u001b[39mzeros_like(a, shape\u001b[39m=\u001b[39mnew_shape)\n\u001b[1;32m   1468\u001b[0m repeats \u001b[39m=\u001b[39m \u001b[39m-\u001b[39m(\u001b[39m-\u001b[39mnew_size \u001b[39m/\u001b[39m\u001b[39m/\u001b[39m a\u001b[39m.\u001b[39msize)  \u001b[39m# ceil division\u001b[39;00m\n\u001b[0;32m-> 1469\u001b[0m a \u001b[39m=\u001b[39m concatenate((a,) \u001b[39m*\u001b[39;49m repeats)[:new_size]\n\u001b[1;32m   1471\u001b[0m \u001b[39mreturn\u001b[39;00m reshape(a, new_shape)\n",
      "File \u001b[0;32m<__array_function__ internals>:180\u001b[0m, in \u001b[0;36mconcatenate\u001b[0;34m(*args, **kwargs)\u001b[0m\n",
      "\u001b[0;31mKeyboardInterrupt\u001b[0m: "
     ]
    },
    {
     "data": {
      "image/png": "[encoded data removed]",
      "text/plain": [
       "<Figure size 720x360 with 1 Axes>"
      ]
     },
     "metadata": {
      "image/png": {
       "height": 306,
       "width": 603
      },
      "needs_background": "light"
     },
     "output_type": "display_data"
    }
   ],
   "source": [
    "sns.histplot(data=df_filtered, y='cdg')"
   ]
  }
 ],
 "metadata": {
  "kernelspec": {
   "display_name": "Python 3.9.13 ('cdg_env')",
   "language": "python",
   "name": "python3"
  },
  "language_info": {
   "codemirror_mode": {
    "name": "ipython",
    "version": 3
   },
   "file_extension": ".py",
   "mimetype": "text/x-python",
   "name": "python",
   "nbconvert_exporter": "python",
   "pygments_lexer": "ipython3",
   "version": "3.9.13"
  },
  "vscode": {
   "interpreter": {
    "hash": "6f56a937569668ab65cc2fce89bf73837731fe29bf5b04beb0a684b94d597c4c"
   }
  }
 },
 "nbformat": 4,
 "nbformat_minor": 4
}
