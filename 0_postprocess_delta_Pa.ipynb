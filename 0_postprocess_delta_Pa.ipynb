{
 "cells": [
  {
   "cell_type": "markdown",
   "metadata": {},
   "source": [
    "# Convert delta output to Pandas dataframes\n",
    "\n",
    "In this notebook we convert Delta 2.0 default output into pandas data frames.\n",
    "\n",
    "Note:  run this notebook in an environment in which Delta2 has been installed, see [here](https://delta.readthedocs.io/en/latest/usage/installation.html) for instructions."
   ]
  },
  {
   "cell_type": "code",
   "execution_count": 2,
   "metadata": {},
   "outputs": [],
   "source": [
    "import pathlib\n",
    "import numpy as np\n",
    "import pandas as pd\n",
    "from delta_postprocess import delta_to_df \n",
    "import shutil\n",
    "import pickle"
   ]
  },
  {
   "cell_type": "code",
   "execution_count": 31,
   "metadata": {},
   "outputs": [],
   "source": [
    "#set data path\n",
    "data_root = pathlib.Path('/Volumes/RG-UJ01-Data01/Andreas/2022-08_cdg_sensor_single_cell_analysis/ProcessedData')\n",
    "data_folders = ['processed_PA','processed_Pa2','processed_Pa3']\n",
    "\n",
    "#set output paths\n",
    "root = pathlib.Path(pathlib.Path.home(), 'switchdrive', 'Biozentrum', 'Andreas')\n",
    "csv_dir = root / 'data_files_individual_colonies' / 'csv_files_Pa'\n",
    "movie_dir = root / 'mp4_movies' / 'mp4_files_Pa'\n",
    "out_dir = root / 'data_files' "
   ]
  },
  {
   "cell_type": "code",
   "execution_count": 32,
   "metadata": {},
   "outputs": [
    {
     "name": "stdout",
     "output_type": "stream",
     "text": [
      "['UJP1964', 'UJP3428', 'UJP3528', 'UJP4026', 'UJP4185', 'UJP505']\n",
      "['10_pilH', '11_pilA', '12_Psy Pf-01', '1_PAO1', '2_pel', '3_psl', '4_pel psl', '5_PA14', '6_PAK', '8_cpdA', '9_cpdA cyaAB']\n",
      "['UJP1464', 'UJP315', 'UJP3428_2']\n"
     ]
    }
   ],
   "source": [
    "\n",
    "for sub_folder in data_folders:\n",
    "    \n",
    "    data_dir = data_root / sub_folder\n",
    "    \n",
    "    #find subfolders\n",
    "    folder_names = [f.name for f in sorted(data_dir.glob('[!.,_]*'))]\n",
    "    print(folder_names)\n",
    "\n",
    "    #copy movies \n",
    "    for folder in folder_names:\n",
    "        #get images in subfolder\n",
    "        movie_names = [f.name for f in sorted((data_dir / folder).glob('*TL*'))]\n",
    "\n",
    "        for idx, movie in enumerate(movie_names):        \n",
    "            #path to current position        \n",
    "            datafiles = [f.name for f in sorted((data_dir / folder / movie).glob('*.mp4'))]\n",
    "            mp4_name = '%s_%s.mp4' %(folder,movie)\n",
    "            \n",
    "            path_old = data_dir / folder / movie / datafiles[0]\n",
    "            path_new = movie_dir / mp4_name\n",
    "            shutil.copyfile(path_old, path_new)\n",
    "            \n",
    "    for folder in folder_names:\n",
    "        #get images in subfolder\n",
    "        movie_names = [f.name for f in sorted((data_dir / folder).glob('*TL*'))]\n",
    "\n",
    "        for idx, movie in enumerate(movie_names):        \n",
    "            #path to current position        \n",
    "            datafiles = [f.name for f in sorted((data_dir / folder / movie).glob('*.pkl'))]\n",
    "            short_name = '%s_%s' %(folder,movie)\n",
    "                    \n",
    "            df = delta_to_df(data_dir / folder / movie / datafiles[0])\n",
    "            \n",
    "            df['strain'] = folder\n",
    "            df['movie_name'] = short_name\n",
    "            df['replicate'] = idx\n",
    "            \n",
    "            #save data-frame\n",
    "            save_name = short_name + '.csv'\n",
    "            df.to_csv(csv_dir / save_name)"
   ]
  },
  {
   "cell_type": "markdown",
   "metadata": {},
   "source": [
    "## Combine dataframes of separate experiments and store to disk"
   ]
  },
  {
   "cell_type": "code",
   "execution_count": 33,
   "metadata": {},
   "outputs": [],
   "source": [
    "file_list = [pd.read_csv(csv_dir/f.name) for f in sorted(csv_dir.glob('*.csv'))]\n",
    "df_combined = pd.concat(file_list, ignore_index=True).reset_index()\n",
    "save_name = 'pa_combined_data.csv'\n",
    "df_combined.to_csv(out_dir / save_name)"
   ]
  }
 ],
 "metadata": {
  "kernelspec": {
   "display_name": "Python 3.9.13 ('cdg_env')",
   "language": "python",
   "name": "python3"
  },
  "language_info": {
   "codemirror_mode": {
    "name": "ipython",
    "version": 3
   },
   "file_extension": ".py",
   "mimetype": "text/x-python",
   "name": "python",
   "nbconvert_exporter": "python",
   "pygments_lexer": "ipython3",
   "version": "3.9.13"
  },
  "vscode": {
   "interpreter": {
    "hash": "6f56a937569668ab65cc2fce89bf73837731fe29bf5b04beb0a684b94d597c4c"
   }
  }
 },
 "nbformat": 4,
 "nbformat_minor": 4
}
