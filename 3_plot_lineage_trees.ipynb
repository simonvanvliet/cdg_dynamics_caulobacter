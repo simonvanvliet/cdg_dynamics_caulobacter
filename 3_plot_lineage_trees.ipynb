{
 "cells": [
  {
   "cell_type": "markdown",
   "metadata": {},
   "source": [
    "# Plot Lineage Trees"
   ]
  },
  {
   "cell_type": "markdown",
   "metadata": {},
   "source": [
    "This codes plots the lineage Trees for selected colonies.\n",
    "\n",
    "Plotting is done using plot_lineage_tree.py function"
   ]
  },
  {
   "cell_type": "code",
   "execution_count": 1,
   "metadata": {},
   "outputs": [],
   "source": [
    "%matplotlib inline\n",
    "%config InlineBackend.figure_format = 'retina'\n",
    "\n",
    "import numpy as np\n",
    "import pandas as pd\n",
    "import matplotlib\n",
    "import matplotlib.pyplot as plt \n",
    "matplotlib.rc(\"figure\", figsize=(10,5))\n",
    "import pathlib\n",
    "\n",
    "from plot_lineage_tree import lin_tree"
   ]
  },
  {
   "cell_type": "markdown",
   "metadata": {},
   "source": [
    "## Plot lineage Caulobacter"
   ]
  },
  {
   "cell_type": "code",
   "execution_count": 8,
   "metadata": {},
   "outputs": [],
   "source": [
    "#specify data directory\n",
    "root_dir = pathlib.Path(pathlib.Path.home(), 'switchdrive', 'Biozentrum', 'Andreas') \n",
    "data_dir = root_dir / 'data_files_individual_colonies' / 'csv_files_Cc' \n",
    "image_dir = pathlib.Path() / 'images'\n",
    "export_data_dir = pathlib.Path() / 'data_files'\n",
    "\n",
    "time_int = 5 #time interval in minutes\n",
    "cdg_channel = 'fluo1'\n",
    "\n",
    "#provide dictionary with movie name and colony ID's\n",
    "data_list = [\n",
    "    {'df':'AKS1088_TL01_01.csv', 'col':[48] },\n",
    "    {'df':'AKS1089_TL01_08.csv', 'col':[24] },\n",
    "    {'df':'AKS1090_TL01_16.csv', 'col':[18] },\n",
    "    {'df':'AKS1091_TL01_20.csv', 'col':[27] },\n",
    "    {'df':'AKS1092_TL01_26.csv', 'col':[84] },\n",
    "    {'df':'AKS1094_TL01_01.csv', 'col':[11] },\n",
    "    {'df':'AKS1095_TL01_10.csv', 'col':[3], 'mf':68 },\n",
    "    {'df':'AKS1097_TL01_19.csv', 'col':[10] },\n",
    "    {'df':'AKS1098_TL01_26.csv', 'col':[21] },\n",
    "    {'df':'AKS1106_TL01_31.csv', 'col':[13] },\n",
    "    {'df':'AKS1181_TL_01_14_s2.csv', 'col':[6]},\n",
    "    {'df':'AKS1182_TL_01_23_s2.csv', 'col':[16]}]\n",
    "           "
   ]
  },
  {
   "cell_type": "markdown",
   "metadata": {},
   "source": [
    "### Find CDG value range"
   ]
  },
  {
   "cell_type": "code",
   "execution_count": 4,
   "metadata": {},
   "outputs": [
    {
     "name": "stdout",
     "output_type": "stream",
     "text": [
      "(165.54247491638796, 759.8573856738163) 420\n"
     ]
    }
   ],
   "source": [
    "maxT = 0\n",
    "cdg_int = 50\n",
    "t_offset = 15\n",
    "\n",
    "cdg = np.array([])\n",
    "\n",
    "for d in data_list:\n",
    "    df= pd.read_csv(data_dir / d['df'])\n",
    "    if 'mf' in d:\n",
    "        df= df[df['frames']<=d['mf']]  \n",
    "\n",
    "    maxT = max(maxT, df['frames'].max()*time_int)\n",
    "    cdg = np.concatenate((cdg, df[cdg_channel]))\n",
    "\n",
    "cdg_range = tuple(np.quantile(cdg, [0.05, 0.95]))\n",
    "maxT += t_offset\n",
    "\n",
    "print(cdg_range, maxT)"
   ]
  },
  {
   "cell_type": "markdown",
   "metadata": {},
   "source": [
    "### Export lineage trees"
   ]
  },
  {
   "cell_type": "code",
   "execution_count": 7,
   "metadata": {},
   "outputs": [],
   "source": [
    "for d in data_list:\n",
    "    df_name = d['df']\n",
    "    col_id = d['col']\n",
    "\n",
    "    df= pd.read_csv(data_dir / df_name)\n",
    "    if 'mf' in d:\n",
    "        df= df[df['frames']<=d['mf']]  \n",
    "    \n",
    "    df_col= df.loc[df['id_colony'].isin(col_id)]\n",
    "\n",
    "    lt = lin_tree(df_col, cdg_channel, frame_int=time_int)  \n",
    "    \n",
    "    fig, axs = lt.plot(cb_label='cdg level [a.u.]', \n",
    "                    cb_lim=cdg_range,\n",
    "                    marker_size=1, \n",
    "                    marker_type='|', \n",
    "                    fig_size=(1.5,2))\n",
    "    \n",
    "    axs.set_ylim([0, maxT])\n",
    "    \n",
    "    save_name = image_dir / df_name.replace('.csv','_c%i.svg' % col_id[0])\n",
    "    df.to_csv(export_data_dir / df_name.replace('.csv','_c%i.csv' % col_id[0]))\n",
    "    \n",
    "    fig.savefig(save_name)\n",
    "    plt.close()"
   ]
  },
  {
   "cell_type": "markdown",
   "metadata": {},
   "source": [
    "---"
   ]
  },
  {
   "cell_type": "markdown",
   "metadata": {},
   "source": [
    "## Plot lineage Pseudomonas"
   ]
  },
  {
   "cell_type": "code",
   "execution_count": 9,
   "metadata": {},
   "outputs": [],
   "source": [
    "#specify data directory\n",
    "root_dir = pathlib.Path(pathlib.Path.home(), 'switchdrive', 'Biozentrum', 'Andreas') \n",
    "data_dir = root_dir / 'data_files_individual_colonies' / 'csv_files_Pa' \n",
    "im_dir = root_dir / 'lineage_trees_Pa'\n",
    "image_dir = pathlib.Path() / 'images'\n",
    "export_data_dir = pathlib.Path() / 'data_files'\n",
    "\n",
    "time_int = 5 #time interval in minutes\n",
    "cdg_channel = 'fluo1'\n",
    "\n",
    "#provide dictionary with movie name and colony ID's\n",
    "data_list = [\n",
    "   {'df':'5_PA14_TL_01_21_s2.csv', 'col':[1]},\n",
    "   {'df':'6_PAK_TL_01_26_s2.csv', 'col':[0]},\n",
    "   {'df':'UJP505_TL_PseudoMutants_D11optScar_01_03.csv', 'col':[3] },\n",
    "   {'df':'UJP1964_TL_PseudoMutants_D11optScar_01_08.csv', 'col':[3] },\n",
    "   {'df':'UJP3428_TL_PseudoMutants_D11optScar_01_11.csv', 'col':[11]},\n",
    "   {'df':'UJP4185_TL_PseudoMutants_D11optScar_01_27.csv', 'col':[4]}\n",
    "]"
   ]
  },
  {
   "cell_type": "markdown",
   "metadata": {},
   "source": [
    "### Find CDG value range"
   ]
  },
  {
   "cell_type": "code",
   "execution_count": 10,
   "metadata": {},
   "outputs": [
    {
     "name": "stdout",
     "output_type": "stream",
     "text": [
      "(330.0005076142132, 1240.7208632770385) 605\n"
     ]
    }
   ],
   "source": [
    "maxT = 0\n",
    "cdg_int = 50\n",
    "t_offset = 15\n",
    "\n",
    "cdg = np.array([])\n",
    "\n",
    "for d in data_list:\n",
    "    df= pd.read_csv(data_dir / d['df'])\n",
    "    if 'mf' in d:\n",
    "        df= df[df['frames']<=d['mf']]  \n",
    "\n",
    "    maxT = max(maxT, df['frames'].max()*time_int)\n",
    "    cdg = np.concatenate((cdg, df[cdg_channel]))\n",
    "\n",
    "cdg_range = tuple(np.quantile(cdg, [0.05, 0.95]))\n",
    "maxT += t_offset\n",
    "\n",
    "print(cdg_range, maxT)"
   ]
  },
  {
   "cell_type": "markdown",
   "metadata": {},
   "source": [
    "### Export Lineage Tree"
   ]
  },
  {
   "cell_type": "code",
   "execution_count": 11,
   "metadata": {},
   "outputs": [],
   "source": [
    "for d in data_list:\n",
    "    df_name = d['df']\n",
    "    col_id = d['col']\n",
    "\n",
    "    df= pd.read_csv(data_dir / df_name)\n",
    "    if 'mf' in d:\n",
    "        df= df[df['frames']<=d['mf']]  \n",
    "    \n",
    "    df_col= df.loc[df['id_colony'].isin(col_id)]\n",
    "\n",
    "    lt = lin_tree(df_col, cdg_channel, frame_int=time_int)  \n",
    "    \n",
    "    fig, axs = lt.plot(cb_label='cdg level [a.u.]', \n",
    "                    cb_lim=cdg_range,\n",
    "                    marker_size=1, \n",
    "                    marker_type='|', \n",
    "                    fig_size=(1.5,2))\n",
    "    \n",
    "    axs.set_ylim([0, maxT])\n",
    "    \n",
    "    save_name = image_dir / df_name.replace('.csv','_c%i.svg' % col_id[0])\n",
    "    fig.savefig(save_name)\n",
    "    plt.close()\n",
    "    \n",
    "    df.to_csv(export_data_dir / df_name.replace('.csv','_c%i.csv' % col_id[0]))\n"
   ]
  }
 ],
 "metadata": {
  "kernelspec": {
   "display_name": "Python 3.9.13 ('cdg_env')",
   "language": "python",
   "name": "python3"
  },
  "language_info": {
   "codemirror_mode": {
    "name": "ipython",
    "version": 3
   },
   "file_extension": ".py",
   "mimetype": "text/x-python",
   "name": "python",
   "nbconvert_exporter": "python",
   "pygments_lexer": "ipython3",
   "version": "3.9.13"
  },
  "vscode": {
   "interpreter": {
    "hash": "6f56a937569668ab65cc2fce89bf73837731fe29bf5b04beb0a684b94d597c4c"
   }
  }
 },
 "nbformat": 4,
 "nbformat_minor": 4
}
