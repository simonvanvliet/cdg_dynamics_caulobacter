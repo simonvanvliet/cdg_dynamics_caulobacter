{
 "cells": [
  {
   "cell_type": "markdown",
   "metadata": {},
   "source": [
    "# Data Exploration"
   ]
  },
  {
   "cell_type": "markdown",
   "metadata": {},
   "source": [
    "---"
   ]
  },
  {
   "cell_type": "markdown",
   "id": "99dcf040",
   "metadata": {},
   "source": [
    "## Import packages"
   ]
  },
  {
   "cell_type": "code",
   "execution_count": 1,
   "metadata": {},
   "outputs": [],
   "source": [
    "%matplotlib inline\n",
    "%config InlineBackend.figure_format = 'retina'\n",
    "\n",
    "import numpy as np\n",
    "import pandas as pd\n",
    "\n",
    "import matplotlib\n",
    "import matplotlib.pyplot as plt\n",
    "matplotlib.rc(\"figure\", figsize=(10,5))\n",
    "\n",
    "import seaborn as sns\n",
    "\n",
    "import pathlib"
   ]
  },
  {
   "cell_type": "markdown",
   "metadata": {},
   "source": [
    "---"
   ]
  },
  {
   "cell_type": "markdown",
   "metadata": {},
   "source": [
    "## Setup Folders\n",
    "As always we start with specifying the data paths:"
   ]
  },
  {
   "cell_type": "code",
   "execution_count": 2,
   "metadata": {},
   "outputs": [],
   "source": [
    "proj_dir = pathlib.Path(pathlib.Path.home(), 'switchdrive', 'Biozentrum', 'Andreas')\n",
    "\n",
    "processed_dir = proj_dir / 'processed'\n",
    "data_dir = proj_dir / 'output'"
   ]
  },
  {
   "cell_type": "markdown",
   "metadata": {},
   "source": [
    "---"
   ]
  },
  {
   "cell_type": "markdown",
   "metadata": {},
   "source": [
    "## Load Data\n",
    "We load the data from the last notebook;"
   ]
  },
  {
   "cell_type": "code",
   "execution_count": 3,
   "metadata": {},
   "outputs": [
    {
     "data": {
      "text/html": [
       "<div>\n",
       "<style scoped>\n",
       "    .dataframe tbody tr th:only-of-type {\n",
       "        vertical-align: middle;\n",
       "    }\n",
       "\n",
       "    .dataframe tbody tr th {\n",
       "        vertical-align: top;\n",
       "    }\n",
       "\n",
       "    .dataframe thead th {\n",
       "        text-align: right;\n",
       "    }\n",
       "</style>\n",
       "<table border=\"1\" class=\"dataframe\">\n",
       "  <thead>\n",
       "    <tr style=\"text-align: right;\">\n",
       "      <th></th>\n",
       "      <th>id_seg</th>\n",
       "      <th>id_cell</th>\n",
       "      <th>id_par</th>\n",
       "      <th>id_colony</th>\n",
       "      <th>id_d1</th>\n",
       "      <th>id_d2</th>\n",
       "      <th>id_sib</th>\n",
       "      <th>frames</th>\n",
       "      <th>new_pole</th>\n",
       "      <th>old_pole</th>\n",
       "      <th>...</th>\n",
       "      <th>fluo2</th>\n",
       "      <th>x_pos</th>\n",
       "      <th>y_pos</th>\n",
       "      <th>generation</th>\n",
       "      <th>age</th>\n",
       "      <th>strain</th>\n",
       "      <th>movie_name</th>\n",
       "      <th>replicate</th>\n",
       "      <th>uni_id</th>\n",
       "      <th>uni_par_id</th>\n",
       "    </tr>\n",
       "  </thead>\n",
       "  <tbody>\n",
       "    <tr>\n",
       "      <th>0</th>\n",
       "      <td>0</td>\n",
       "      <td>0</td>\n",
       "      <td>-1</td>\n",
       "      <td>0</td>\n",
       "      <td>-1</td>\n",
       "      <td>-1</td>\n",
       "      <td>-1</td>\n",
       "      <td>0</td>\n",
       "      <td>[  4 706]</td>\n",
       "      <td>[  2 706]</td>\n",
       "      <td>...</td>\n",
       "      <td>411.577778</td>\n",
       "      <td>705.777778</td>\n",
       "      <td>2.955556</td>\n",
       "      <td>0.0</td>\n",
       "      <td>0</td>\n",
       "      <td>AKS1088</td>\n",
       "      <td>AKS1088_TL01_01</td>\n",
       "      <td>0</td>\n",
       "      <td>AKS1088-0-0</td>\n",
       "      <td>AKS1088-0--1</td>\n",
       "    </tr>\n",
       "    <tr>\n",
       "      <th>1</th>\n",
       "      <td>0</td>\n",
       "      <td>0</td>\n",
       "      <td>-1</td>\n",
       "      <td>0</td>\n",
       "      <td>-1</td>\n",
       "      <td>-1</td>\n",
       "      <td>-1</td>\n",
       "      <td>1</td>\n",
       "      <td>[  4 700]</td>\n",
       "      <td>[  3 700]</td>\n",
       "      <td>...</td>\n",
       "      <td>400.348837</td>\n",
       "      <td>700.255814</td>\n",
       "      <td>2.813953</td>\n",
       "      <td>0.0</td>\n",
       "      <td>1</td>\n",
       "      <td>AKS1088</td>\n",
       "      <td>AKS1088_TL01_01</td>\n",
       "      <td>0</td>\n",
       "      <td>AKS1088-0-0</td>\n",
       "      <td>AKS1088-0--1</td>\n",
       "    </tr>\n",
       "    <tr>\n",
       "      <th>2</th>\n",
       "      <td>0</td>\n",
       "      <td>0</td>\n",
       "      <td>-1</td>\n",
       "      <td>0</td>\n",
       "      <td>-1</td>\n",
       "      <td>-1</td>\n",
       "      <td>-1</td>\n",
       "      <td>2</td>\n",
       "      <td>[  3 705]</td>\n",
       "      <td>[  0 699]</td>\n",
       "      <td>...</td>\n",
       "      <td>372.648649</td>\n",
       "      <td>702.243243</td>\n",
       "      <td>2.405405</td>\n",
       "      <td>0.0</td>\n",
       "      <td>2</td>\n",
       "      <td>AKS1088</td>\n",
       "      <td>AKS1088_TL01_01</td>\n",
       "      <td>0</td>\n",
       "      <td>AKS1088-0-0</td>\n",
       "      <td>AKS1088-0--1</td>\n",
       "    </tr>\n",
       "    <tr>\n",
       "      <th>3</th>\n",
       "      <td>0</td>\n",
       "      <td>0</td>\n",
       "      <td>-1</td>\n",
       "      <td>0</td>\n",
       "      <td>-1</td>\n",
       "      <td>-1</td>\n",
       "      <td>-1</td>\n",
       "      <td>3</td>\n",
       "      <td>[  2 704]</td>\n",
       "      <td>[  2 703]</td>\n",
       "      <td>...</td>\n",
       "      <td>371.757576</td>\n",
       "      <td>703.606061</td>\n",
       "      <td>2.242424</td>\n",
       "      <td>0.0</td>\n",
       "      <td>3</td>\n",
       "      <td>AKS1088</td>\n",
       "      <td>AKS1088_TL01_01</td>\n",
       "      <td>0</td>\n",
       "      <td>AKS1088-0-0</td>\n",
       "      <td>AKS1088-0--1</td>\n",
       "    </tr>\n",
       "    <tr>\n",
       "      <th>4</th>\n",
       "      <td>0</td>\n",
       "      <td>0</td>\n",
       "      <td>-1</td>\n",
       "      <td>0</td>\n",
       "      <td>-1</td>\n",
       "      <td>-1</td>\n",
       "      <td>-1</td>\n",
       "      <td>4</td>\n",
       "      <td>[  3 704]</td>\n",
       "      <td>[  2 704]</td>\n",
       "      <td>...</td>\n",
       "      <td>368.166667</td>\n",
       "      <td>704.047619</td>\n",
       "      <td>2.642857</td>\n",
       "      <td>0.0</td>\n",
       "      <td>4</td>\n",
       "      <td>AKS1088</td>\n",
       "      <td>AKS1088_TL01_01</td>\n",
       "      <td>0</td>\n",
       "      <td>AKS1088-0-0</td>\n",
       "      <td>AKS1088-0--1</td>\n",
       "    </tr>\n",
       "  </tbody>\n",
       "</table>\n",
       "<p>5 rows × 26 columns</p>\n",
       "</div>"
      ],
      "text/plain": [
       "   id_seg  id_cell  id_par  id_colony  id_d1  id_d2  id_sib  frames  \\\n",
       "0       0        0      -1          0     -1     -1      -1       0   \n",
       "1       0        0      -1          0     -1     -1      -1       1   \n",
       "2       0        0      -1          0     -1     -1      -1       2   \n",
       "3       0        0      -1          0     -1     -1      -1       3   \n",
       "4       0        0      -1          0     -1     -1      -1       4   \n",
       "\n",
       "    new_pole   old_pole  ...       fluo2       x_pos     y_pos  generation  \\\n",
       "0  [  4 706]  [  2 706]  ...  411.577778  705.777778  2.955556         0.0   \n",
       "1  [  4 700]  [  3 700]  ...  400.348837  700.255814  2.813953         0.0   \n",
       "2  [  3 705]  [  0 699]  ...  372.648649  702.243243  2.405405         0.0   \n",
       "3  [  2 704]  [  2 703]  ...  371.757576  703.606061  2.242424         0.0   \n",
       "4  [  3 704]  [  2 704]  ...  368.166667  704.047619  2.642857         0.0   \n",
       "\n",
       "   age   strain       movie_name  replicate       uni_id    uni_par_id  \n",
       "0    0  AKS1088  AKS1088_TL01_01          0  AKS1088-0-0  AKS1088-0--1  \n",
       "1    1  AKS1088  AKS1088_TL01_01          0  AKS1088-0-0  AKS1088-0--1  \n",
       "2    2  AKS1088  AKS1088_TL01_01          0  AKS1088-0-0  AKS1088-0--1  \n",
       "3    3  AKS1088  AKS1088_TL01_01          0  AKS1088-0-0  AKS1088-0--1  \n",
       "4    4  AKS1088  AKS1088_TL01_01          0  AKS1088-0-0  AKS1088-0--1  \n",
       "\n",
       "[5 rows x 26 columns]"
      ]
     },
     "execution_count": 3,
     "metadata": {},
     "output_type": "execute_result"
    }
   ],
   "source": [
    "#load data frame\n",
    "df_name = data_dir / 'caulobacter_combined_data.csv'\n",
    "df = pd.read_csv(df_name, index_col=0)\n",
    "\n",
    "#add unique id of cell by combining strain and replicate\n",
    "df['uni_id'] = df['strain'].map(str) + '-' + df['replicate'].map(str) + '-' + df['id_cell'].map(str)\n",
    "df['uni_par_id'] = df['strain'].map(str) + '-' + df['replicate'].map(str) + '-' + df['id_par'].map(str)\n",
    "df.head()\n"
   ]
  },
  {
   "cell_type": "code",
   "execution_count": 4,
   "metadata": {},
   "outputs": [
    {
     "data": {
      "text/plain": [
       "Text(0.5, 0, 'life time of cell [frames]')"
      ]
     },
     "execution_count": 4,
     "metadata": {},
     "output_type": "execute_result"
    },
    {
     "data": {
      "image/png": "[encoded data removed]",
      "text/plain": [
       "<Figure size 720x360 with 1 Axes>"
      ]
     },
     "metadata": {
      "image/png": {
       "height": 316,
       "width": 618
      },
      "needs_background": "light"
     },
     "output_type": "display_data"
    }
   ],
   "source": [
    "#plot life time of cells\n",
    "ax = sns.histplot(data=df.groupby('uni_id').size(), bins=np.arange(50))\n",
    "ax.set_xlabel('life time of cell [frames]')"
   ]
  },
  {
   "cell_type": "markdown",
   "metadata": {},
   "source": [
    "---\n",
    "\n",
    "## Remove incomplete lineages\n",
    "\n",
    "We only consider full lineages (mothers & daughters tracked)"
   ]
  },
  {
   "cell_type": "code",
   "execution_count": 5,
   "metadata": {},
   "outputs": [
    {
     "name": "stdout",
     "output_type": "stream",
     "text": [
      "dropping 295077 measurements, 49.8% remaining\n"
     ]
    },
    {
     "data": {
      "image/png": "[encoded data removed]",
      "text/plain": [
       "<Figure size 720x360 with 1 Axes>"
      ]
     },
     "metadata": {
      "image/png": {
       "height": 316,
       "width": 618
      },
      "needs_background": "light"
     },
     "output_type": "display_data"
    }
   ],
   "source": [
    "#remove incomplete lineages\n",
    "has_mom = df[\"id_par\"] > -1\n",
    "has_d1 = df[\"id_d1\"] > -1\n",
    "has_d2 = df[\"id_d2\"] > -1\n",
    "full_lin = has_mom & has_d1 & has_d2\n",
    "\n",
    "df_compl = df[full_lin].copy()\n",
    "ax = sns.histplot(data=df_compl.groupby('uni_id').size(), bins=np.arange(50))\n",
    "ax.set_xlabel('life time of cell [frames]')\n",
    "print('dropping %i measurements, %.1f%% remaining' % (df.shape[0]-df_compl.shape[0], df_compl.shape[0]/df.shape[0]*100))\n"
   ]
  },
  {
   "cell_type": "markdown",
   "metadata": {},
   "source": [
    "---"
   ]
  },
  {
   "cell_type": "markdown",
   "metadata": {},
   "source": [
    "## Check lineages\n",
    "\n",
    "We use following checks:\n",
    " - We only consider lineages that are around for at least 30 minutes (7 frames)\n",
    " - We filter out lineages where the length changes too much.\n",
    "    - We calculate length change as $\\frac{l(t+\\Delta t)}{l(t)} = 2^{\\Delta t / t_d}$\n",
    "    - We allow for a max increase of 1.08 (e.q. to $t_d=45$  min), and a max decrease of 0.92.\n",
    " - We filter out lineages where length changes too much between division $\\frac{l_{d1}+l_{d2}}{l_p}$\n",
    " - We filter out lineages where we do not have sibling cell"
   ]
  },
  {
   "cell_type": "code",
   "execution_count": 6,
   "metadata": {},
   "outputs": [
    {
     "data": {
      "text/plain": [
       "<AxesSubplot:xlabel='rel_dl', ylabel='Count'>"
      ]
     },
     "execution_count": 6,
     "metadata": {},
     "output_type": "execute_result"
    },
    {
     "data": {
      "image/png": "[encoded data removed]",
      "text/plain": [
       "<Figure size 864x288 with 3 Axes>"
      ]
     },
     "metadata": {
      "image/png": {
       "height": 262,
       "width": 736
      },
      "needs_background": "light"
     },
     "output_type": "display_data"
    }
   ],
   "source": [
    "#calc length change\n",
    "dl = df_compl.groupby('uni_id')['length'].diff()\n",
    "df_compl['rel_dl'] = (df_compl['length'] + dl)/df_compl['length']\n",
    "max_dl = df_compl.groupby('uni_id')['rel_dl'].max()\n",
    "min_dl = df_compl.groupby('uni_id')['rel_dl'].min()\n",
    "\n",
    "fig, axs = plt.subplots(1,3, figsize=(12,4))\n",
    "sns.histplot(ax=axs[0], data=df_compl, x='rel_dl', bins=np.linspace(0.8,1.2,41))\n",
    "sns.histplot(ax=axs[1], data=max_dl, bins=np.linspace(0.8,1.2,41))\n",
    "sns.histplot(ax=axs[2], data=min_dl, bins=np.linspace(0.8,1.2,41))\n"
   ]
  },
  {
   "cell_type": "code",
   "execution_count": 7,
   "metadata": {},
   "outputs": [],
   "source": [
    "#analyze change in length\n",
    "dl_list = []\n",
    "movies_grouped = df_compl.groupby('movie_name')\n",
    "\n",
    "for name, movie in movies_grouped:\n",
    "    cells_grouped = movie.groupby('uni_id')\n",
    "    for name, cell in cells_grouped:\n",
    "        \n",
    "        try:\n",
    "            sis_idx = movie['id_cell'] == cell['id_sib'].iloc[0]\n",
    "            par_idx = movie['id_cell'] == cell['id_par'].iloc[0]\n",
    "            \n",
    "            #get length\n",
    "            len_cel = cell['length'].iloc[0]\n",
    "            len_sib = movie.loc[sis_idx, 'length'].iloc[0]\n",
    "            len_par = movie.loc[par_idx, 'length'].iloc[-1]\n",
    "        \n",
    "            dl_list.append((len_cel + len_sib) / len_par)\n",
    "        except:\n",
    "            continue\n"
   ]
  },
  {
   "cell_type": "code",
   "execution_count": 8,
   "metadata": {},
   "outputs": [
    {
     "data": {
      "text/plain": [
       "<AxesSubplot:ylabel='Count'>"
      ]
     },
     "execution_count": 8,
     "metadata": {},
     "output_type": "execute_result"
    },
    {
     "data": {
      "image/png": "[encoded data removed]",
      "text/plain": [
       "<Figure size 720x360 with 1 Axes>"
      ]
     },
     "metadata": {
      "image/png": {
       "height": 302,
       "width": 618
      },
      "needs_background": "light"
     },
     "output_type": "display_data"
    }
   ],
   "source": [
    "sns.histplot(data=dl_list, bins=np.linspace(0.6,1.4,41))"
   ]
  },
  {
   "cell_type": "code",
   "execution_count": 18,
   "metadata": {},
   "outputs": [],
   "source": [
    "new_df_list = []\n",
    "\n",
    "#filter lineages\n",
    "min_num_frm = 7\n",
    "\n",
    "#window over which to average cdg levels at end of life / -1 is all life \n",
    "av_wndw  = -1\n",
    "\n",
    "# filter on length change during life time\n",
    "max_dl = 1.08 #(eq. to td=45min)\n",
    "min_dl = 0.92\n",
    "\n",
    "# filter on length change during division\n",
    "max_dl_div = 1.2 \n",
    "min_dl_div = 0.94\n",
    "\n",
    "df_list = []\n",
    "movies_grouped = df.groupby('movie_name')\n",
    "\n",
    "cols = ['uni_par_id', 'strain', 'movie_name', 'replicate', 'id_colony', 'id_par',\n",
    " 'frames', 'generation', 'age']\n",
    "\n",
    "def check_growth(len):\n",
    "    dl = len[1:] / len[0:-1]\n",
    "    return np.all(dl>min_dl) & np.all(dl<max_dl)\n",
    "\n",
    "reason_skipped = []\n",
    "lut = []\n",
    "\n",
    "for name, movie in movies_grouped:\n",
    "    cells_grouped = movie.groupby('uni_id')\n",
    "    \n",
    "    par_id_done = []\n",
    "    \n",
    "    for name, cell in cells_grouped:  \n",
    "        par_id = cell[\"id_par\"].iloc[0]\n",
    "        if par_id in par_id_done:\n",
    "            reason_skipped.append(-2)   \n",
    "        \n",
    "        else:\n",
    "            #check if full lineage\n",
    "            has_mom = par_id > -1\n",
    "            has_d1 = cell[\"id_d1\"].iloc[0] > -1\n",
    "            has_d2 = cell[\"id_d2\"].iloc[0] > -1\n",
    "            full_lin = has_mom & has_d1 & has_d2\n",
    "            \n",
    "            if not full_lin: reason_skipped.append(1)\n",
    "\n",
    "            if full_lin:\n",
    "                #check if there is sister\n",
    "                sis_idx = movie['id_cell'] == cell['id_sib'].iloc[0]\n",
    "                par_idx = movie['id_cell'] == cell['id_par'].iloc[0]\n",
    "                has_sib = sis_idx.sum()>0\n",
    "                if not has_sib: reason_skipped.append(2)\n",
    "                \n",
    "                if has_sib:\n",
    "                    #check if there are enough frames\n",
    "                    len_cel = cell['length']\n",
    "                    len_sib = movie.loc[sis_idx, 'length']\n",
    "                    len_ok = (len_cel.size >= min_num_frm) & (len_sib.size >= min_num_frm) \n",
    "                    if not len_ok: reason_skipped.append(3)\n",
    "\n",
    "                    if len_ok:\n",
    "                        #check length across division                         \n",
    "                        dl = (len_cel.iloc[0] + len_sib.iloc[0]) / movie.loc[par_idx, 'length'].iloc[-1]\n",
    "                        div_ok = (dl > min_dl_div) &  (dl < max_dl_div)\n",
    "                        if not div_ok: reason_skipped.append(4)\n",
    "                        \n",
    "                        if div_ok:\n",
    "                            #check length of cells \n",
    "                            frms = np.arange(min(len_cel.size, len_sib.size))\n",
    "                            \n",
    "                            len_cel = len_cel.iloc[frms].values \n",
    "                            len_sib = len_sib.iloc[frms].values\n",
    "                            \n",
    "                            len1_ok = check_growth(len_cel)\n",
    "                            len2_ok = check_growth(len_sib)\n",
    "                            if not len1_ok: reason_skipped.append(5)\n",
    "                            if not len2_ok: reason_skipped.append(6)\n",
    "\n",
    "                            if len1_ok & len2_ok:\n",
    "                                #cell pair ok, process\n",
    "                                par_id_done.append(par_id) \n",
    "                                reason_skipped.append(-1)\n",
    "                                sib_n = cell['id_sib'].iloc[0]\n",
    "                                cel_n = cell['id_cell'].iloc[0]\n",
    "                                \n",
    "                                #copy data frame                    \n",
    "                                new_df = cell.iloc[frms, df.columns.get_indexer(cols)].reset_index(drop=True)\n",
    "                                \n",
    "                                #get fluorescent values\n",
    "                                fluo_cel = cell['fluo1'].iloc[frms].values \n",
    "                                fluo_sib = movie.loc[sis_idx, 'fluo1'].iloc[frms].values \n",
    "\n",
    "                                #calc fluorescence ratio\n",
    "                                rel_fluor = fluo_cel / fluo_sib\n",
    "                                av_frms = min(av_wndw, rel_fluor.size)\n",
    "                                fluo_ratio = rel_fluor.mean() if av_frms==-1 else rel_fluor[-av_frms:].mean()\n",
    "                                \n",
    "                                #order d1 and d2 based on cdg levels\n",
    "                                has_high_cdg = True if fluo_ratio>1 else False\n",
    "                                \n",
    "                                #normalize fluor\n",
    "                                max_fluor = fluo_cel[0] if fluo_ratio>1 else fluo_sib[0]\n",
    "                                fluo_cel_norm = fluo_cel / max_fluor\n",
    "                                fluo_sib_norm = fluo_sib / max_fluor\n",
    "                                \n",
    "                                #d1 should be old pole\n",
    "                                par_d1 = movie.loc[par_idx, 'id_d1'].iloc[0]\n",
    "                                is_old = cel_n == par_d1\n",
    "                                \n",
    "                                new_df['high_in_old'] = 1 if (is_old & has_high_cdg) else 0\n",
    "                                \n",
    "                                #add new fields to df\n",
    "                                new_df['cdg_old'] =  fluo_cel if is_old else fluo_sib\n",
    "                                new_df['cdg_new'] =  fluo_sib if is_old else fluo_cel\n",
    "                                \n",
    "                                new_df['cdg_norm_old'] =  fluo_cel_norm if is_old else fluo_sib_norm\n",
    "                                new_df['cdg_norm_new'] =  fluo_sib_norm if is_old else fluo_cel_norm\n",
    "                                \n",
    "                                new_df['cdg_dh'] =  fluo_cel if has_high_cdg  else fluo_sib\n",
    "                                new_df['cdg_dl'] =  fluo_sib if has_high_cdg  else fluo_cel\n",
    "                                        \n",
    "                                new_df['cdg_norm_dh'] =  fluo_cel_norm if has_high_cdg  else fluo_sib_norm\n",
    "                                new_df['cdg_norm_dl'] =  fluo_sib_norm if has_high_cdg  else fluo_cel_norm\n",
    "                                \n",
    "                                new_df['len_dh'] =  len_cel if has_high_cdg  else len_sib\n",
    "                                new_df['len_dl'] =  len_sib if has_high_cdg  else len_cel\n",
    "                                \n",
    "                                new_df['idc_dh'] =  cel_n if has_high_cdg  else sib_n\n",
    "                                new_df['idc_dl'] =  sib_n if has_high_cdg  else cel_n\n",
    "                                \n",
    "                                new_df['rel_cdg'] = fluo_cel/fluo_sib if has_high_cdg else fluo_sib/fluo_cel\n",
    "                                \n",
    "                                new_df_list.append(new_df)\n",
    "                                \n",
    "\n",
    "                 \n",
    "    \n",
    "             "
   ]
  },
  {
   "cell_type": "code",
   "execution_count": 33,
   "metadata": {},
   "outputs": [
    {
     "name": "stdout",
     "output_type": "stream",
     "text": [
      "4429 3909\n"
     ]
    }
   ],
   "source": [
    "a = np.array(reason_skipped)\n",
    "print(np.sum(a==-1), np.sum(a==-2))"
   ]
  },
  {
   "cell_type": "code",
   "execution_count": 19,
   "metadata": {},
   "outputs": [
    {
     "data": {
      "text/plain": [
       "<AxesSubplot:ylabel='Count'>"
      ]
     },
     "execution_count": 19,
     "metadata": {},
     "output_type": "execute_result"
    },
    {
     "data": {
      "image/png": "[encoded data removed]",
      "text/plain": [
       "<Figure size 720x360 with 1 Axes>"
      ]
     },
     "metadata": {
      "image/png": {
       "height": 302,
       "width": 624
      },
      "needs_background": "light"
     },
     "output_type": "display_data"
    }
   ],
   "source": [
    "sns.histplot(reason_skipped)"
   ]
  },
  {
   "cell_type": "code",
   "execution_count": 20,
   "metadata": {},
   "outputs": [],
   "source": [
    "df_paired = pd.concat(new_df_list)"
   ]
  },
  {
   "cell_type": "code",
   "execution_count": 14,
   "metadata": {},
   "outputs": [
    {
     "data": {
      "text/html": [
       "<div>\n",
       "<style scoped>\n",
       "    .dataframe tbody tr th:only-of-type {\n",
       "        vertical-align: middle;\n",
       "    }\n",
       "\n",
       "    .dataframe tbody tr th {\n",
       "        vertical-align: top;\n",
       "    }\n",
       "\n",
       "    .dataframe thead th {\n",
       "        text-align: right;\n",
       "    }\n",
       "</style>\n",
       "<table border=\"1\" class=\"dataframe\">\n",
       "  <thead>\n",
       "    <tr style=\"text-align: right;\">\n",
       "      <th></th>\n",
       "      <th>uni_par_id</th>\n",
       "      <th>strain</th>\n",
       "      <th>movie_name</th>\n",
       "      <th>replicate</th>\n",
       "      <th>id_colony</th>\n",
       "      <th>id_par</th>\n",
       "      <th>frames</th>\n",
       "      <th>generation</th>\n",
       "      <th>age</th>\n",
       "      <th>cdg_d1</th>\n",
       "      <th>cdg_d2</th>\n",
       "      <th>cdg_norm_d1</th>\n",
       "      <th>cdg_norm_d2</th>\n",
       "      <th>len_d1</th>\n",
       "      <th>len_d2</th>\n",
       "      <th>idc_d1</th>\n",
       "      <th>idc_d2</th>\n",
       "      <th>rel_cdg</th>\n",
       "    </tr>\n",
       "  </thead>\n",
       "  <tbody>\n",
       "    <tr>\n",
       "      <th>0</th>\n",
       "      <td>AKS1088-0-99</td>\n",
       "      <td>AKS1088</td>\n",
       "      <td>AKS1088_TL01_01</td>\n",
       "      <td>0</td>\n",
       "      <td>30</td>\n",
       "      <td>99</td>\n",
       "      <td>4</td>\n",
       "      <td>1.0</td>\n",
       "      <td>0</td>\n",
       "      <td>498.574545</td>\n",
       "      <td>508.944186</td>\n",
       "      <td>1.000000</td>\n",
       "      <td>1.020799</td>\n",
       "      <td>38.155479</td>\n",
       "      <td>30.224384</td>\n",
       "      <td>247</td>\n",
       "      <td>100</td>\n",
       "      <td>0.979625</td>\n",
       "    </tr>\n",
       "    <tr>\n",
       "      <th>1</th>\n",
       "      <td>AKS1088-0-99</td>\n",
       "      <td>AKS1088</td>\n",
       "      <td>AKS1088_TL01_01</td>\n",
       "      <td>0</td>\n",
       "      <td>30</td>\n",
       "      <td>99</td>\n",
       "      <td>5</td>\n",
       "      <td>1.0</td>\n",
       "      <td>1</td>\n",
       "      <td>493.422535</td>\n",
       "      <td>495.450893</td>\n",
       "      <td>0.989667</td>\n",
       "      <td>0.993735</td>\n",
       "      <td>39.082878</td>\n",
       "      <td>31.386862</td>\n",
       "      <td>247</td>\n",
       "      <td>100</td>\n",
       "      <td>0.995906</td>\n",
       "    </tr>\n",
       "    <tr>\n",
       "      <th>2</th>\n",
       "      <td>AKS1088-0-99</td>\n",
       "      <td>AKS1088</td>\n",
       "      <td>AKS1088_TL01_01</td>\n",
       "      <td>0</td>\n",
       "      <td>30</td>\n",
       "      <td>99</td>\n",
       "      <td>6</td>\n",
       "      <td>1.0</td>\n",
       "      <td>2</td>\n",
       "      <td>500.161512</td>\n",
       "      <td>512.426778</td>\n",
       "      <td>1.003183</td>\n",
       "      <td>1.027784</td>\n",
       "      <td>39.650173</td>\n",
       "      <td>32.200001</td>\n",
       "      <td>247</td>\n",
       "      <td>100</td>\n",
       "      <td>0.976064</td>\n",
       "    </tr>\n",
       "    <tr>\n",
       "      <th>3</th>\n",
       "      <td>AKS1088-0-99</td>\n",
       "      <td>AKS1088</td>\n",
       "      <td>AKS1088_TL01_01</td>\n",
       "      <td>0</td>\n",
       "      <td>30</td>\n",
       "      <td>99</td>\n",
       "      <td>7</td>\n",
       "      <td>1.0</td>\n",
       "      <td>3</td>\n",
       "      <td>479.476974</td>\n",
       "      <td>515.524000</td>\n",
       "      <td>0.961696</td>\n",
       "      <td>1.033996</td>\n",
       "      <td>40.208679</td>\n",
       "      <td>33.384285</td>\n",
       "      <td>247</td>\n",
       "      <td>100</td>\n",
       "      <td>0.930077</td>\n",
       "    </tr>\n",
       "    <tr>\n",
       "      <th>4</th>\n",
       "      <td>AKS1088-0-99</td>\n",
       "      <td>AKS1088</td>\n",
       "      <td>AKS1088_TL01_01</td>\n",
       "      <td>0</td>\n",
       "      <td>30</td>\n",
       "      <td>99</td>\n",
       "      <td>8</td>\n",
       "      <td>1.0</td>\n",
       "      <td>4</td>\n",
       "      <td>490.732484</td>\n",
       "      <td>511.780303</td>\n",
       "      <td>0.984271</td>\n",
       "      <td>1.026487</td>\n",
       "      <td>41.959156</td>\n",
       "      <td>35.382584</td>\n",
       "      <td>247</td>\n",
       "      <td>100</td>\n",
       "      <td>0.958873</td>\n",
       "    </tr>\n",
       "  </tbody>\n",
       "</table>\n",
       "</div>"
      ],
      "text/plain": [
       "     uni_par_id   strain       movie_name  replicate  id_colony  id_par  \\\n",
       "0  AKS1088-0-99  AKS1088  AKS1088_TL01_01          0         30      99   \n",
       "1  AKS1088-0-99  AKS1088  AKS1088_TL01_01          0         30      99   \n",
       "2  AKS1088-0-99  AKS1088  AKS1088_TL01_01          0         30      99   \n",
       "3  AKS1088-0-99  AKS1088  AKS1088_TL01_01          0         30      99   \n",
       "4  AKS1088-0-99  AKS1088  AKS1088_TL01_01          0         30      99   \n",
       "\n",
       "   frames  generation  age      cdg_d1      cdg_d2  cdg_norm_d1  cdg_norm_d2  \\\n",
       "0       4         1.0    0  498.574545  508.944186     1.000000     1.020799   \n",
       "1       5         1.0    1  493.422535  495.450893     0.989667     0.993735   \n",
       "2       6         1.0    2  500.161512  512.426778     1.003183     1.027784   \n",
       "3       7         1.0    3  479.476974  515.524000     0.961696     1.033996   \n",
       "4       8         1.0    4  490.732484  511.780303     0.984271     1.026487   \n",
       "\n",
       "      len_d1     len_d2  idc_d1  idc_d2   rel_cdg  \n",
       "0  38.155479  30.224384     247     100  0.979625  \n",
       "1  39.082878  31.386862     247     100  0.995906  \n",
       "2  39.650173  32.200001     247     100  0.976064  \n",
       "3  40.208679  33.384285     247     100  0.930077  \n",
       "4  41.959156  35.382584     247     100  0.958873  "
      ]
     },
     "execution_count": 14,
     "metadata": {},
     "output_type": "execute_result"
    }
   ],
   "source": [
    "df_paired.head()"
   ]
  },
  {
   "cell_type": "code",
   "execution_count": 21,
   "metadata": {},
   "outputs": [
    {
     "data": {
      "text/plain": [
       "<AxesSubplot:xlabel='strain'>"
      ]
     },
     "execution_count": 21,
     "metadata": {},
     "output_type": "execute_result"
    },
    {
     "data": {
      "image/png": "[encoded data removed]",
      "text/plain": [
       "<Figure size 720x360 with 1 Axes>"
      ]
     },
     "metadata": {
      "image/png": {
       "height": 351,
       "width": 598
      },
      "needs_background": "light"
     },
     "output_type": "display_data"
    }
   ],
   "source": [
    "first_frame = df_paired.groupby('uni_par_id').first()\n",
    "num_lin_per_strain = first_frame.groupby('strain').size() \n",
    "num_lin_per_strain.head(n=18)\n",
    "num_lin_per_strain.plot(kind='bar')\n"
   ]
  },
  {
   "cell_type": "code",
   "execution_count": 22,
   "metadata": {},
   "outputs": [
    {
     "data": {
      "text/plain": [
       "strain\n",
       "AKS1088    329\n",
       "AKS1089    209\n",
       "AKS1090    407\n",
       "AKS1091    539\n",
       "AKS1092    616\n",
       "AKS1093    225\n",
       "AKS1094    141\n",
       "AKS1095    207\n",
       "AKS1096    279\n",
       "AKS1097    158\n",
       "AKS1098    171\n",
       "AKS1099    195\n",
       "AKS1101    199\n",
       "AKS1102    106\n",
       "AKS1103    197\n",
       "AKS1104    133\n",
       "AKS1105    123\n",
       "AKS1106    195\n",
       "dtype: int64"
      ]
     },
     "execution_count": 22,
     "metadata": {},
     "output_type": "execute_result"
    }
   ],
   "source": [
    "num_lin_per_strain"
   ]
  },
  {
   "cell_type": "markdown",
   "metadata": {},
   "source": [
    "## Save paired data"
   ]
  },
  {
   "cell_type": "code",
   "execution_count": 23,
   "metadata": {},
   "outputs": [],
   "source": [
    "out_name = processed_dir / 'caulobacter_combined_filtered_paired_data.csv'\n",
    "df_paired.to_csv(out_name)"
   ]
  }
 ],
 "metadata": {
  "interpreter": {
   "hash": "04885f21a4bd9418df205c8169dbf35b8c72791b69b584ac7513023d01d78b79"
  },
  "kernelspec": {
   "display_name": "Python 3.9.12 ('i2i_env')",
   "language": "python",
   "name": "python3"
  },
  "language_info": {
   "codemirror_mode": {
    "name": "ipython",
    "version": 3
   },
   "file_extension": ".py",
   "mimetype": "text/x-python",
   "name": "python",
   "nbconvert_exporter": "python",
   "pygments_lexer": "ipython3",
   "version": "3.9.12"
  }
 },
 "nbformat": 4,
 "nbformat_minor": 4
}
