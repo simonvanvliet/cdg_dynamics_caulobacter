{
 "cells": [
  {
   "cell_type": "markdown",
   "metadata": {},
   "source": [
    "# Data Exploration"
   ]
  },
  {
   "cell_type": "markdown",
   "metadata": {},
   "source": [
    "---"
   ]
  },
  {
   "cell_type": "markdown",
   "id": "99dcf040",
   "metadata": {},
   "source": [
    "## Import packages"
   ]
  },
  {
   "cell_type": "code",
   "execution_count": 34,
   "metadata": {},
   "outputs": [],
   "source": [
    "%matplotlib inline\n",
    "%config InlineBackend.figure_format = 'retina'\n",
    "\n",
    "import numpy as np\n",
    "import pandas as pd\n",
    "\n",
    "import matplotlib\n",
    "import matplotlib.pyplot as plt\n",
    "matplotlib.rc(\"figure\", figsize=(10,5))\n",
    "\n",
    "import seaborn as sns\n",
    "\n",
    "import pathlib"
   ]
  },
  {
   "cell_type": "markdown",
   "metadata": {},
   "source": [
    "---"
   ]
  },
  {
   "cell_type": "markdown",
   "metadata": {},
   "source": [
    "## Setup Folders\n",
    "As always we start with specifying the data paths:"
   ]
  },
  {
   "cell_type": "code",
   "execution_count": 35,
   "metadata": {},
   "outputs": [],
   "source": [
    "proj_dir = pathlib.Path(pathlib.Path.home(), 'switchdrive', 'Biozentrum', 'Andreas')\n",
    "\n",
    "processed_dir = proj_dir / 'processed'\n",
    "data_dir = proj_dir / 'output'"
   ]
  },
  {
   "cell_type": "markdown",
   "metadata": {},
   "source": [
    "---"
   ]
  },
  {
   "cell_type": "markdown",
   "metadata": {},
   "source": [
    "## Load Data\n",
    "We load the data from the last notebook;"
   ]
  },
  {
   "cell_type": "code",
   "execution_count": 36,
   "metadata": {},
   "outputs": [
    {
     "data": {
      "text/html": [
       "<div>\n",
       "<style scoped>\n",
       "    .dataframe tbody tr th:only-of-type {\n",
       "        vertical-align: middle;\n",
       "    }\n",
       "\n",
       "    .dataframe tbody tr th {\n",
       "        vertical-align: top;\n",
       "    }\n",
       "\n",
       "    .dataframe thead th {\n",
       "        text-align: right;\n",
       "    }\n",
       "</style>\n",
       "<table border=\"1\" class=\"dataframe\">\n",
       "  <thead>\n",
       "    <tr style=\"text-align: right;\">\n",
       "      <th></th>\n",
       "      <th>id_seg</th>\n",
       "      <th>id_cell</th>\n",
       "      <th>id_par</th>\n",
       "      <th>id_colony</th>\n",
       "      <th>id_d1</th>\n",
       "      <th>id_d2</th>\n",
       "      <th>id_sib</th>\n",
       "      <th>frames</th>\n",
       "      <th>new_pole</th>\n",
       "      <th>old_pole</th>\n",
       "      <th>...</th>\n",
       "      <th>fluo2</th>\n",
       "      <th>x_pos</th>\n",
       "      <th>y_pos</th>\n",
       "      <th>generation</th>\n",
       "      <th>age</th>\n",
       "      <th>strain</th>\n",
       "      <th>movie_name</th>\n",
       "      <th>replicate</th>\n",
       "      <th>uni_id</th>\n",
       "      <th>uni_par_id</th>\n",
       "    </tr>\n",
       "  </thead>\n",
       "  <tbody>\n",
       "    <tr>\n",
       "      <th>0</th>\n",
       "      <td>0</td>\n",
       "      <td>0</td>\n",
       "      <td>-1</td>\n",
       "      <td>0</td>\n",
       "      <td>-1</td>\n",
       "      <td>-1</td>\n",
       "      <td>-1</td>\n",
       "      <td>0</td>\n",
       "      <td>[  4 706]</td>\n",
       "      <td>[  2 706]</td>\n",
       "      <td>...</td>\n",
       "      <td>411.577778</td>\n",
       "      <td>705.777778</td>\n",
       "      <td>2.955556</td>\n",
       "      <td>0.0</td>\n",
       "      <td>0</td>\n",
       "      <td>AKS1088</td>\n",
       "      <td>AKS1088_TL01_01</td>\n",
       "      <td>0</td>\n",
       "      <td>AKS1088-0-0</td>\n",
       "      <td>AKS1088-0--1</td>\n",
       "    </tr>\n",
       "    <tr>\n",
       "      <th>1</th>\n",
       "      <td>0</td>\n",
       "      <td>0</td>\n",
       "      <td>-1</td>\n",
       "      <td>0</td>\n",
       "      <td>-1</td>\n",
       "      <td>-1</td>\n",
       "      <td>-1</td>\n",
       "      <td>1</td>\n",
       "      <td>[  4 700]</td>\n",
       "      <td>[  3 700]</td>\n",
       "      <td>...</td>\n",
       "      <td>400.348837</td>\n",
       "      <td>700.255814</td>\n",
       "      <td>2.813953</td>\n",
       "      <td>0.0</td>\n",
       "      <td>1</td>\n",
       "      <td>AKS1088</td>\n",
       "      <td>AKS1088_TL01_01</td>\n",
       "      <td>0</td>\n",
       "      <td>AKS1088-0-0</td>\n",
       "      <td>AKS1088-0--1</td>\n",
       "    </tr>\n",
       "    <tr>\n",
       "      <th>2</th>\n",
       "      <td>0</td>\n",
       "      <td>0</td>\n",
       "      <td>-1</td>\n",
       "      <td>0</td>\n",
       "      <td>-1</td>\n",
       "      <td>-1</td>\n",
       "      <td>-1</td>\n",
       "      <td>2</td>\n",
       "      <td>[  3 705]</td>\n",
       "      <td>[  0 699]</td>\n",
       "      <td>...</td>\n",
       "      <td>372.648649</td>\n",
       "      <td>702.243243</td>\n",
       "      <td>2.405405</td>\n",
       "      <td>0.0</td>\n",
       "      <td>2</td>\n",
       "      <td>AKS1088</td>\n",
       "      <td>AKS1088_TL01_01</td>\n",
       "      <td>0</td>\n",
       "      <td>AKS1088-0-0</td>\n",
       "      <td>AKS1088-0--1</td>\n",
       "    </tr>\n",
       "    <tr>\n",
       "      <th>3</th>\n",
       "      <td>0</td>\n",
       "      <td>0</td>\n",
       "      <td>-1</td>\n",
       "      <td>0</td>\n",
       "      <td>-1</td>\n",
       "      <td>-1</td>\n",
       "      <td>-1</td>\n",
       "      <td>3</td>\n",
       "      <td>[  2 704]</td>\n",
       "      <td>[  2 703]</td>\n",
       "      <td>...</td>\n",
       "      <td>371.757576</td>\n",
       "      <td>703.606061</td>\n",
       "      <td>2.242424</td>\n",
       "      <td>0.0</td>\n",
       "      <td>3</td>\n",
       "      <td>AKS1088</td>\n",
       "      <td>AKS1088_TL01_01</td>\n",
       "      <td>0</td>\n",
       "      <td>AKS1088-0-0</td>\n",
       "      <td>AKS1088-0--1</td>\n",
       "    </tr>\n",
       "    <tr>\n",
       "      <th>4</th>\n",
       "      <td>0</td>\n",
       "      <td>0</td>\n",
       "      <td>-1</td>\n",
       "      <td>0</td>\n",
       "      <td>-1</td>\n",
       "      <td>-1</td>\n",
       "      <td>-1</td>\n",
       "      <td>4</td>\n",
       "      <td>[  3 704]</td>\n",
       "      <td>[  2 704]</td>\n",
       "      <td>...</td>\n",
       "      <td>368.166667</td>\n",
       "      <td>704.047619</td>\n",
       "      <td>2.642857</td>\n",
       "      <td>0.0</td>\n",
       "      <td>4</td>\n",
       "      <td>AKS1088</td>\n",
       "      <td>AKS1088_TL01_01</td>\n",
       "      <td>0</td>\n",
       "      <td>AKS1088-0-0</td>\n",
       "      <td>AKS1088-0--1</td>\n",
       "    </tr>\n",
       "  </tbody>\n",
       "</table>\n",
       "<p>5 rows × 26 columns</p>\n",
       "</div>"
      ],
      "text/plain": [
       "   id_seg  id_cell  id_par  id_colony  id_d1  id_d2  id_sib  frames  \\\n",
       "0       0        0      -1          0     -1     -1      -1       0   \n",
       "1       0        0      -1          0     -1     -1      -1       1   \n",
       "2       0        0      -1          0     -1     -1      -1       2   \n",
       "3       0        0      -1          0     -1     -1      -1       3   \n",
       "4       0        0      -1          0     -1     -1      -1       4   \n",
       "\n",
       "    new_pole   old_pole  ...       fluo2       x_pos     y_pos  generation  \\\n",
       "0  [  4 706]  [  2 706]  ...  411.577778  705.777778  2.955556         0.0   \n",
       "1  [  4 700]  [  3 700]  ...  400.348837  700.255814  2.813953         0.0   \n",
       "2  [  3 705]  [  0 699]  ...  372.648649  702.243243  2.405405         0.0   \n",
       "3  [  2 704]  [  2 703]  ...  371.757576  703.606061  2.242424         0.0   \n",
       "4  [  3 704]  [  2 704]  ...  368.166667  704.047619  2.642857         0.0   \n",
       "\n",
       "   age   strain       movie_name  replicate       uni_id    uni_par_id  \n",
       "0    0  AKS1088  AKS1088_TL01_01          0  AKS1088-0-0  AKS1088-0--1  \n",
       "1    1  AKS1088  AKS1088_TL01_01          0  AKS1088-0-0  AKS1088-0--1  \n",
       "2    2  AKS1088  AKS1088_TL01_01          0  AKS1088-0-0  AKS1088-0--1  \n",
       "3    3  AKS1088  AKS1088_TL01_01          0  AKS1088-0-0  AKS1088-0--1  \n",
       "4    4  AKS1088  AKS1088_TL01_01          0  AKS1088-0-0  AKS1088-0--1  \n",
       "\n",
       "[5 rows x 26 columns]"
      ]
     },
     "execution_count": 36,
     "metadata": {},
     "output_type": "execute_result"
    }
   ],
   "source": [
    "#load data frame\n",
    "df_name = data_dir / 'caulobacter_combined_data.csv'\n",
    "df = pd.read_csv(df_name, index_col=0)\n",
    "\n",
    "#add unique id of cell by combining strain and replicate\n",
    "df['uni_id'] = df['strain'].map(str) + '-' + df['replicate'].map(str) + '-' + df['id_cell'].map(str)\n",
    "df['uni_par_id'] = df['strain'].map(str) + '-' + df['replicate'].map(str) + '-' + df['id_par'].map(str)\n",
    "df.head()\n"
   ]
  },
  {
   "cell_type": "code",
   "execution_count": 37,
   "metadata": {},
   "outputs": [
    {
     "data": {
      "text/plain": [
       "Text(0.5, 0, 'life time of cell [frames]')"
      ]
     },
     "execution_count": 37,
     "metadata": {},
     "output_type": "execute_result"
    },
    {
     "data": {
      "image/png": "[encoded data removed]",
      "text/plain": [
       "<Figure size 720x360 with 1 Axes>"
      ]
     },
     "metadata": {
      "image/png": {
       "height": 316,
       "width": 618
      },
      "needs_background": "light"
     },
     "output_type": "display_data"
    }
   ],
   "source": [
    "#plot life time of cells\n",
    "ax = sns.histplot(data=df.groupby('uni_id').size(), bins=np.arange(50))\n",
    "ax.set_xlabel('life time of cell [frames]')"
   ]
  },
  {
   "cell_type": "markdown",
   "metadata": {},
   "source": [
    "---\n",
    "\n",
    "## Check data\n"
   ]
  },
  {
   "cell_type": "code",
   "execution_count": 38,
   "metadata": {},
   "outputs": [
    {
     "name": "stdout",
     "output_type": "stream",
     "text": [
      "dropping 295077 measurements, 49.8% remaining\n"
     ]
    },
    {
     "data": {
      "image/png": "[encoded data removed]",
      "text/plain": [
       "<Figure size 720x360 with 1 Axes>"
      ]
     },
     "metadata": {
      "image/png": {
       "height": 316,
       "width": 618
      },
      "needs_background": "light"
     },
     "output_type": "display_data"
    }
   ],
   "source": [
    "#plot cell life_time for full lineages\n",
    "has_mom = df[\"id_par\"] > -1\n",
    "has_d1 = df[\"id_d1\"] > -1\n",
    "has_d2 = df[\"id_d2\"] > -1\n",
    "full_lin = has_mom & has_d1 & has_d2\n",
    "\n",
    "df_compl = df[full_lin].copy()\n",
    "ax = sns.histplot(data=df_compl.groupby('uni_id').size(), bins=np.arange(50))\n",
    "ax.set_xlabel('life time of cell [frames]')\n",
    "print('dropping %i measurements, %.1f%% remaining' % (df.shape[0]-df_compl.shape[0], df_compl.shape[0]/df.shape[0]*100))\n"
   ]
  },
  {
   "cell_type": "markdown",
   "metadata": {},
   "source": [
    "---"
   ]
  },
  {
   "cell_type": "markdown",
   "metadata": {},
   "source": [
    "## Check lineages"
   ]
  },
  {
   "cell_type": "code",
   "execution_count": 39,
   "metadata": {},
   "outputs": [
    {
     "data": {
      "text/plain": [
       "<AxesSubplot:xlabel='rel_dl', ylabel='Count'>"
      ]
     },
     "execution_count": 39,
     "metadata": {},
     "output_type": "execute_result"
    },
    {
     "data": {
      "image/png": "[encoded data removed]",
      "text/plain": [
       "<Figure size 864x288 with 3 Axes>"
      ]
     },
     "metadata": {
      "image/png": {
       "height": 262,
       "width": 736
      },
      "needs_background": "light"
     },
     "output_type": "display_data"
    }
   ],
   "source": [
    "#calc length change\n",
    "dl = df_compl.groupby('uni_id')['length'].diff()\n",
    "df_compl['rel_dl'] = (df_compl['length'] + dl)/df_compl['length']\n",
    "max_dl = df_compl.groupby('uni_id')['rel_dl'].max()\n",
    "min_dl = df_compl.groupby('uni_id')['rel_dl'].min()\n",
    "\n",
    "fig, axs = plt.subplots(1,3, figsize=(12,4))\n",
    "sns.histplot(ax=axs[0], data=df_compl, x='rel_dl', bins=np.linspace(0.8,1.2,41))\n",
    "sns.histplot(ax=axs[1], data=max_dl, bins=np.linspace(0.8,1.2,41))\n",
    "sns.histplot(ax=axs[2], data=min_dl, bins=np.linspace(0.8,1.2,41))\n"
   ]
  },
  {
   "cell_type": "code",
   "execution_count": 40,
   "metadata": {},
   "outputs": [],
   "source": [
    "#analyze change in length\n",
    "dl_list = []\n",
    "movies_grouped = df_compl.groupby('movie_name')\n",
    "\n",
    "for name, movie in movies_grouped:\n",
    "    cells_grouped = movie.groupby('uni_id')\n",
    "    for name, cell in cells_grouped:\n",
    "        \n",
    "        try:\n",
    "            sis_idx = movie['id_cell'] == cell['id_sib'].iloc[0]\n",
    "            par_idx = movie['id_cell'] == cell['id_par'].iloc[0]\n",
    "            \n",
    "            #get length\n",
    "            len_cel = cell['length'].iloc[0]\n",
    "            len_sib = movie.loc[sis_idx, 'length'].iloc[0]\n",
    "            len_par = movie.loc[par_idx, 'length'].iloc[-1]\n",
    "        \n",
    "            dl_list.append((len_cel + len_sib) / len_par)\n",
    "        except:\n",
    "            continue\n"
   ]
  },
  {
   "cell_type": "code",
   "execution_count": 41,
   "metadata": {},
   "outputs": [
    {
     "data": {
      "text/plain": [
       "<AxesSubplot:ylabel='Count'>"
      ]
     },
     "execution_count": 41,
     "metadata": {},
     "output_type": "execute_result"
    },
    {
     "data": {
      "image/png": "[encoded data removed]",
      "text/plain": [
       "<Figure size 720x360 with 1 Axes>"
      ]
     },
     "metadata": {
      "image/png": {
       "height": 302,
       "width": 618
      },
      "needs_background": "light"
     },
     "output_type": "display_data"
    }
   ],
   "source": [
    "sns.histplot(data=dl_list, bins=np.linspace(0.6,1.4,41))"
   ]
  },
  {
   "cell_type": "markdown",
   "metadata": {},
   "source": [
    "## Filter data\n",
    "\n",
    "We use following checks:\n",
    " - We only consider lineages that are around for at least 30 minutes (7 frames)\n",
    " - We filter out lineages where the length changes too much.\n",
    "    - We calculate length change as $\\frac{l(t+\\Delta t)}{l(t)} = 2^{\\Delta t / t_d}$\n",
    "    - We allow for a max increase of 1.08 (e.q. to $t_d=45$  min), and a max decrease of 0.92.\n",
    " - We filter out lineages where length changes too much between division $\\frac{l_{d1}+l_{d2}}{l_p}$\n",
    " - We filter out lineages where we do not have sibling cell"
   ]
  },
  {
   "cell_type": "code",
   "execution_count": 42,
   "metadata": {},
   "outputs": [],
   "source": [
    "new_df_list = []\n",
    "\n",
    "#filter lineages\n",
    "min_num_frm = 7\n",
    "\n",
    "#window over which to average cdg levels at end of life / -1 is all life \n",
    "av_wndw  = -1\n",
    "\n",
    "# filter on length change during life time\n",
    "max_dl = 1.08 #(eq. to td=45min)\n",
    "min_dl = 0.92\n",
    "\n",
    "# filter on length change during division\n",
    "max_dl_div = 1.2 \n",
    "min_dl_div = 0.94\n",
    "\n",
    "df_list = []\n",
    "movies_grouped = df.groupby('movie_name')\n",
    "\n",
    "cols = ['uni_par_id', 'strain', 'movie_name', 'replicate', 'id_colony', 'id_par',\n",
    " 'frames', 'generation', 'age']\n",
    "\n",
    "def check_growth(len):\n",
    "    dl = len[1:] / len[0:-1]\n",
    "    return np.all(dl>min_dl) & np.all(dl<max_dl)\n",
    "\n",
    "reason_skipped = []\n",
    "\n",
    "for name, movie in movies_grouped:\n",
    "    \n",
    "    #loop by parent cells\n",
    "    cells_grouped = movie.groupby('uni_par_id')\n",
    "    for name, par_cell in cells_grouped:  \n",
    "        \n",
    "        #check if full lineage\n",
    "        has_d1 = par_cell[\"id_d1\"].iloc[0] > -1\n",
    "        has_d2 = par_cell[\"id_d2\"].iloc[0] > -1\n",
    "        paired_lin = has_d1 & has_d2\n",
    "        \n",
    "        if not paired_lin: reason_skipped.append(1)\n",
    "\n",
    "        if paired_lin:\n",
    "            d1_idx = movie['id_cell'] == par_cell[\"id_d1\"].iloc[0]\n",
    "            d2_idx = movie['id_cell'] == par_cell[\"id_d2\"].iloc[0]\n",
    "            \n",
    "            has_d11 = movie.loc[d1_idx, 'id_d1'].iloc[0] > -1\n",
    "            has_d12 = movie.loc[d1_idx, 'id_d2'].iloc[0] > -1\n",
    "            has_d21 = movie.loc[d2_idx, 'id_d1'].iloc[0] > -1\n",
    "            has_d22 = movie.loc[d2_idx, 'id_d2'].iloc[0] > -1\n",
    "            full_lin = has_d11 & has_d12 & has_d21 & has_d22\n",
    "            \n",
    "            if not full_lin: reason_skipped.append(2)\n",
    "\n",
    "            if full_lin:\n",
    "                \n",
    "                #check if there are enough frames\n",
    "                len_old = movie.loc[d1_idx, 'length']\n",
    "                len_new = movie.loc[d2_idx, 'length']\n",
    "                len_ok = (len_old.size >= min_num_frm) & (len_new.size >= min_num_frm) \n",
    "                if not len_ok: reason_skipped.append(3)\n",
    "\n",
    "                if len_ok:\n",
    "                    #check length across division                         \n",
    "                    dl = (len_old.iloc[0] + len_new.iloc[0]) / par_cell['length'].iloc[-1]\n",
    "                    div_ok = (dl > min_dl_div) &  (dl < max_dl_div)\n",
    "                    if not div_ok: reason_skipped.append(4)\n",
    "                    \n",
    "                    if div_ok:\n",
    "                        #check length of cells \n",
    "                        frms = np.arange(min(len_old.size, len_new.size))\n",
    "                        \n",
    "                        len_old = len_old.iloc[frms].values \n",
    "                        len_new = len_new.iloc[frms].values\n",
    "                        \n",
    "                        len1_ok = check_growth(len_old)\n",
    "                        len2_ok = check_growth(len_new)\n",
    "                        if not len1_ok: reason_skipped.append(5)\n",
    "                        if not len2_ok: reason_skipped.append(6)\n",
    "\n",
    "                        if len1_ok & len2_ok:\n",
    "                            #cell pair ok, process\n",
    "                            id_old = par_cell[\"id_d1\"].iloc[0]\n",
    "                            id_new = par_cell[\"id_d2\"].iloc[0]\n",
    "                            \n",
    "                            #copy data frame   \n",
    "                            cell = movie.loc[d1_idx, :]\n",
    "                            new_df = cell.iloc[frms, df.columns.get_indexer(cols)].reset_index(drop=True)\n",
    "                            \n",
    "                            #get fluorescent values\n",
    "                            fluo_old = cell['fluo1'].iloc[frms].values \n",
    "                            fluo_new = movie.loc[d2_idx, 'fluo1'].iloc[frms].values \n",
    "\n",
    "                            #calc fluorescence ratio\n",
    "                            rel_fluor = fluo_old / fluo_new\n",
    "                            av_frms = min(av_wndw, rel_fluor.size)\n",
    "                            fluo_ratio = rel_fluor.mean() if av_frms==-1 else rel_fluor[-av_frms:].mean()\n",
    "                            \n",
    "                            #order d1 and d2 based on cdg levels\n",
    "                            old_is_high = True if fluo_ratio>1 else False\n",
    "                            \n",
    "                            #normalize fluor\n",
    "                            max_fluor = fluo_old[0] if fluo_ratio>1 else fluo_new[0]\n",
    "                            fluo_old_norm = fluo_old / max_fluor\n",
    "                            fluo_new_norm = fluo_new / max_fluor\n",
    "                            \n",
    "                            #d1 should be old pole\n",
    "                            new_df['high_in_old'] = 1 if old_is_high else 0\n",
    "                            \n",
    "                            #add new fields to df\n",
    "                            new_df['cdg_old'] =  fluo_old \n",
    "                            new_df['cdg_new'] =  fluo_new \n",
    "                            \n",
    "                            new_df['cdg_norm_old'] =  fluo_old_norm \n",
    "                            new_df['cdg_norm_new'] =  fluo_new_norm \n",
    "                            \n",
    "                            new_df['cdg_dh'] =  fluo_old if old_is_high  else fluo_new\n",
    "                            new_df['cdg_dl'] =  fluo_new if old_is_high  else fluo_old\n",
    "                                    \n",
    "                            new_df['cdg_norm_dh'] =  fluo_old_norm if old_is_high  else fluo_new_norm\n",
    "                            new_df['cdg_norm_dl'] =  fluo_new_norm if old_is_high  else fluo_old_norm\n",
    "                            \n",
    "                            new_df['len_dh'] =  len_old if old_is_high  else len_new\n",
    "                            new_df['len_dl'] =  len_new if old_is_high  else len_old\n",
    "                            \n",
    "                            new_df['idc_dh'] =  id_old if old_is_high  else id_new\n",
    "                            new_df['idc_dl'] =  id_new if old_is_high  else id_old\n",
    "                            \n",
    "                            new_df['rel_cdg'] = 1/rel_fluor if old_is_high else rel_fluor\n",
    "                            \n",
    "                            new_df_list.append(new_df)\n",
    "                                    \n",
    "\n",
    "                 \n",
    "    \n",
    "             "
   ]
  },
  {
   "cell_type": "code",
   "execution_count": 43,
   "metadata": {},
   "outputs": [
    {
     "data": {
      "text/plain": [
       "<AxesSubplot:ylabel='Count'>"
      ]
     },
     "execution_count": 43,
     "metadata": {},
     "output_type": "execute_result"
    },
    {
     "data": {
      "image/png": "[encoded data removed]",
      "text/plain": [
       "<Figure size 720x360 with 1 Axes>"
      ]
     },
     "metadata": {
      "image/png": {
       "height": 302,
       "width": 624
      },
      "needs_background": "light"
     },
     "output_type": "display_data"
    }
   ],
   "source": [
    "sns.histplot(reason_skipped)"
   ]
  },
  {
   "cell_type": "code",
   "execution_count": 44,
   "metadata": {},
   "outputs": [],
   "source": [
    "df_paired = pd.concat(new_df_list)"
   ]
  },
  {
   "cell_type": "code",
   "execution_count": 45,
   "metadata": {},
   "outputs": [
    {
     "data": {
      "text/html": [
       "<div>\n",
       "<style scoped>\n",
       "    .dataframe tbody tr th:only-of-type {\n",
       "        vertical-align: middle;\n",
       "    }\n",
       "\n",
       "    .dataframe tbody tr th {\n",
       "        vertical-align: top;\n",
       "    }\n",
       "\n",
       "    .dataframe thead th {\n",
       "        text-align: right;\n",
       "    }\n",
       "</style>\n",
       "<table border=\"1\" class=\"dataframe\">\n",
       "  <thead>\n",
       "    <tr style=\"text-align: right;\">\n",
       "      <th></th>\n",
       "      <th>uni_par_id</th>\n",
       "      <th>strain</th>\n",
       "      <th>movie_name</th>\n",
       "      <th>replicate</th>\n",
       "      <th>id_colony</th>\n",
       "      <th>id_par</th>\n",
       "      <th>frames</th>\n",
       "      <th>generation</th>\n",
       "      <th>age</th>\n",
       "      <th>high_in_old</th>\n",
       "      <th>...</th>\n",
       "      <th>cdg_norm_new</th>\n",
       "      <th>cdg_dh</th>\n",
       "      <th>cdg_dl</th>\n",
       "      <th>cdg_norm_dh</th>\n",
       "      <th>cdg_norm_dl</th>\n",
       "      <th>len_dh</th>\n",
       "      <th>len_dl</th>\n",
       "      <th>idc_dh</th>\n",
       "      <th>idc_dl</th>\n",
       "      <th>rel_cdg</th>\n",
       "    </tr>\n",
       "  </thead>\n",
       "  <tbody>\n",
       "    <tr>\n",
       "      <th>0</th>\n",
       "      <td>AKS1088-0-150</td>\n",
       "      <td>AKS1088</td>\n",
       "      <td>AKS1088_TL01_01</td>\n",
       "      <td>0</td>\n",
       "      <td>44</td>\n",
       "      <td>150</td>\n",
       "      <td>36</td>\n",
       "      <td>2.0</td>\n",
       "      <td>0</td>\n",
       "      <td>0</td>\n",
       "      <td>...</td>\n",
       "      <td>1.000000</td>\n",
       "      <td>701.015544</td>\n",
       "      <td>725.633166</td>\n",
       "      <td>1.000000</td>\n",
       "      <td>1.035117</td>\n",
       "      <td>27.000000</td>\n",
       "      <td>29.147118</td>\n",
       "      <td>582</td>\n",
       "      <td>151</td>\n",
       "      <td>1.035117</td>\n",
       "    </tr>\n",
       "    <tr>\n",
       "      <th>1</th>\n",
       "      <td>AKS1088-0-150</td>\n",
       "      <td>AKS1088</td>\n",
       "      <td>AKS1088_TL01_01</td>\n",
       "      <td>0</td>\n",
       "      <td>44</td>\n",
       "      <td>150</td>\n",
       "      <td>37</td>\n",
       "      <td>2.0</td>\n",
       "      <td>1</td>\n",
       "      <td>0</td>\n",
       "      <td>...</td>\n",
       "      <td>0.981288</td>\n",
       "      <td>687.898477</td>\n",
       "      <td>716.688995</td>\n",
       "      <td>0.981288</td>\n",
       "      <td>1.022358</td>\n",
       "      <td>27.000000</td>\n",
       "      <td>30.231161</td>\n",
       "      <td>582</td>\n",
       "      <td>151</td>\n",
       "      <td>1.041853</td>\n",
       "    </tr>\n",
       "    <tr>\n",
       "      <th>2</th>\n",
       "      <td>AKS1088-0-150</td>\n",
       "      <td>AKS1088</td>\n",
       "      <td>AKS1088_TL01_01</td>\n",
       "      <td>0</td>\n",
       "      <td>44</td>\n",
       "      <td>150</td>\n",
       "      <td>38</td>\n",
       "      <td>2.0</td>\n",
       "      <td>2</td>\n",
       "      <td>0</td>\n",
       "      <td>...</td>\n",
       "      <td>0.971520</td>\n",
       "      <td>681.050761</td>\n",
       "      <td>706.654709</td>\n",
       "      <td>0.971520</td>\n",
       "      <td>1.008044</td>\n",
       "      <td>29.000000</td>\n",
       "      <td>31.609030</td>\n",
       "      <td>582</td>\n",
       "      <td>151</td>\n",
       "      <td>1.037595</td>\n",
       "    </tr>\n",
       "    <tr>\n",
       "      <th>3</th>\n",
       "      <td>AKS1088-0-150</td>\n",
       "      <td>AKS1088</td>\n",
       "      <td>AKS1088_TL01_01</td>\n",
       "      <td>0</td>\n",
       "      <td>44</td>\n",
       "      <td>150</td>\n",
       "      <td>39</td>\n",
       "      <td>2.0</td>\n",
       "      <td>3</td>\n",
       "      <td>0</td>\n",
       "      <td>...</td>\n",
       "      <td>0.970534</td>\n",
       "      <td>680.359223</td>\n",
       "      <td>708.488987</td>\n",
       "      <td>0.970534</td>\n",
       "      <td>1.010661</td>\n",
       "      <td>31.000000</td>\n",
       "      <td>32.991478</td>\n",
       "      <td>582</td>\n",
       "      <td>151</td>\n",
       "      <td>1.041345</td>\n",
       "    </tr>\n",
       "    <tr>\n",
       "      <th>4</th>\n",
       "      <td>AKS1088-0-150</td>\n",
       "      <td>AKS1088</td>\n",
       "      <td>AKS1088_TL01_01</td>\n",
       "      <td>0</td>\n",
       "      <td>44</td>\n",
       "      <td>150</td>\n",
       "      <td>40</td>\n",
       "      <td>2.0</td>\n",
       "      <td>4</td>\n",
       "      <td>0</td>\n",
       "      <td>...</td>\n",
       "      <td>0.962008</td>\n",
       "      <td>674.382883</td>\n",
       "      <td>706.727660</td>\n",
       "      <td>0.962008</td>\n",
       "      <td>1.008148</td>\n",
       "      <td>32.008327</td>\n",
       "      <td>33.569576</td>\n",
       "      <td>582</td>\n",
       "      <td>151</td>\n",
       "      <td>1.047962</td>\n",
       "    </tr>\n",
       "  </tbody>\n",
       "</table>\n",
       "<p>5 rows × 23 columns</p>\n",
       "</div>"
      ],
      "text/plain": [
       "      uni_par_id   strain       movie_name  replicate  id_colony  id_par  \\\n",
       "0  AKS1088-0-150  AKS1088  AKS1088_TL01_01          0         44     150   \n",
       "1  AKS1088-0-150  AKS1088  AKS1088_TL01_01          0         44     150   \n",
       "2  AKS1088-0-150  AKS1088  AKS1088_TL01_01          0         44     150   \n",
       "3  AKS1088-0-150  AKS1088  AKS1088_TL01_01          0         44     150   \n",
       "4  AKS1088-0-150  AKS1088  AKS1088_TL01_01          0         44     150   \n",
       "\n",
       "   frames  generation  age  high_in_old  ...  cdg_norm_new      cdg_dh  \\\n",
       "0      36         2.0    0            0  ...      1.000000  701.015544   \n",
       "1      37         2.0    1            0  ...      0.981288  687.898477   \n",
       "2      38         2.0    2            0  ...      0.971520  681.050761   \n",
       "3      39         2.0    3            0  ...      0.970534  680.359223   \n",
       "4      40         2.0    4            0  ...      0.962008  674.382883   \n",
       "\n",
       "       cdg_dl  cdg_norm_dh  cdg_norm_dl     len_dh     len_dl  idc_dh  idc_dl  \\\n",
       "0  725.633166     1.000000     1.035117  27.000000  29.147118     582     151   \n",
       "1  716.688995     0.981288     1.022358  27.000000  30.231161     582     151   \n",
       "2  706.654709     0.971520     1.008044  29.000000  31.609030     582     151   \n",
       "3  708.488987     0.970534     1.010661  31.000000  32.991478     582     151   \n",
       "4  706.727660     0.962008     1.008148  32.008327  33.569576     582     151   \n",
       "\n",
       "    rel_cdg  \n",
       "0  1.035117  \n",
       "1  1.041853  \n",
       "2  1.037595  \n",
       "3  1.041345  \n",
       "4  1.047962  \n",
       "\n",
       "[5 rows x 23 columns]"
      ]
     },
     "execution_count": 45,
     "metadata": {},
     "output_type": "execute_result"
    }
   ],
   "source": [
    "df_paired.head()"
   ]
  },
  {
   "cell_type": "code",
   "execution_count": 46,
   "metadata": {},
   "outputs": [
    {
     "data": {
      "text/plain": [
       "<AxesSubplot:xlabel='strain'>"
      ]
     },
     "execution_count": 46,
     "metadata": {},
     "output_type": "execute_result"
    },
    {
     "data": {
      "image/png": "[encoded data removed]",
      "text/plain": [
       "<Figure size 720x360 with 1 Axes>"
      ]
     },
     "metadata": {
      "image/png": {
       "height": 351,
       "width": 592
      },
      "needs_background": "light"
     },
     "output_type": "display_data"
    }
   ],
   "source": [
    "first_frame = df_paired.groupby('uni_par_id').first()\n",
    "num_lin_per_strain = first_frame.groupby('strain').size() \n",
    "num_lin_per_strain.head(n=18)\n",
    "num_lin_per_strain.plot(kind='bar')\n"
   ]
  },
  {
   "cell_type": "code",
   "execution_count": 47,
   "metadata": {},
   "outputs": [
    {
     "data": {
      "text/plain": [
       "strain\n",
       "AKS1088    27\n",
       "AKS1089    16\n",
       "AKS1090    27\n",
       "AKS1091    23\n",
       "AKS1092    65\n",
       "AKS1093    11\n",
       "AKS1094    18\n",
       "AKS1095    36\n",
       "AKS1096    35\n",
       "AKS1097    20\n",
       "AKS1098    17\n",
       "AKS1099    24\n",
       "AKS1101    27\n",
       "AKS1102     9\n",
       "AKS1103    35\n",
       "AKS1104    10\n",
       "AKS1105    12\n",
       "AKS1106    13\n",
       "dtype: int64"
      ]
     },
     "execution_count": 47,
     "metadata": {},
     "output_type": "execute_result"
    }
   ],
   "source": [
    "num_lin_per_strain"
   ]
  },
  {
   "cell_type": "markdown",
   "metadata": {},
   "source": [
    "## Save paired data"
   ]
  },
  {
   "cell_type": "code",
   "execution_count": 48,
   "metadata": {},
   "outputs": [],
   "source": [
    "out_name = processed_dir / 'caulobacter_combined_filtered_paired_data_full_lin.csv'\n",
    "df_paired.to_csv(out_name)"
   ]
  },
  {
   "cell_type": "markdown",
   "metadata": {},
   "source": [
    "---\n",
    "\n",
    "## Alternative filtering"
   ]
  },
  {
   "cell_type": "code",
   "execution_count": 64,
   "metadata": {},
   "outputs": [],
   "source": [
    "new_df_list = []\n",
    "\n",
    "#filter lineages\n",
    "min_num_frm = 12\n",
    "\n",
    "#window over which to average cdg levels at end of life / -1 is all life \n",
    "av_wndw  = -1\n",
    "\n",
    "# filter on length change during life time\n",
    "max_dl = 1.08 #(eq. to td=45min)\n",
    "min_dl = 0.92\n",
    "\n",
    "# filter on length change during division\n",
    "max_dl_div = 1.2 \n",
    "min_dl_div = 0.94\n",
    "\n",
    "df_list = []\n",
    "movies_grouped = df.groupby('movie_name')\n",
    "\n",
    "cols = ['uni_par_id', 'strain', 'movie_name', 'replicate', 'id_colony', 'id_par',\n",
    " 'frames', 'generation', 'age']\n",
    "\n",
    "def check_growth(len):\n",
    "    dl = len[1:] / len[0:-1]\n",
    "    return np.all(dl>min_dl) & np.all(dl<max_dl)\n",
    "\n",
    "reason_skipped = []\n",
    "\n",
    "for name, movie in movies_grouped:\n",
    "    \n",
    "    #loop by parent cells\n",
    "    cells_grouped = movie.groupby('uni_par_id')\n",
    "    for name, par_cell in cells_grouped:  \n",
    "        \n",
    "        #check if full lineage\n",
    "        has_d1 = par_cell[\"id_d1\"].iloc[0] > -1\n",
    "        has_d2 = par_cell[\"id_d2\"].iloc[0] > -1\n",
    "        paired_lin = has_d1 & has_d2\n",
    "        \n",
    "        \n",
    "        if not paired_lin: reason_skipped.append(1)\n",
    "\n",
    "        if paired_lin:\n",
    "            d1_idx = movie['id_cell'] == par_cell[\"id_d1\"].iloc[0]\n",
    "            d2_idx = movie['id_cell'] == par_cell[\"id_d2\"].iloc[0]\n",
    "            \n",
    "            # has_d11 = movie.loc[d1_idx, 'id_d1'].iloc[0] > -1\n",
    "            # has_d12 = movie.loc[d1_idx, 'id_d2'].iloc[0] > -1\n",
    "            # has_d21 = movie.loc[d2_idx, 'id_d1'].iloc[0] > -1\n",
    "            # has_d22 = movie.loc[d2_idx, 'id_d2'].iloc[0] > -1\n",
    "            \n",
    "            # full_lin = has_d11 & has_d12 & has_d21 & has_d22\n",
    "            full_lin = True\n",
    "\n",
    "            if not full_lin: reason_skipped.append(2)\n",
    "\n",
    "            if full_lin:\n",
    "                \n",
    "                #check if there are enough frames\n",
    "                len_old = movie.loc[d1_idx, 'length']\n",
    "                len_new = movie.loc[d2_idx, 'length']\n",
    "                len_ok = (len_old.size >= min_num_frm) & (len_new.size >= min_num_frm) \n",
    "                if not len_ok: reason_skipped.append(3)\n",
    "\n",
    "                if len_ok:\n",
    "                    #check length across division                         \n",
    "                    dl = (len_old.iloc[0] + len_new.iloc[0]) / par_cell['length'].iloc[-1]\n",
    "                    div_ok = (dl > min_dl_div) &  (dl < max_dl_div)\n",
    "                    if not div_ok: reason_skipped.append(4)\n",
    "                    \n",
    "                    if div_ok:\n",
    "                        #check length of cells \n",
    "                        frms = np.arange(min(len_old.size, len_new.size))\n",
    "                        \n",
    "                        len_old = len_old.iloc[frms].values \n",
    "                        len_new = len_new.iloc[frms].values\n",
    "                        \n",
    "                        len1_ok = check_growth(len_old)\n",
    "                        len2_ok = check_growth(len_new)\n",
    "                        if not len1_ok: reason_skipped.append(5)\n",
    "                        if not len2_ok: reason_skipped.append(6)\n",
    "\n",
    "                        if len1_ok & len2_ok:\n",
    "                            #cell pair ok, process\n",
    "                            id_old = par_cell[\"id_d1\"].iloc[0]\n",
    "                            id_new = par_cell[\"id_d2\"].iloc[0]\n",
    "                            \n",
    "                            #copy data frame   \n",
    "                            cell = movie.loc[d1_idx, :]\n",
    "                            new_df = cell.iloc[frms, df.columns.get_indexer(cols)].reset_index(drop=True)\n",
    "                            \n",
    "                            #get fluorescent values\n",
    "                            fluo_old = cell['fluo1'].iloc[frms].values \n",
    "                            fluo_new = movie.loc[d2_idx, 'fluo1'].iloc[frms].values \n",
    "\n",
    "                            #calc fluorescence ratio\n",
    "                            rel_fluor = fluo_old / fluo_new\n",
    "                            av_frms = min(av_wndw, rel_fluor.size)\n",
    "                            fluo_ratio = rel_fluor.mean() if av_frms==-1 else rel_fluor[-av_frms:].mean()\n",
    "                            \n",
    "                            #order d1 and d2 based on cdg levels\n",
    "                            old_is_high = True if fluo_ratio>1 else False\n",
    "                            \n",
    "                            #normalize fluor\n",
    "                            max_fluor = fluo_old[0] if fluo_ratio>1 else fluo_new[0]\n",
    "                            fluo_old_norm = fluo_old / max_fluor\n",
    "                            fluo_new_norm = fluo_new / max_fluor\n",
    "                            \n",
    "                            #d1 should be old pole\n",
    "                            new_df['high_in_old'] = 1 if old_is_high else 0\n",
    "                            \n",
    "                            #add new fields to df\n",
    "                            new_df['cdg_old'] =  fluo_old \n",
    "                            new_df['cdg_new'] =  fluo_new \n",
    "                            \n",
    "                            new_df['cdg_norm_old'] =  fluo_old /  fluo_old[0]\n",
    "                            new_df['cdg_norm_new'] =  fluo_new /  fluo_old[0]\n",
    "                            \n",
    "                            new_df['cdg_dh'] =  fluo_old if old_is_high  else fluo_new\n",
    "                            new_df['cdg_dl'] =  fluo_new if old_is_high  else fluo_old\n",
    "                                    \n",
    "                            new_df['cdg_norm_dh'] =  fluo_old_norm if old_is_high  else fluo_new_norm\n",
    "                            new_df['cdg_norm_dl'] =  fluo_new_norm if old_is_high  else fluo_old_norm\n",
    "                            \n",
    "                            new_df['len_dh'] =  len_old if old_is_high  else len_new\n",
    "                            new_df['len_dl'] =  len_new if old_is_high  else len_old\n",
    "                            \n",
    "                            new_df['idc_dh'] =  id_old if old_is_high  else id_new\n",
    "                            new_df['idc_dl'] =  id_new if old_is_high  else id_old\n",
    "                            \n",
    "                            new_df['rel_cdg_hl'] = 1/rel_fluor if old_is_high else rel_fluor\n",
    "                            new_df['rel_cdg_no'] = fluo_new / fluo_old\n",
    "\n",
    "                            new_df_list.append(new_df)\n",
    "                                    \n",
    "\n",
    "                 \n",
    "    \n",
    "             "
   ]
  },
  {
   "cell_type": "code",
   "execution_count": 60,
   "metadata": {},
   "outputs": [
    {
     "data": {
      "text/plain": [
       "<AxesSubplot:ylabel='Count'>"
      ]
     },
     "execution_count": 60,
     "metadata": {},
     "output_type": "execute_result"
    },
    {
     "data": {
      "image/png": "[encoded data removed]",
      "text/plain": [
       "<Figure size 720x360 with 1 Axes>"
      ]
     },
     "metadata": {
      "image/png": {
       "height": 302,
       "width": 624
      },
      "needs_background": "light"
     },
     "output_type": "display_data"
    }
   ],
   "source": [
    "sns.histplot(reason_skipped)"
   ]
  },
  {
   "cell_type": "code",
   "execution_count": 61,
   "metadata": {},
   "outputs": [],
   "source": [
    "df_paired2 = pd.concat(new_df_list)"
   ]
  },
  {
   "cell_type": "code",
   "execution_count": 62,
   "metadata": {},
   "outputs": [
    {
     "data": {
      "text/plain": [
       "<AxesSubplot:xlabel='strain'>"
      ]
     },
     "execution_count": 62,
     "metadata": {},
     "output_type": "execute_result"
    },
    {
     "data": {
      "image/png": "[encoded data removed]",
      "text/plain": [
       "<Figure size 720x360 with 1 Axes>"
      ]
     },
     "metadata": {
      "image/png": {
       "height": 351,
       "width": 598
      },
      "needs_background": "light"
     },
     "output_type": "display_data"
    }
   ],
   "source": [
    "first_frame = df_paired2.groupby('uni_par_id').first()\n",
    "num_lin_per_strain = first_frame.groupby('strain').size() \n",
    "num_lin_per_strain.head(n=18)\n",
    "num_lin_per_strain.plot(kind='bar')\n"
   ]
  },
  {
   "cell_type": "code",
   "execution_count": 57,
   "metadata": {},
   "outputs": [
    {
     "data": {
      "text/plain": [
       "strain\n",
       "AKS1088     45\n",
       "AKS1089     31\n",
       "AKS1090     54\n",
       "AKS1091     74\n",
       "AKS1092    108\n",
       "AKS1093     24\n",
       "AKS1094     27\n",
       "AKS1095     50\n",
       "AKS1096     55\n",
       "AKS1097     39\n",
       "AKS1098     28\n",
       "AKS1099     41\n",
       "AKS1101     49\n",
       "AKS1102     16\n",
       "AKS1103     50\n",
       "AKS1104     27\n",
       "AKS1105     28\n",
       "AKS1106     24\n",
       "dtype: int64"
      ]
     },
     "execution_count": 57,
     "metadata": {},
     "output_type": "execute_result"
    }
   ],
   "source": [
    "num_lin_per_strain"
   ]
  },
  {
   "cell_type": "markdown",
   "metadata": {},
   "source": [
    "## Save paired data"
   ]
  },
  {
   "cell_type": "code",
   "execution_count": 63,
   "metadata": {},
   "outputs": [],
   "source": [
    "out_name = processed_dir / 'caulobacter_combined_filtered_paired_data_60min.csv'\n",
    "df_paired2.to_csv(out_name)"
   ]
  }
 ],
 "metadata": {
  "interpreter": {
   "hash": "04885f21a4bd9418df205c8169dbf35b8c72791b69b584ac7513023d01d78b79"
  },
  "kernelspec": {
   "display_name": "Python 3.9.12 ('i2i_env')",
   "language": "python",
   "name": "python3"
  },
  "language_info": {
   "codemirror_mode": {
    "name": "ipython",
    "version": 3
   },
   "file_extension": ".py",
   "mimetype": "text/x-python",
   "name": "python",
   "nbconvert_exporter": "python",
   "pygments_lexer": "ipython3",
   "version": "3.9.12"
  }
 },
 "nbformat": 4,
 "nbformat_minor": 4
}
