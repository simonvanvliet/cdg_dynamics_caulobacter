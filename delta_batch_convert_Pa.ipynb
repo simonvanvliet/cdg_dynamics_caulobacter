{
 "cells": [
  {
   "cell_type": "markdown",
   "metadata": {},
   "source": [
    "# Convert delta output to Pandas dataframes"
   ]
  },
  {
   "cell_type": "code",
   "execution_count": 1,
   "metadata": {},
   "outputs": [],
   "source": [
    "import pathlib\n",
    "import numpy as np\n",
    "import pandas as pd\n",
    "from delta_postprocess import delta_to_df \n",
    "\n",
    "import os\n",
    "import shutil\n"
   ]
  },
  {
   "cell_type": "code",
   "execution_count": 2,
   "metadata": {},
   "outputs": [
    {
     "name": "stdout",
     "output_type": "stream",
     "text": [
      "['AKS1088', 'AKS1089', 'AKS1090', 'AKS1091', 'AKS1092', 'AKS1093', 'AKS1094', 'AKS1095', 'AKS1096', 'AKS1097', 'AKS1098', 'AKS1099', 'AKS1101', 'AKS1102', 'AKS1103', 'AKS1104', 'AKS1105', 'AKS1106']\n"
     ]
    }
   ],
   "source": [
    "#set paths\n",
    "root = pathlib.Path(pathlib.Path.home(), 'home', 'Delta2_Caulobacter')\n",
    "data_dir = root / 'processed_dataPA'\n",
    "out_dir = root / 'outputPA'\n",
    "out_dir.mkdir(exist_ok=True)\n",
    "\n",
    "csv_dir = out_dir / 'csv_files'\n",
    "csv_dir.mkdir(exist_ok=True)\n",
    "\n",
    "movie_dir = out_dir / 'mp4_files'\n",
    "movie_dir.mkdir(exist_ok=True)\n",
    "\n",
    "#find subfolders\n",
    "folder_names = [f.name for f in sorted(data_dir.glob('UJP*'))]\n",
    "print(folder_names)"
   ]
  },
  {
   "cell_type": "code",
   "execution_count": 23,
   "metadata": {},
   "outputs": [],
   "source": [
    "#copy movies \n",
    "for folder in folder_names:\n",
    "    #get images in subfolder\n",
    "    movie_names = [f.name for f in sorted((data_dir / folder).glob('*TL*'))]\n",
    "\n",
    "    for idx, movie in enumerate(movie_names):        \n",
    "        #path to current position        \n",
    "        datafiles = [f.name for f in sorted((data_dir / folder / movie).glob('*.mp4'))]\n",
    "        mp4_name = '%s_%s.mp4' %(folder,movie)\n",
    "        \n",
    "        path_old = data_dir / folder / movie / datafiles[0]\n",
    "        path_new = movie_dir / mp4_name\n",
    "        \n",
    "        shutil.copyfile(path_old, path_new)"
   ]
  },
  {
   "cell_type": "code",
   "execution_count": null,
   "metadata": {},
   "outputs": [],
   "source": [
    "df_list = []\n",
    "for folder in folder_names:\n",
    "    #get images in subfolder\n",
    "    movie_names = [f.name for f in sorted((data_dir / folder).glob('*TL*'))]\n",
    "\n",
    "\n",
    "    for idx, movie in enumerate(movie_names):        \n",
    "        #path to current position        \n",
    "        datafiles = [f.name for f in sorted((data_dir / folder / movie).glob('*.pkl'))]\n",
    "        short_name = '%s_%s' %(folder,movie)\n",
    "                \n",
    "        df = delta_to_df(data_dir / folder / movie / datafiles[0])\n",
    "        \n",
    "        df['strain'] = folder\n",
    "        df['movie_name'] = short_name\n",
    "        df['replicate'] = idx\n",
    "        \n",
    "        #save data-frame\n",
    "        save_name = short_name + '.csv'\n",
    "        df.to_csv(csv_dir / save_name)\n",
    "\n",
    "        df_list.append(df)"
   ]
  },
  {
   "cell_type": "code",
   "execution_count": 25,
   "metadata": {},
   "outputs": [],
   "source": [
    "df_combined = pd.concat(df_list, ignore_index=True)"
   ]
  },
  {
   "cell_type": "code",
   "execution_count": 26,
   "metadata": {},
   "outputs": [],
   "source": [
    "save_name = 'pa_combined_data.csv'\n",
    "df_combined.to_csv(out_dir / save_name)"
   ]
  },
  {
   "cell_type": "code",
   "execution_count": 27,
   "metadata": {},
   "outputs": [
    {
     "data": {
      "text/html": [
       "<div>\n",
       "<style scoped>\n",
       "    .dataframe tbody tr th:only-of-type {\n",
       "        vertical-align: middle;\n",
       "    }\n",
       "\n",
       "    .dataframe tbody tr th {\n",
       "        vertical-align: top;\n",
       "    }\n",
       "\n",
       "    .dataframe thead th {\n",
       "        text-align: right;\n",
       "    }\n",
       "</style>\n",
       "<table border=\"1\" class=\"dataframe\">\n",
       "  <thead>\n",
       "    <tr style=\"text-align: right;\">\n",
       "      <th></th>\n",
       "      <th>id_seg</th>\n",
       "      <th>id_cell</th>\n",
       "      <th>id_par</th>\n",
       "      <th>id_colony</th>\n",
       "      <th>id_d1</th>\n",
       "      <th>id_d2</th>\n",
       "      <th>id_sib</th>\n",
       "      <th>frames</th>\n",
       "      <th>new_pole</th>\n",
       "      <th>old_pole</th>\n",
       "      <th>...</th>\n",
       "      <th>width</th>\n",
       "      <th>area</th>\n",
       "      <th>perimeter</th>\n",
       "      <th>fluo1</th>\n",
       "      <th>fluo2</th>\n",
       "      <th>x_pos</th>\n",
       "      <th>y_pos</th>\n",
       "      <th>strain</th>\n",
       "      <th>movie_name</th>\n",
       "      <th>replicate</th>\n",
       "    </tr>\n",
       "  </thead>\n",
       "  <tbody>\n",
       "    <tr>\n",
       "      <th>0</th>\n",
       "      <td>0</td>\n",
       "      <td>0</td>\n",
       "      <td>-1</td>\n",
       "      <td>0</td>\n",
       "      <td>-1</td>\n",
       "      <td>-1</td>\n",
       "      <td>-1</td>\n",
       "      <td>0</td>\n",
       "      <td>[4, 706]</td>\n",
       "      <td>[2, 706]</td>\n",
       "      <td>...</td>\n",
       "      <td>7.0</td>\n",
       "      <td>32.5</td>\n",
       "      <td>11</td>\n",
       "      <td>470.422222</td>\n",
       "      <td>411.577778</td>\n",
       "      <td>705.777778</td>\n",
       "      <td>2.955556</td>\n",
       "      <td>AKS1088</td>\n",
       "      <td>AKS1088_TL01_01</td>\n",
       "      <td>0</td>\n",
       "    </tr>\n",
       "    <tr>\n",
       "      <th>1</th>\n",
       "      <td>0</td>\n",
       "      <td>0</td>\n",
       "      <td>-1</td>\n",
       "      <td>0</td>\n",
       "      <td>-1</td>\n",
       "      <td>-1</td>\n",
       "      <td>-1</td>\n",
       "      <td>1</td>\n",
       "      <td>[4, 700]</td>\n",
       "      <td>[3, 700]</td>\n",
       "      <td>...</td>\n",
       "      <td>6.0</td>\n",
       "      <td>31.5</td>\n",
       "      <td>12</td>\n",
       "      <td>473.651163</td>\n",
       "      <td>400.348837</td>\n",
       "      <td>700.255814</td>\n",
       "      <td>2.813953</td>\n",
       "      <td>AKS1088</td>\n",
       "      <td>AKS1088_TL01_01</td>\n",
       "      <td>0</td>\n",
       "    </tr>\n",
       "    <tr>\n",
       "      <th>2</th>\n",
       "      <td>0</td>\n",
       "      <td>0</td>\n",
       "      <td>-1</td>\n",
       "      <td>0</td>\n",
       "      <td>-1</td>\n",
       "      <td>-1</td>\n",
       "      <td>-1</td>\n",
       "      <td>2</td>\n",
       "      <td>[3, 705]</td>\n",
       "      <td>[0, 699]</td>\n",
       "      <td>...</td>\n",
       "      <td>6.0</td>\n",
       "      <td>26.5</td>\n",
       "      <td>10</td>\n",
       "      <td>458.216216</td>\n",
       "      <td>372.648649</td>\n",
       "      <td>702.243243</td>\n",
       "      <td>2.405405</td>\n",
       "      <td>AKS1088</td>\n",
       "      <td>AKS1088_TL01_01</td>\n",
       "      <td>0</td>\n",
       "    </tr>\n",
       "    <tr>\n",
       "      <th>3</th>\n",
       "      <td>0</td>\n",
       "      <td>0</td>\n",
       "      <td>-1</td>\n",
       "      <td>0</td>\n",
       "      <td>-1</td>\n",
       "      <td>-1</td>\n",
       "      <td>-1</td>\n",
       "      <td>3</td>\n",
       "      <td>[2, 704]</td>\n",
       "      <td>[2, 703]</td>\n",
       "      <td>...</td>\n",
       "      <td>6.0</td>\n",
       "      <td>23.0</td>\n",
       "      <td>8</td>\n",
       "      <td>453.787879</td>\n",
       "      <td>371.757576</td>\n",
       "      <td>703.606061</td>\n",
       "      <td>2.242424</td>\n",
       "      <td>AKS1088</td>\n",
       "      <td>AKS1088_TL01_01</td>\n",
       "      <td>0</td>\n",
       "    </tr>\n",
       "    <tr>\n",
       "      <th>4</th>\n",
       "      <td>0</td>\n",
       "      <td>0</td>\n",
       "      <td>-1</td>\n",
       "      <td>0</td>\n",
       "      <td>-1</td>\n",
       "      <td>-1</td>\n",
       "      <td>-1</td>\n",
       "      <td>4</td>\n",
       "      <td>[3, 704]</td>\n",
       "      <td>[2, 704]</td>\n",
       "      <td>...</td>\n",
       "      <td>6.0</td>\n",
       "      <td>30.5</td>\n",
       "      <td>9</td>\n",
       "      <td>473.738095</td>\n",
       "      <td>368.166667</td>\n",
       "      <td>704.047619</td>\n",
       "      <td>2.642857</td>\n",
       "      <td>AKS1088</td>\n",
       "      <td>AKS1088_TL01_01</td>\n",
       "      <td>0</td>\n",
       "    </tr>\n",
       "  </tbody>\n",
       "</table>\n",
       "<p>5 rows × 22 columns</p>\n",
       "</div>"
      ],
      "text/plain": [
       "   id_seg  id_cell  id_par  id_colony  id_d1  id_d2  id_sib frames  new_pole  \\\n",
       "0       0        0      -1          0     -1     -1      -1      0  [4, 706]   \n",
       "1       0        0      -1          0     -1     -1      -1      1  [4, 700]   \n",
       "2       0        0      -1          0     -1     -1      -1      2  [3, 705]   \n",
       "3       0        0      -1          0     -1     -1      -1      3  [2, 704]   \n",
       "4       0        0      -1          0     -1     -1      -1      4  [3, 704]   \n",
       "\n",
       "   old_pole  ... width  area perimeter       fluo1       fluo2       x_pos  \\\n",
       "0  [2, 706]  ...   7.0  32.5        11  470.422222  411.577778  705.777778   \n",
       "1  [3, 700]  ...   6.0  31.5        12  473.651163  400.348837  700.255814   \n",
       "2  [0, 699]  ...   6.0  26.5        10  458.216216  372.648649  702.243243   \n",
       "3  [2, 703]  ...   6.0  23.0         8  453.787879  371.757576  703.606061   \n",
       "4  [2, 704]  ...   6.0  30.5         9  473.738095  368.166667  704.047619   \n",
       "\n",
       "      y_pos   strain       movie_name replicate  \n",
       "0  2.955556  AKS1088  AKS1088_TL01_01         0  \n",
       "1  2.813953  AKS1088  AKS1088_TL01_01         0  \n",
       "2  2.405405  AKS1088  AKS1088_TL01_01         0  \n",
       "3  2.242424  AKS1088  AKS1088_TL01_01         0  \n",
       "4  2.642857  AKS1088  AKS1088_TL01_01         0  \n",
       "\n",
       "[5 rows x 22 columns]"
      ]
     },
     "execution_count": 27,
     "metadata": {},
     "output_type": "execute_result"
    }
   ],
   "source": [
    "df_combined.head()"
   ]
  },
  {
   "cell_type": "code",
   "execution_count": 28,
   "metadata": {},
   "outputs": [
    {
     "data": {
      "text/plain": [
       "(587458, 22)"
      ]
     },
     "execution_count": 28,
     "metadata": {},
     "output_type": "execute_result"
    }
   ],
   "source": [
    "df_combined.shape"
   ]
  }
 ],
 "metadata": {
  "kernelspec": {
   "display_name": "Python 3 (ipykernel)",
   "language": "python",
   "name": "python3"
  },
  "language_info": {
   "codemirror_mode": {
    "name": "ipython",
    "version": 3
   },
   "file_extension": ".py",
   "mimetype": "text/x-python",
   "name": "python",
   "nbconvert_exporter": "python",
   "pygments_lexer": "ipython3",
   "version": "3.9.12"
  },
  "vscode": {
   "interpreter": {
    "hash": "04885f21a4bd9418df205c8169dbf35b8c72791b69b584ac7513023d01d78b79"
   }
  }
 },
 "nbformat": 4,
 "nbformat_minor": 4
}
