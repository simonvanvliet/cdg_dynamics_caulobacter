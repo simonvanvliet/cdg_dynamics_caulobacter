{
 "cells": [
  {
   "cell_type": "code",
   "execution_count": 1,
   "metadata": {
    "tags": [
     "hide-cell"
    ]
   },
   "outputs": [],
   "source": [
    "#path handling\n",
    "import pathlib\n",
    "import numpy as np\n",
    "\n",
    "#out of memory computation\n",
    "from dask_image.imread import imread\n",
    "import tifffile\n"
   ]
  },
  {
   "cell_type": "code",
   "execution_count": 26,
   "metadata": {},
   "outputs": [
    {
     "name": "stdout",
     "output_type": "stream",
     "text": [
      "['AKS1088', 'AKS1089', 'AKS1090', 'AKS1091', 'AKS1092', 'AKS1093', 'AKS1094', 'AKS1095', 'AKS1096', 'AKS1097', 'AKS1098', 'AKS1099', 'AKS1101', 'AKS1102', 'AKS1103', 'AKS1104', 'AKS1105', 'AKS1106']\n",
      "['20220311_AKS1088-1093_dense_TL01_01_R3D-1.tif', '20220311_AKS1088-1093_dense_TL01_02_R3D-1.tif', '20220311_AKS1088-1093_dense_TL01_03_R3D-1.tif', '20220311_AKS1088-1093_dense_TL01_04_R3D-1.tif', '20220311_AKS1088-1093_dense_TL01_05_R3D-1.tif']\n"
     ]
    }
   ],
   "source": [
    "#Specify folder with experimental data, we assume it contains a bunch of subfolders with each a bunch of tiff stacks.\n",
    "#Each subfolder is assume to be of a different strain/condition\n",
    "\n",
    "#set root dir\n",
    "im_path = pathlib.Path.home() / 'home' / 'Delta2_Caulobacter' / 'Twitching' / '20220830_PAO1wt_Twitching0.5Agar0.3Tryp.tif'\n",
    "\n",
    "root = pathlib.Path(pathlib.Path.home(), 'home', 'Delta2_Caulobacter', 'Twitching')\n",
    "process_dir = root / 'tiffiles'\n",
    "process_dir.mkdir(exist_ok=True)"
   ]
  },
  {
   "cell_type": "code",
   "execution_count": 30,
   "metadata": {},
   "outputs": [],
   "source": [
    "#set number of color channels in image\n",
    "n_channel = 3\n",
    "\n",
    "im_stack = imread(im_path) #load image with dask-image for out of memory processing \n",
    "newshape = (int(im_stack.shape[0]/n_channel), n_channel, *im_stack.shape[1:])\n",
    "im_stack = im_stack.reshape(newshape)\n",
    "    \n",
    "nframe =  im_stack.shape[0]   \n",
    "    \n",
    "for fr in range(nframe):\n",
    "    for ch in range(n_channel):\n",
    "        \n",
    "        imname = process_dir / ('pos0_ch%i_frm%.04i.tif' % (ch,fr))\n",
    "        tifffile.imwrite(imname, np.squeeze(im_stack[fr,ch,:,:]))"
   ]
  }
 ],
 "metadata": {
  "celltoolbar": "Tags",
  "kernelspec": {
   "display_name": "Python 3.9.13 ('i2i_env')",
   "language": "python",
   "name": "python3"
  },
  "language_info": {
   "codemirror_mode": {
    "name": "ipython",
    "version": 3
   },
   "file_extension": ".py",
   "mimetype": "text/x-python",
   "name": "python",
   "nbconvert_exporter": "python",
   "pygments_lexer": "ipython3",
   "version": "3.9.13"
  },
  "vscode": {
   "interpreter": {
    "hash": "7c6538b57b9d95695cc8c88818812a736980da96b6d92e389fbfaae31437292d"
   }
  }
 },
 "nbformat": 4,
 "nbformat_minor": 4
}
