{
 "cells": [
  {
   "cell_type": "markdown",
   "metadata": {},
   "source": [
    "# Convert delta output to Pandas dataframes"
   ]
  },
  {
   "cell_type": "code",
   "execution_count": null,
   "metadata": {},
   "outputs": [],
   "source": [
    "import pathlib\n",
    "import numpy as np\n",
    "import pandas as pd\n",
    "from delta_postprocess import delta_to_df \n"
   ]
  },
  {
   "cell_type": "code",
   "execution_count": null,
   "metadata": {},
   "outputs": [],
   "source": [
    "#set paths\n",
    "root = pathlib.Path(pathlib.Path.home(), 'home', 'Delta2_Caulobacter')\n",
    "data_dir = root / 'data' / 'processed_data'\n",
    "out_dir = root / 'output'\n",
    "out_dir.mkdir(exist_ok=True)\n",
    "\n",
    "csv_dir = out_dir / 'csv_files'\n",
    "csv_dir.mkdir(exist_ok=True)\n",
    "\n",
    "#find subfolders\n",
    "folder_names = [f.name for f in sorted(data_dir.glob('AKS*'))]\n",
    "[print(f) for f in folder_names]"
   ]
  },
  {
   "cell_type": "code",
   "execution_count": null,
   "metadata": {},
   "outputs": [],
   "source": [
    "\n",
    "df_list = []\n",
    "for folder in folder_names:\n",
    "    #get images in subfolder\n",
    "    movie_names = [f.name for f in sorted((data_dir / folder).glob('*TL*'))]\n",
    "\n",
    "\n",
    "    for idx, movie in enumerate(movie_names):        \n",
    "        #path to current position        \n",
    "        datafiles = [f.name for f in sorted((data_dir / folder / movie).glob('*.pkl'))]\n",
    "        \n",
    "        short_name = '%s_%s' %(folder,movie)\n",
    "        print(short_name)\n",
    "                \n",
    "        df = delta_to_df(data_dir / folder / movie / datafiles[0])\n",
    "        \n",
    "        df['strain'] = folder\n",
    "        df['movie_name'] = short_name\n",
    "        df['replicate'] = idx\n",
    "        \n",
    "        \n",
    "        #save data-frame\n",
    "        save_name = short_name + '.csv'\n",
    "        df.to_csv(csv_dir / save_name)\n",
    "\n",
    "        df_list.append(df)"
   ]
  },
  {
   "cell_type": "code",
   "execution_count": null,
   "metadata": {},
   "outputs": [],
   "source": [
    "df_combined = pd.concat(df_list, ignore_index=True)"
   ]
  },
  {
   "cell_type": "code",
   "execution_count": null,
   "metadata": {},
   "outputs": [],
   "source": [
    "save_name = 'caulobacter_combined_data.csv'\n",
    "df_combined.to_csv(out_dir / save_name)"
   ]
  },
  {
   "cell_type": "code",
   "execution_count": 1,
   "metadata": {},
   "outputs": [
    {
     "ename": "NameError",
     "evalue": "name 'df_combined' is not defined",
     "output_type": "error",
     "traceback": [
      "\u001b[0;31m---------------------------------------------------------------------------\u001b[0m",
      "\u001b[0;31mNameError\u001b[0m                                 Traceback (most recent call last)",
      "\u001b[1;32m/Users/simonvanvliet/switchdrive/Biozentrum/Code/Andreas/cdg_dynamics_caulobacter/delta_batch_convert.ipynb Cell 7'\u001b[0m in \u001b[0;36m<cell line: 1>\u001b[0;34m()\u001b[0m\n\u001b[0;32m----> <a href='vscode-notebook-cell:/Users/simonvanvliet/switchdrive/Biozentrum/Code/Andreas/cdg_dynamics_caulobacter/delta_batch_convert.ipynb#ch0000007?line=0'>1</a>\u001b[0m df_combined\u001b[39m.\u001b[39mhead()\n",
      "\u001b[0;31mNameError\u001b[0m: name 'df_combined' is not defined"
     ]
    }
   ],
   "source": [
    "df_combined.head()"
   ]
  }
 ],
 "metadata": {
  "kernelspec": {
   "display_name": "Python 3.9.12 ('i2i_env')",
   "language": "python",
   "name": "python3"
  },
  "language_info": {
   "codemirror_mode": {
    "name": "ipython",
    "version": 3
   },
   "file_extension": ".py",
   "mimetype": "text/x-python",
   "name": "python",
   "nbconvert_exporter": "python",
   "pygments_lexer": "ipython3",
   "version": "3.9.12"
  },
  "orig_nbformat": 4,
  "vscode": {
   "interpreter": {
    "hash": "04885f21a4bd9418df205c8169dbf35b8c72791b69b584ac7513023d01d78b79"
   }
  }
 },
 "nbformat": 4,
 "nbformat_minor": 2
}
